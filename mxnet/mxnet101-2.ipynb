{
 "cells": [
  {
   "cell_type": "code",
   "execution_count": 1,
   "metadata": {
    "ExecuteTime": {
     "end_time": "2018-01-17T09:34:32.584440Z",
     "start_time": "2018-01-17T09:34:31.639189Z"
    }
   },
   "outputs": [],
   "source": [
    "import matplotlib.pyplot as plt\n",
    "import datetime\n",
    "import mxnet as mx\n",
    "import mxnet.gluon as gluon\n",
    "from mxnet import ndarray as nd\n",
    "from mxnet.gluon import nn\n",
    "from mxnet import autograd\n",
    "from mxnet import init\n",
    "from jupyterthemes import jtplot\n",
    "jtplot.style(theme='onedork')"
   ]
  },
  {
   "cell_type": "code",
   "execution_count": 2,
   "metadata": {
    "ExecuteTime": {
     "end_time": "2018-01-17T09:34:33.286942Z",
     "start_time": "2018-01-17T09:34:32.587372Z"
    }
   },
   "outputs": [],
   "source": [
    "def transform(data, label):\n",
    "    return data.astype('float32')/255, label.astype('float32')\n",
    "mnist_train = gluon.data.vision.FashionMNIST(train=True, transform=transform)\n",
    "mnist_test = gluon.data.vision.FashionMNIST(train=False, transform=transform)"
   ]
  },
  {
   "cell_type": "code",
   "execution_count": 3,
   "metadata": {
    "ExecuteTime": {
     "end_time": "2018-01-17T09:34:33.824550Z",
     "start_time": "2018-01-17T09:34:33.288924Z"
    }
   },
   "outputs": [
    {
     "data": {
      "image/png": "[encoded data removed]",
      "text/plain": [
       "<matplotlib.figure.Figure at 0x7fb9f820f748>"
      ]
     },
     "metadata": {},
     "output_type": "display_data"
    },
    {
     "name": "stdout",
     "output_type": "stream",
     "text": [
      "['pullover', 'ankle boot', 'shirt', 't-shirt', 'dress,', 'coat', 'coat', 'sandal', 'coat']\n"
     ]
    }
   ],
   "source": [
    "def show_images(images):\n",
    "    n = images.shape[0]\n",
    "    _, figs = plt.subplots(1, n, figsize=(15, 15))\n",
    "    for i in range(n):\n",
    "        figs[i].imshow(images[i].reshape((28, 28)).asnumpy())\n",
    "        figs[i].axes.get_xaxis().set_visible(False)\n",
    "        figs[i].axes.get_yaxis().set_visible(False)\n",
    "    plt.show()\n",
    "\n",
    "def get_text_labels(label):\n",
    "    text_labels = [\n",
    "        't-shirt', 'trouser', 'pullover', 'dress,', 'coat',\n",
    "        'sandal', 'shirt', 'sneaker', 'bag', 'ankle boot'\n",
    "    ]\n",
    "    return [text_labels[int(i)] for i in label]\n",
    "\n",
    "data, label = mnist_train[0:9]\n",
    "show_images(data)\n",
    "print(get_text_labels(label))"
   ]
  },
  {
   "cell_type": "code",
   "execution_count": 4,
   "metadata": {
    "ExecuteTime": {
     "end_time": "2018-01-17T09:34:33.830137Z",
     "start_time": "2018-01-17T09:34:33.826294Z"
    }
   },
   "outputs": [],
   "source": [
    "ctx = mx.gpu(1)\n",
    "batch_size = 256\n",
    "train_data = gluon.data.DataLoader(mnist_train, batch_size, shuffle=True)\n",
    "test_data = gluon.data.DataLoader(mnist_test, batch_size, shuffle=False)"
   ]
  },
  {
   "cell_type": "code",
   "execution_count": 5,
   "metadata": {
    "ExecuteTime": {
     "end_time": "2018-01-17T09:34:33.957086Z",
     "start_time": "2018-01-17T09:34:33.831628Z"
    }
   },
   "outputs": [],
   "source": [
    "def accuracy(output, label):\n",
    "    return nd.mean(output.argmax(axis=1)==label).asscalar()\n",
    "\n",
    "\n",
    "def evaluate_accuracy(data_iterator, net, ctx=ctx):\n",
    "    acc, loss = 0.0, 0.0\n",
    "    for data, label in data_iterator:\n",
    "        label = label.as_in_context(ctx)\n",
    "        acc += accuracy(net(data.as_in_context(ctx)), label)\n",
    "        loss += nd.mean(softmax_cross_entropy(net(data.as_in_context(ctx)), label)).asscalar()\n",
    "    return acc / len(data_iterator), loss / len(data_iterator)"
   ]
  },
  {
   "cell_type": "markdown",
   "metadata": {},
   "source": [
    "# Fully connect dense neural network"
   ]
  },
  {
   "cell_type": "code",
   "execution_count": 6,
   "metadata": {
    "ExecuteTime": {
     "end_time": "2018-01-17T09:34:34.090495Z",
     "start_time": "2018-01-17T09:34:33.958880Z"
    }
   },
   "outputs": [],
   "source": [
    "net = nn.Sequential()"
   ]
  },
  {
   "cell_type": "code",
   "execution_count": null,
   "metadata": {
    "ExecuteTime": {
     "start_time": "2018-01-17T09:34:31.411Z"
    }
   },
   "outputs": [],
   "source": [
    "with net.name_scope():\n",
    "    net.add(gluon.nn.Flatten())\n",
    "    net.add(gluon.nn.Dense(256, activation=\"relu\"))\n",
    "    net.add(gluon.nn.Dense(10))\n",
    "net.initialize(ctx=ctx, init=init.Xavier())"
   ]
  },
  {
   "cell_type": "code",
   "execution_count": null,
   "metadata": {
    "ExecuteTime": {
     "start_time": "2018-01-17T09:34:31.412Z"
    },
    "scrolled": true
   },
   "outputs": [
    {
     "name": "stdout",
     "output_type": "stream",
     "text": [
      "Epoch 0. Train loss: 0.744318, Train acc 75.06%, Test loss 0.559075, Test acc 81.42%, Time 00:00:12, lr 0.1\n",
      "Epoch 1. Train loss: 0.517755, Train acc 82.13%, Test loss 0.504297, Test acc 81.94%, Time 00:00:11, lr 0.1\n",
      "Epoch 2. Train loss: 0.470942, Train acc 83.60%, Test loss 0.447262, Test acc 85.12%, Time 00:00:11, lr 0.1\n",
      "Epoch 3. Train loss: 0.435122, Train acc 84.94%, Test loss 0.425152, Test acc 85.24%, Time 00:00:11, lr 0.1\n",
      "Epoch 4. Train loss: 0.417606, Train acc 85.38%, Test loss 0.399240, Test acc 86.62%, Time 00:00:11, lr 0.1\n",
      "Epoch 5. Train loss: 0.400548, Train acc 85.86%, Test loss 0.403465, Test acc 85.81%, Time 00:00:11, lr 0.1\n"
     ]
    }
   ],
   "source": [
    "lr = 0.1\n",
    "softmax_cross_entropy = gluon.loss.SoftmaxCrossEntropyLoss()\n",
    "trainer = gluon.Trainer(net.collect_params(), 'sgd', {'learning_rate': lr})\n",
    "\n",
    "train_loss_array = []\n",
    "test_loss_array = []\n",
    "train_acc_array = []\n",
    "test_acc_array = []\n",
    "for epoch in range(50):\n",
    "    train_loss = 0.\n",
    "    train_acc = 0.\n",
    "    prev_time = datetime.datetime.now()\n",
    "    for data, label in train_data:\n",
    "        label = label.as_in_context(ctx)\n",
    "        with autograd.record():\n",
    "            output = net(data.as_in_context(ctx))\n",
    "            loss = softmax_cross_entropy(output, label)\n",
    "        loss.backward()\n",
    "        trainer.step(batch_size)\n",
    "        train_loss += nd.mean(loss).asscalar()\n",
    "        train_acc += accuracy(output, label)\n",
    "    test_acc, test_loss = evaluate_accuracy(test_data, net)\n",
    "    cur_time = datetime.datetime.now()\n",
    "    h, remainder = divmod((cur_time - prev_time).seconds, 3600)\n",
    "    m, s = divmod(remainder, 60)\n",
    "    time_str = \"%02d:%02d:%02d\" % (h, m, s)\n",
    "    prev_time = cur_time\n",
    "    train_loss_array.append(train_loss/len(train_data))\n",
    "    train_acc_array.append(train_acc/len(train_data))\n",
    "    test_loss_array.append(test_loss)\n",
    "    test_acc_array.append(test_acc)\n",
    "    print(\"Epoch %d. Train loss: %f, Train acc %.2f%%, Test loss %f, Test acc %.2f%%, Time %s, lr %s\" % (\n",
    "        epoch, train_loss/len(train_data), train_acc/len(train_data) * 100, test_loss, test_acc * 100, time_str, str(lr)))"
   ]
  },
  {
   "cell_type": "code",
   "execution_count": null,
   "metadata": {
    "ExecuteTime": {
     "start_time": "2018-01-17T09:34:31.414Z"
    }
   },
   "outputs": [],
   "source": [
    "print(net)"
   ]
  },
  {
   "cell_type": "code",
   "execution_count": null,
   "metadata": {
    "ExecuteTime": {
     "start_time": "2018-01-17T09:34:31.415Z"
    }
   },
   "outputs": [],
   "source": [
    "plt.figure(figsize=(16, 9))\n",
    "plt.plot(train_loss_array, 'r-.',test_loss_array, 'b-.')\n",
    "plt.legend(['train', 'valid'])\n",
    "plt.title('Loss')\n",
    "plt.xlabel('epochs')\n",
    "plt.ylabel('loss')\n",
    "plt.show()"
   ]
  },
  {
   "cell_type": "code",
   "execution_count": null,
   "metadata": {
    "ExecuteTime": {
     "start_time": "2018-01-17T09:34:31.416Z"
    }
   },
   "outputs": [],
   "source": [
    "plt.figure(figsize=(16, 9))\n",
    "plt.plot(train_acc_array, 'r-.',test_acc_array, 'b-.')\n",
    "plt.legend(['train', 'valid'])\n",
    "plt.title('Accuracy')\n",
    "plt.xlabel('epochs')\n",
    "plt.ylabel('accuracy')\n",
    "plt.show()"
   ]
  },
  {
   "cell_type": "markdown",
   "metadata": {},
   "source": [
    "# CNN"
   ]
  },
  {
   "cell_type": "code",
   "execution_count": null,
   "metadata": {
    "ExecuteTime": {
     "start_time": "2018-01-17T09:34:31.417Z"
    }
   },
   "outputs": [],
   "source": [
    "cnn_net = nn.Sequential()"
   ]
  },
  {
   "cell_type": "code",
   "execution_count": null,
   "metadata": {
    "ExecuteTime": {
     "start_time": "2018-01-17T09:34:31.418Z"
    }
   },
   "outputs": [],
   "source": [
    "with cnn_net.name_scope():\n",
    "    cnn_net.add(nn.Conv2D(channels=20, kernel_size=3, padding=1, strides=1))\n",
    "    cnn_net.add(nn.MaxPool2D(pool_size=2, strides=1, padding=1))\n",
    "    cnn_net.add(nn.Conv2D(channels=50, kernel_size=3, padding=1, strides=1))\n",
    "    cnn_net.add(nn.MaxPool2D(pool_size=2, strides=1, padding=1))\n",
    "    cnn_net.add(nn.Flatten())\n",
    "    cnn_net.add(nn.Dense(128, activation='relu'))\n",
    "    cnn_net.add(nn.Dense(10))\n",
    "    \n",
    "cnn_net.initialize(ctx=ctx, init=init.Xavier())"
   ]
  },
  {
   "cell_type": "code",
   "execution_count": null,
   "metadata": {
    "ExecuteTime": {
     "start_time": "2018-01-17T09:34:31.420Z"
    },
    "scrolled": true
   },
   "outputs": [],
   "source": [
    "lr = 0.1\n",
    "trainer = gluon.Trainer(cnn_net.collect_params(), 'sgd', {'learning_rate': lr, 'wd': 1e-5})\n",
    "\n",
    "train_loss_array = []\n",
    "test_loss_array = []\n",
    "train_acc_array = []\n",
    "test_acc_array = []\n",
    "for epoch in range(50):\n",
    "    train_loss = 0.0\n",
    "    train_acc = 0.0\n",
    "    prev_time = datetime.datetime.now()\n",
    "    for data, label in train_data:\n",
    "        label = label.as_in_context(ctx)\n",
    "        with autograd.record():\n",
    "            output = cnn_net(data.as_in_context(ctx))\n",
    "            loss = softmax_cross_entropy(output, label)\n",
    "        loss.backward()\n",
    "        trainer.step(batch_size)\n",
    "        train_loss += nd.mean(loss).asscalar()\n",
    "        train_acc += accuracy(output, label)\n",
    "    test_acc, test_loss = evaluate_accuracy(test_data, cnn_net)\n",
    "    cur_time = datetime.datetime.now()\n",
    "    h, remainder = divmod((cur_time - prev_time).seconds, 3600)\n",
    "    m, s = divmod(remainder, 60)\n",
    "    time_str = \"%02d:%02d:%02d\" % (h, m, s)\n",
    "    prev_time = cur_time\n",
    "    train_loss_array.append(train_loss/len(train_data))\n",
    "    train_acc_array.append(train_acc/len(train_data))\n",
    "    test_loss_array.append(test_loss)\n",
    "    test_acc_array.append(test_acc)\n",
    "    print(\"Epoch %d. Train loss: %f, Train acc %.2f%%, Test loss %f, Test acc %.2f%%, Time %s, lr %s\" % (\n",
    "        epoch, train_loss/len(train_data), train_acc/len(train_data) * 100, test_loss, test_acc * 100, time_str, str(lr)))"
   ]
  },
  {
   "cell_type": "code",
   "execution_count": null,
   "metadata": {
    "ExecuteTime": {
     "start_time": "2018-01-17T09:34:31.421Z"
    }
   },
   "outputs": [],
   "source": [
    "plt.figure(figsize=(16, 9))\n",
    "plt.plot(train_loss_array, 'r-.',test_loss_array, 'b-.')\n",
    "plt.legend(['train', 'valid'])\n",
    "plt.title('Loss')\n",
    "plt.xlabel('epochs')\n",
    "plt.ylabel('loss')\n",
    "plt.show()"
   ]
  },
  {
   "cell_type": "code",
   "execution_count": null,
   "metadata": {
    "ExecuteTime": {
     "start_time": "2018-01-17T09:34:31.422Z"
    }
   },
   "outputs": [],
   "source": [
    "plt.figure(figsize=(16, 9))\n",
    "plt.plot(train_acc_array, 'r-.',test_acc_array, 'b-.')\n",
    "plt.legend(['train', 'valid'])\n",
    "plt.title('Accuracy')\n",
    "plt.xlabel('epochs')\n",
    "plt.ylabel('accuracy')\n",
    "plt.show()"
   ]
  }
 ],
 "metadata": {
  "kernelspec": {
   "display_name": "Python 3",
   "language": "python",
   "name": "python3"
  },
  "language_info": {
   "codemirror_mode": {
    "name": "ipython",
    "version": 3
   },
   "file_extension": ".py",
   "mimetype": "text/x-python",
   "name": "python",
   "nbconvert_exporter": "python",
   "pygments_lexer": "ipython3",
   "version": "3.6.4"
  }
 },
 "nbformat": 4,
 "nbformat_minor": 2
}
