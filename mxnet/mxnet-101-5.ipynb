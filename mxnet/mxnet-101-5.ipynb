{
 "cells": [
  {
   "cell_type": "code",
   "execution_count": 1,
   "metadata": {
    "ExecuteTime": {
     "end_time": "2018-02-12T02:47:10.131896Z",
     "start_time": "2018-02-12T02:47:08.726214Z"
    }
   },
   "outputs": [],
   "source": [
    "%matplotlib inline\n",
    "import matplotlib.pyplot as plt\n",
    "import os\n",
    "import numpy as np\n",
    "import mxnet as mx\n",
    "from mxnet import nd, autograd, gluon\n",
    "from jupyterthemes import jtplot\n",
    "jtplot.style(theme='onedork', grid=False)"
   ]
  },
  {
   "cell_type": "code",
   "execution_count": 2,
   "metadata": {
    "ExecuteTime": {
     "end_time": "2018-02-12T02:47:10.145325Z",
     "start_time": "2018-02-12T02:47:10.135416Z"
    }
   },
   "outputs": [],
   "source": [
    "dataset = np.array([[2.7810836, 2.550537003, 0],\n",
    "                    [1.465489372, 2.362125076, 0],\n",
    "                    [3.396561688, 4.400293529, 0],\n",
    "                    [1.38807019, 1.850220317, 0],\n",
    "                    [3.06407232, 3.005305973, 0],\n",
    "                    [7.627531214, 2.759262235, 1],\n",
    "                    [5.332441248, 2.088626775, 1],\n",
    "                    [6.922596716, 1.77106367, 1],\n",
    "                    [8.675418651, -0.242068655, 1],\n",
    "                    [7.673756466, 3.508563011, 1]])"
   ]
  },
  {
   "cell_type": "code",
   "execution_count": 3,
   "metadata": {
    "ExecuteTime": {
     "end_time": "2018-02-12T02:47:10.411853Z",
     "start_time": "2018-02-12T02:47:10.148094Z"
    }
   },
   "outputs": [
    {
     "data": {
      "image/png": "[encoded data removed]",
      "text/plain": [
       "<matplotlib.figure.Figure at 0x7fd615e4c4a8>"
      ]
     },
     "metadata": {},
     "output_type": "display_data"
    }
   ],
   "source": [
    "plt.scatter(dataset[:, 0], dataset[:, 1], c=dataset[:, 2])\n",
    "plt.show()"
   ]
  },
  {
   "cell_type": "code",
   "execution_count": 4,
   "metadata": {
    "ExecuteTime": {
     "end_time": "2018-02-12T02:47:10.420135Z",
     "start_time": "2018-02-12T02:47:10.414511Z"
    }
   },
   "outputs": [],
   "source": [
    "def initialize_layer(num_features, num_hidden):\n",
    "    weights = np.random.uniform(-0.1, 0.1, num_features * num_hidden).reshape((num_features, num_hidden))\n",
    "    return weights"
   ]
  },
  {
   "cell_type": "code",
   "execution_count": 5,
   "metadata": {
    "ExecuteTime": {
     "end_time": "2018-02-12T02:47:10.553726Z",
     "start_time": "2018-02-12T02:47:10.422398Z"
    }
   },
   "outputs": [],
   "source": [
    "def sigmoid(weights, inputs):\n",
    "    z = np.dot(inputs, weights)\n",
    "    return 1 / (1 + np.exp(-z))"
   ]
  },
  {
   "cell_type": "code",
   "execution_count": 6,
   "metadata": {
    "ExecuteTime": {
     "end_time": "2018-02-12T02:47:10.638220Z",
     "start_time": "2018-02-12T02:47:10.556180Z"
    }
   },
   "outputs": [],
   "source": [
    "def sigmoid_derivative(weights, inputs):\n",
    "    z = sigmoid(weights, inputs)\n",
    "    return z * (1 - z)"
   ]
  },
  {
   "cell_type": "code",
   "execution_count": 7,
   "metadata": {
    "ExecuteTime": {
     "end_time": "2018-02-12T02:47:10.733230Z",
     "start_time": "2018-02-12T02:47:10.640618Z"
    }
   },
   "outputs": [],
   "source": [
    "def softmax_cross_entropy(y, y_hat):\n",
    "    return -np.sum(y * np.log(y_hat) + (1 - y) * np.log(1 - y_hat))"
   ]
  },
  {
   "cell_type": "code",
   "execution_count": 8,
   "metadata": {
    "ExecuteTime": {
     "end_time": "2018-02-12T02:47:10.833470Z",
     "start_time": "2018-02-12T02:47:10.735585Z"
    }
   },
   "outputs": [],
   "source": [
    "def accuracy(y, y_hat):\n",
    "    count = 0\n",
    "    for i in range(len(y)):\n",
    "        if y[i] == y_hat[i]:\n",
    "            count += 1\n",
    "    return count / len(y)"
   ]
  },
  {
   "cell_type": "code",
   "execution_count": 9,
   "metadata": {
    "ExecuteTime": {
     "end_time": "2018-02-12T02:47:10.954934Z",
     "start_time": "2018-02-12T02:47:10.836208Z"
    }
   },
   "outputs": [],
   "source": [
    "def forwark_propagate(network, inputs):\n",
    "    outputs = []\n",
    "    input_data = [inputs]\n",
    "    outputs_derivative = []\n",
    "    next_inputs = inputs\n",
    "    for i in range(len(network)):\n",
    "        input_data.append(np.dot(next_inputs, network[i]))\n",
    "        output = sigmoid(network[i], next_inputs)\n",
    "        output_d = sigmoid_derivative(network[i], next_inputs)\n",
    "        outputs.append(output)\n",
    "        outputs_derivative.append(output_d)\n",
    "        next_inputs = output.copy()\n",
    "    return outputs, outputs_derivative, input_data[:len(network)]"
   ]
  },
  {
   "cell_type": "code",
   "execution_count": 10,
   "metadata": {
    "ExecuteTime": {
     "end_time": "2018-02-12T02:47:11.080927Z",
     "start_time": "2018-02-12T02:47:10.957031Z"
    }
   },
   "outputs": [],
   "source": [
    "def backward_propagate(network, outputs, outputs_derivative, inputs, y_true):\n",
    "    gradients = [1 for _ in range(len(network))]\n",
    "    deltas = [1 for _ in range(len(network))]\n",
    "    for i in reversed(range(len(network))):\n",
    "        if i == len(network) - 1:\n",
    "#             delta = y_true / outputs[i].flatten() - (1 - y_true) / (1 - outputs[i].flatten())\n",
    "            delta = -(y_true - outputs[i].flatten())\n",
    "            delta = delta.reshape(outputs[i].shape)\n",
    "#             delta = outputs_derivative[i] * delta\n",
    "            deltas[i] = delta\n",
    "            gradient = np.dot(inputs[i].T, delta)\n",
    "            gradients[i] = gradient\n",
    "        else:\n",
    "            delta = outputs_derivative[i] * np.dot(deltas[i + 1], network[i + 1].T)\n",
    "            deltas[i] = delta\n",
    "            gradient = np.dot(inputs[i].T, delta)\n",
    "            gradients[i] = gradient\n",
    "    return gradients"
   ]
  },
  {
   "cell_type": "code",
   "execution_count": 11,
   "metadata": {
    "ExecuteTime": {
     "end_time": "2018-02-12T02:47:11.205887Z",
     "start_time": "2018-02-12T02:47:11.083684Z"
    }
   },
   "outputs": [],
   "source": [
    "network = []\n",
    "# network.append(initialize_layer(2, 1))\n",
    "network.append(initialize_layer(2, 4))\n",
    "network.append(initialize_layer(4, 1))"
   ]
  },
  {
   "cell_type": "code",
   "execution_count": 12,
   "metadata": {
    "ExecuteTime": {
     "end_time": "2018-02-12T02:47:11.314725Z",
     "start_time": "2018-02-12T02:47:11.208686Z"
    },
    "scrolled": true
   },
   "outputs": [
    {
     "name": "stdout",
     "output_type": "stream",
     "text": [
      "Epoch 0, Accu 50.00%\n",
      "Epoch 1, Accu 50.00%\n",
      "Epoch 2, Accu 50.00%\n",
      "Epoch 3, Accu 50.00%\n",
      "Epoch 4, Accu 50.00%\n",
      "Epoch 5, Accu 60.00%\n",
      "Epoch 6, Accu 60.00%\n",
      "Epoch 7, Accu 90.00%\n",
      "Epoch 8, Accu 100.00%\n",
      "Epoch 9, Accu 100.00%\n",
      "Epoch 10, Accu 100.00%\n",
      "Epoch 11, Accu 100.00%\n",
      "Epoch 12, Accu 100.00%\n",
      "Epoch 13, Accu 100.00%\n",
      "Epoch 14, Accu 100.00%\n",
      "Epoch 15, Accu 100.00%\n",
      "Epoch 16, Accu 100.00%\n",
      "Epoch 17, Accu 100.00%\n",
      "Epoch 18, Accu 100.00%\n",
      "Epoch 19, Accu 100.00%\n"
     ]
    }
   ],
   "source": [
    "for epoch in range(20):\n",
    "    output, output_d, inputs = forwark_propagate(network, dataset[:, :2])\n",
    "    gradients = backward_propagate(network, output, output_d, inputs, dataset[:, 2])\n",
    "    for i in range(len(network)):\n",
    "        network[i] -= 0.1 * gradients[i]\n",
    "    res = []\n",
    "    for i in output[len(network) - 1]:\n",
    "        if i < 0.5:\n",
    "            res.append(0)\n",
    "        else:\n",
    "            res.append(1)\n",
    "    print('Epoch %s, Accu %.2f%%' %(str(epoch), accuracy(dataset[:, 2], res)*100))"
   ]
  }
 ],
 "metadata": {
  "kernelspec": {
   "display_name": "Python 3",
   "language": "python",
   "name": "python3"
  },
  "language_info": {
   "codemirror_mode": {
    "name": "ipython",
    "version": 3
   },
   "file_extension": ".py",
   "mimetype": "text/x-python",
   "name": "python",
   "nbconvert_exporter": "python",
   "pygments_lexer": "ipython3",
   "version": "3.6.4"
  }
 },
 "nbformat": 4,
 "nbformat_minor": 2
}
