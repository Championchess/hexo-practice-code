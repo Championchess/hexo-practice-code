{
 "cells": [
  {
   "cell_type": "code",
   "execution_count": 1,
   "metadata": {
    "ExecuteTime": {
     "end_time": "2018-08-02T02:35:18.055231Z",
     "start_time": "2018-08-02T02:35:17.749550Z"
    }
   },
   "outputs": [],
   "source": [
    "import torch\n",
    "import torch.utils.data.dataloader as dataloader\n",
    "import torch.nn as nn\n",
    "import torch.nn.functional as F\n",
    "import torch.autograd as autograd\n",
    "import torch.optim as optim\n",
    "import os\n",
    "import re\n",
    "import sys\n",
    "import gc\n",
    "import time\n",
    "import copy\n",
    "import numpy as np\n",
    "from collections import Counter\n",
    "from tqdm import tqdm"
   ]
  },
  {
   "cell_type": "code",
   "execution_count": 2,
   "metadata": {
    "ExecuteTime": {
     "end_time": "2018-08-02T02:35:29.693490Z",
     "start_time": "2018-08-02T02:35:18.057150Z"
    }
   },
   "outputs": [
    {
     "name": "stdout",
     "output_type": "stream",
     "text": [
      "4121929\n"
     ]
    }
   ],
   "source": [
    "text = []\n",
    "for file in os.listdir('Holmes_Training_Data/'):\n",
    "    with open(os.path.join('Holmes_Training_Data', file), 'r', errors='ignore') as f:\n",
    "        text.extend(f.read().splitlines())\n",
    "text = [x.replace('*', '') for x in text]\n",
    "text = [re.sub('[^ \\fA-Za-z0-9_]', '', x) for x in text]\n",
    "text = [x for x in text if x != '']\n",
    "print(len(text))\n",
    "# text = text[:1000000]"
   ]
  },
  {
   "cell_type": "code",
   "execution_count": 3,
   "metadata": {
    "ExecuteTime": {
     "end_time": "2018-08-02T02:35:36.282042Z",
     "start_time": "2018-08-02T02:35:29.696495Z"
    }
   },
   "outputs": [
    {
     "data": {
      "text/plain": [
       "1687"
      ]
     },
     "execution_count": 3,
     "metadata": {},
     "output_type": "execute_result"
    }
   ],
   "source": [
    "raw_text = []\n",
    "for x in text:\n",
    "    raw_text.extend(x.split(' '))\n",
    "raw_text = [x for x in raw_text if x != '']\n",
    "del text\n",
    "gc.collect()"
   ]
  },
  {
   "cell_type": "code",
   "execution_count": 4,
   "metadata": {
    "ExecuteTime": {
     "end_time": "2018-08-02T02:35:45.482349Z",
     "start_time": "2018-08-02T02:35:36.284546Z"
    }
   },
   "outputs": [],
   "source": [
    "vocab = set(raw_text)\n",
    "vocab_size = len(vocab)\n",
    "freqs = Counter(raw_text)"
   ]
  },
  {
   "cell_type": "code",
   "execution_count": 5,
   "metadata": {
    "ExecuteTime": {
     "end_time": "2018-08-02T02:37:00.846768Z",
     "start_time": "2018-08-02T02:35:45.484270Z"
    }
   },
   "outputs": [
    {
     "name": "stdout",
     "output_type": "stream",
     "text": [
      "[(['The', 'Project', 'Etext', 'of'], 'Gutenberg'), (['Project', 'Gutenberg', 'of', 'Reminiscences'], 'Etext'), (['Gutenberg', 'Etext', 'Reminiscences', 'of'], 'of'), (['Etext', 'of', 'of', 'Tolstoy'], 'Reminiscences'), (['of', 'Reminiscences', 'Tolstoy', 'Copyright'], 'of')]\n"
     ]
    }
   ],
   "source": [
    "def make_context_vector(context, word_to_ix):\n",
    "    idxs = [word_to_ix[w] for w in context]\n",
    "    return torch.tensor(idxs, dtype=torch.long)\n",
    "word_to_ix = {word: i for i, word in enumerate(vocab)}\n",
    "ix_to_word = {i: word for i, word in enumerate(vocab)}\n",
    "data = []\n",
    "for i in range(2, len(raw_text) - 2):\n",
    "    context = [raw_text[i - 2], raw_text[i - 1],\n",
    "               raw_text[i + 1], raw_text[i + 2]]\n",
    "    target = raw_text[i]\n",
    "    data.append((context, target))\n",
    "print(data[:5])"
   ]
  },
  {
   "cell_type": "code",
   "execution_count": 6,
   "metadata": {
    "ExecuteTime": {
     "end_time": "2018-08-02T02:37:08.249634Z",
     "start_time": "2018-08-02T02:37:00.848506Z"
    }
   },
   "outputs": [
    {
     "data": {
      "text/plain": [
       "0"
      ]
     },
     "execution_count": 6,
     "metadata": {},
     "output_type": "execute_result"
    }
   ],
   "source": [
    "freqs_pow = torch.Tensor([freqs[ix_to_word[i]] for i in range(vocab_size)]).pow(0.75)\n",
    "dist = freqs_pow / freqs_pow.sum()\n",
    "del raw_text\n",
    "gc.collect()"
   ]
  },
  {
   "cell_type": "code",
   "execution_count": 7,
   "metadata": {
    "ExecuteTime": {
     "end_time": "2018-08-02T02:37:08.256751Z",
     "start_time": "2018-08-02T02:37:08.251208Z"
    }
   },
   "outputs": [],
   "source": [
    "def neg_sample(num_samples, positives=[]):\n",
    "    w = np.random.choice(len(dist), (len(positives), num_samples), p=dist.numpy())\n",
    "    if positives.is_cuda:\n",
    "        return torch.tensor(w).to(device)\n",
    "    else:\n",
    "        return torch.tensor(w)"
   ]
  },
  {
   "cell_type": "code",
   "execution_count": 8,
   "metadata": {
    "ExecuteTime": {
     "end_time": "2018-08-02T02:37:08.348539Z",
     "start_time": "2018-08-02T02:37:08.258209Z"
    }
   },
   "outputs": [],
   "source": [
    "class CBOW(nn.Module):\n",
    "    def __init__(self, vocab_size, embedding_dim, context_size):\n",
    "        super(CBOW, self).__init__()\n",
    "        self.embeddings = nn.Embedding(vocab_size, embedding_dim)\n",
    "        self.embeddings.weight.data.uniform_(-0.5 / vocab_size, 0.5 / vocab_size)\n",
    "    def forward(self, inputs, label):\n",
    "        negs = neg_sample(5, label)\n",
    "        u_embeds = self.embeddings(label).view(len(label), -1)\n",
    "        v_embeds_pos = self.embeddings(inputs).mean(dim=1)\n",
    "        v_embeds_neg = self.embeddings(negs).mean(dim=1)\n",
    "        loss1 = torch.diag(torch.matmul(u_embeds, v_embeds_pos.transpose(0, 1)))\n",
    "        loss2 = torch.diag(torch.matmul(u_embeds, v_embeds_neg.transpose(0, 1)))\n",
    "        loss1 = -torch.log(1 / (1 + torch.exp(-loss1)))\n",
    "        loss2 = -torch.log(1 / (1 + torch.exp(loss2)))\n",
    "        loss = (loss1.mean() + loss2.mean())\n",
    "        return(loss)"
   ]
  },
  {
   "cell_type": "code",
   "execution_count": 9,
   "metadata": {
    "ExecuteTime": {
     "end_time": "2018-08-02T02:37:15.437812Z",
     "start_time": "2018-08-02T02:37:08.351435Z"
    }
   },
   "outputs": [],
   "source": [
    "CONTEXT_SIZE = 2\n",
    "batch_size = 8192\n",
    "device = torch.device('cuda:0')\n",
    "losses = []\n",
    "# loss_function = nn.NLLLoss()\n",
    "model = CBOW(vocab_size, embedding_dim=100,\n",
    "             context_size=CONTEXT_SIZE*2)\n",
    "model.to(device)\n",
    "# model = torch.nn.DataParallel(model, device_ids=[0, 1]).cuda()\n",
    "optimizer = optim.SGD(model.parameters(), lr=0.1)"
   ]
  },
  {
   "cell_type": "code",
   "execution_count": 10,
   "metadata": {
    "ExecuteTime": {
     "end_time": "2018-08-02T02:37:15.444909Z",
     "start_time": "2018-08-02T02:37:15.440900Z"
    }
   },
   "outputs": [],
   "source": [
    "data_iter = torch.utils.data.DataLoader(data, batch_size=batch_size,\n",
    "                                        shuffle=False, num_workers=2)"
   ]
  },
  {
   "cell_type": "code",
   "execution_count": 11,
   "metadata": {
    "ExecuteTime": {
     "end_time": "2018-08-02T04:16:58.966843Z",
     "start_time": "2018-08-02T02:37:15.447298Z"
    },
    "scrolled": true
   },
   "outputs": [
    {
     "name": "stderr",
     "output_type": "stream",
     "text": [
      "100%|██████████| 5044/5044 [09:54<00:00,  8.49it/s]\n",
      "  0%|          | 0/5044 [00:00<?, ?it/s]"
     ]
    },
    {
     "name": "stdout",
     "output_type": "stream",
     "text": [
      "epoch 0 loss 6992.2822\n"
     ]
    },
    {
     "name": "stderr",
     "output_type": "stream",
     "text": [
      "100%|██████████| 5044/5044 [10:00<00:00,  8.40it/s]\n",
      "  0%|          | 0/5044 [00:00<?, ?it/s]"
     ]
    },
    {
     "name": "stdout",
     "output_type": "stream",
     "text": [
      "epoch 1 loss 6992.2822\n"
     ]
    },
    {
     "name": "stderr",
     "output_type": "stream",
     "text": [
      "100%|██████████| 5044/5044 [09:40<00:00,  8.69it/s]\n",
      "  0%|          | 0/5044 [00:00<?, ?it/s]"
     ]
    },
    {
     "name": "stdout",
     "output_type": "stream",
     "text": [
      "epoch 2 loss 6992.2822\n"
     ]
    },
    {
     "name": "stderr",
     "output_type": "stream",
     "text": [
      "100%|██████████| 5044/5044 [09:57<00:00,  8.45it/s]\n",
      "  0%|          | 0/5044 [00:00<?, ?it/s]"
     ]
    },
    {
     "name": "stdout",
     "output_type": "stream",
     "text": [
      "epoch 3 loss 6992.2651\n"
     ]
    },
    {
     "name": "stderr",
     "output_type": "stream",
     "text": [
      "100%|██████████| 5044/5044 [09:44<00:00,  8.62it/s]\n",
      "  0%|          | 0/5044 [00:00<?, ?it/s]"
     ]
    },
    {
     "name": "stdout",
     "output_type": "stream",
     "text": [
      "epoch 4 loss 6980.4468\n"
     ]
    },
    {
     "name": "stderr",
     "output_type": "stream",
     "text": [
      "100%|██████████| 5044/5044 [10:01<00:00,  8.38it/s]\n",
      "  0%|          | 0/5044 [00:00<?, ?it/s]"
     ]
    },
    {
     "name": "stdout",
     "output_type": "stream",
     "text": [
      "epoch 5 loss 6871.0103\n"
     ]
    },
    {
     "name": "stderr",
     "output_type": "stream",
     "text": [
      "100%|██████████| 5044/5044 [10:06<00:00,  8.32it/s]\n",
      "  0%|          | 0/5044 [00:00<?, ?it/s]"
     ]
    },
    {
     "name": "stdout",
     "output_type": "stream",
     "text": [
      "epoch 6 loss 6781.2856\n"
     ]
    },
    {
     "name": "stderr",
     "output_type": "stream",
     "text": [
      "100%|██████████| 5044/5044 [09:58<00:00,  8.42it/s]\n",
      "  0%|          | 0/5044 [00:00<?, ?it/s]"
     ]
    },
    {
     "name": "stdout",
     "output_type": "stream",
     "text": [
      "epoch 7 loss 6728.5068\n"
     ]
    },
    {
     "name": "stderr",
     "output_type": "stream",
     "text": [
      "100%|██████████| 5044/5044 [10:23<00:00,  8.08it/s]\n",
      "  0%|          | 0/5044 [00:00<?, ?it/s]"
     ]
    },
    {
     "name": "stdout",
     "output_type": "stream",
     "text": [
      "epoch 8 loss 6697.4624\n"
     ]
    },
    {
     "name": "stderr",
     "output_type": "stream",
     "text": [
      "100%|██████████| 5044/5044 [09:55<00:00,  8.47it/s]"
     ]
    },
    {
     "name": "stdout",
     "output_type": "stream",
     "text": [
      "epoch 9 loss 6678.7183\n",
      "[tensor([6992.2822]), tensor([6992.2822]), tensor([6992.2822]), tensor([6992.2651]), tensor([6980.4468]), tensor([6871.0103]), tensor([6781.2856]), tensor([6728.5068]), tensor([6697.4624]), tensor([6678.7183])]\n"
     ]
    },
    {
     "name": "stderr",
     "output_type": "stream",
     "text": [
      "\n"
     ]
    }
   ],
   "source": [
    "for epoch in range(10):\n",
    "    total_loss = torch.Tensor([0])\n",
    "    for context, target in tqdm(data_iter):\n",
    "        context_ids = []\n",
    "        for i in range(len(context[0])):\n",
    "            context_ids.append(make_context_vector([context[j][i] for j in range(len(context))], word_to_ix))\n",
    "        context_ids = torch.stack(context_ids)\n",
    "        context_ids = context_ids.to(device)\n",
    "        model.zero_grad()\n",
    "        label = make_context_vector(target, word_to_ix)\n",
    "        label = label.to(device)\n",
    "        loss = model(context_ids, label)\n",
    "#         loss = loss_function(log_probs, label)\n",
    "        loss.backward()\n",
    "        optimizer.step()\n",
    "        total_loss += loss.item()\n",
    "    losses.append(total_loss)\n",
    "    print('epoch %d loss %.4f' %(epoch, total_loss))\n",
    "print(losses)"
   ]
  }
 ],
 "metadata": {
  "kernelspec": {
   "display_name": "Python 3",
   "language": "python",
   "name": "python3"
  },
  "language_info": {
   "codemirror_mode": {
    "name": "ipython",
    "version": 3
   },
   "file_extension": ".py",
   "mimetype": "text/x-python",
   "name": "python",
   "nbconvert_exporter": "python",
   "pygments_lexer": "ipython3",
   "version": "3.6.4"
  }
 },
 "nbformat": 4,
 "nbformat_minor": 2
}
