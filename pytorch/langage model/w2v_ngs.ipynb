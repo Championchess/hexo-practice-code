{
 "cells": [
  {
   "cell_type": "code",
   "execution_count": 1,
   "metadata": {
    "ExecuteTime": {
     "end_time": "2018-08-01T15:28:35.891880Z",
     "start_time": "2018-08-01T15:28:33.355094Z"
    }
   },
   "outputs": [],
   "source": [
    "import torch\n",
    "import torch.utils.data.dataloader as dataloader\n",
    "import torch.nn as nn\n",
    "import torch.nn.functional as F\n",
    "import torch.autograd as autograd\n",
    "import torch.optim as optim\n",
    "import numpy as np\n",
    "import os\n",
    "import re\n",
    "import sys\n",
    "import gc\n",
    "import time\n",
    "import copy\n",
    "from tqdm import tqdm\n",
    "from collections import Counter"
   ]
  },
  {
   "cell_type": "code",
   "execution_count": 2,
   "metadata": {
    "ExecuteTime": {
     "end_time": "2018-08-01T15:28:48.303170Z",
     "start_time": "2018-08-01T15:28:35.896709Z"
    }
   },
   "outputs": [],
   "source": [
    "text = []\n",
    "for file in os.listdir('Holmes_Training_Data/'):\n",
    "    with open(os.path.join('Holmes_Training_Data', file), 'r', errors='ignore') as f:\n",
    "        text.extend(f.read().splitlines())\n",
    "\n",
    "text = [x.replace('*', '') for x in text]\n",
    "text = [re.sub('[^ \\fA-Za-z0-9_]', '', x) for x in text]\n",
    "text = [x for x in text if x != '']"
   ]
  },
  {
   "cell_type": "code",
   "execution_count": 3,
   "metadata": {
    "ExecuteTime": {
     "end_time": "2018-08-01T15:28:51.653661Z",
     "start_time": "2018-08-01T15:28:48.304332Z"
    }
   },
   "outputs": [],
   "source": [
    "raw_text = []\n",
    "for x in text:\n",
    "    raw_text.extend(x.split(' '))\n",
    "raw_text = [x for x in raw_text if x != '']"
   ]
  },
  {
   "cell_type": "code",
   "execution_count": 4,
   "metadata": {
    "ExecuteTime": {
     "end_time": "2018-08-01T15:28:52.061420Z",
     "start_time": "2018-08-01T15:28:51.654817Z"
    },
    "scrolled": true
   },
   "outputs": [
    {
     "data": {
      "text/plain": [
       "0"
      ]
     },
     "execution_count": 4,
     "metadata": {},
     "output_type": "execute_result"
    }
   ],
   "source": [
    "del text\n",
    "gc.collect()"
   ]
  },
  {
   "cell_type": "code",
   "execution_count": 5,
   "metadata": {
    "ExecuteTime": {
     "end_time": "2018-08-01T15:28:57.557858Z",
     "start_time": "2018-08-01T15:28:52.062403Z"
    }
   },
   "outputs": [],
   "source": [
    "vocab = set(raw_text)\n",
    "vocab_size = len(vocab)\n",
    "freqs = Counter(raw_text)"
   ]
  },
  {
   "cell_type": "code",
   "execution_count": 6,
   "metadata": {
    "ExecuteTime": {
     "end_time": "2018-08-01T15:28:57.636487Z",
     "start_time": "2018-08-01T15:28:57.558901Z"
    }
   },
   "outputs": [
    {
     "name": "stdout",
     "output_type": "stream",
     "text": [
      "369970\n"
     ]
    }
   ],
   "source": [
    "print(vocab_size)"
   ]
  },
  {
   "cell_type": "code",
   "execution_count": 7,
   "metadata": {
    "ExecuteTime": {
     "end_time": "2018-08-01T15:29:51.120633Z",
     "start_time": "2018-08-01T15:28:57.638941Z"
    }
   },
   "outputs": [
    {
     "name": "stdout",
     "output_type": "stream",
     "text": [
      "[(['The', 'Project', 'Etext', 'of'], 'Gutenberg'), (['Project', 'Gutenberg', 'of', 'Prester'], 'Etext'), (['Gutenberg', 'Etext', 'Prester', 'John'], 'of'), (['Etext', 'of', 'John', 'by'], 'Prester'), (['of', 'Prester', 'by', 'John'], 'John')]\n"
     ]
    },
    {
     "data": {
      "text/plain": [
       "0"
      ]
     },
     "execution_count": 7,
     "metadata": {},
     "output_type": "execute_result"
    }
   ],
   "source": [
    "def make_context_vector(context, word_to_ix):\n",
    "    idxs = [word_to_ix[w] for w in context]\n",
    "    return torch.tensor(idxs, dtype=torch.long)\n",
    "\n",
    "\n",
    "word_to_ix = {word: i for i, word in enumerate(vocab)}\n",
    "ix_to_word = {i: word for i, word in enumerate(vocab)}\n",
    "data = []\n",
    "for i in range(2, len(raw_text) - 2):\n",
    "    context = [raw_text[i - 2], raw_text[i - 1],\n",
    "               raw_text[i + 1], raw_text[i + 2]]\n",
    "    target = raw_text[i]\n",
    "#     context_ids = make_context_vector(context, word_to_ix)\n",
    "#     label = torch.tensor([word_to_ix[target]], dtype=torch.long)\n",
    "    data.append((context, target))\n",
    "print(data[:5])\n",
    "del raw_text\n",
    "del vocab\n",
    "gc.collect()"
   ]
  },
  {
   "cell_type": "code",
   "execution_count": 8,
   "metadata": {
    "ExecuteTime": {
     "end_time": "2018-08-01T15:29:51.124152Z",
     "start_time": "2018-08-01T15:29:51.121669Z"
    }
   },
   "outputs": [],
   "source": [
    "def neg_sample(num_samples, positives=[]):\n",
    "    freqs_pow = torch.Tensor([freqs[ix_to_word[i]] for i in range(vocab_size)]).pow(0.75)\n",
    "    dist = freqs_pow / freqs_pow.sum()\n",
    "    w = np.random.choice(len(dist), (len(positives), num_samples), p=dist.numpy())\n",
    "    if positives.is_cuda:\n",
    "        return torch.tensor(w).to(device)\n",
    "    else:\n",
    "        return torch.tensor(w)"
   ]
  },
  {
   "cell_type": "code",
   "execution_count": 9,
   "metadata": {
    "ExecuteTime": {
     "end_time": "2018-08-01T15:29:51.200715Z",
     "start_time": "2018-08-01T15:29:51.125479Z"
    }
   },
   "outputs": [],
   "source": [
    "class CBOW(nn.Module):\n",
    "    def __init__(self, vocab_size, embedding_dim, context_size):\n",
    "        super(CBOW, self).__init__()\n",
    "        self.embeddings = nn.Embedding(vocab_size, embedding_dim)\n",
    "        self.embeddings.weight.data.uniform_(-0.5 / vocab_size, 0.5 / vocab_size)\n",
    "    def forward(self, inputs, label):\n",
    "        negs = neg_sample(5, label)\n",
    "        u_embeds = self.embeddings(label).view(len(label), -1)\n",
    "        v_embeds_pos = self.embeddings(inputs).mean(dim=1)\n",
    "        v_embeds_neg = self.embeddings(negs).mean(dim=1)\n",
    "        loss1 = torch.diag(torch.matmul(u_embeds, v_embeds_pos.transpose(0, 1)))\n",
    "        loss2 = torch.diag(torch.matmul(u_embeds, v_embeds_neg.transpose(0, 1)))\n",
    "        loss1 = -torch.log(1 / (1 + torch.exp(-loss1)))\n",
    "        loss2 = -torch.log(1 / (1 + torch.exp(loss2)))\n",
    "        loss = (loss1.mean() + loss2.mean())\n",
    "        return(loss)"
   ]
  },
  {
   "cell_type": "code",
   "execution_count": 10,
   "metadata": {
    "ExecuteTime": {
     "end_time": "2018-08-01T15:29:58.967614Z",
     "start_time": "2018-08-01T15:29:51.203934Z"
    }
   },
   "outputs": [],
   "source": [
    "CONTEXT_SIZE = 2\n",
    "batch_size = 8192 * 2\n",
    "device = torch.device('cuda:0')\n",
    "# device = torch.device('cpu')\n",
    "losses = []\n",
    "# loss_function = nn.NLLLoss()\n",
    "# loss_function = NEGLoss(ix_to_word, word_freqs)\n",
    "model = CBOW(vocab_size, embedding_dim=100,\n",
    "             context_size=CONTEXT_SIZE*2)\n",
    "model.to(device)\n",
    "# model = torch.nn.DataParallel(model, device_ids=[0, 1]).cuda()\n",
    "optimizer = optim.SGD(model.parameters(), lr=0.1)"
   ]
  },
  {
   "cell_type": "code",
   "execution_count": 11,
   "metadata": {
    "ExecuteTime": {
     "end_time": "2018-08-01T15:29:58.971220Z",
     "start_time": "2018-08-01T15:29:58.969238Z"
    }
   },
   "outputs": [],
   "source": [
    "data_iter = torch.utils.data.DataLoader(data, batch_size=batch_size, \n",
    "                                        shuffle=False)"
   ]
  },
  {
   "cell_type": "code",
   "execution_count": 12,
   "metadata": {
    "ExecuteTime": {
     "end_time": "2018-08-01T16:04:16.883339Z",
     "start_time": "2018-08-01T15:29:58.972607Z"
    },
    "scrolled": true
   },
   "outputs": [
    {
     "name": "stderr",
     "output_type": "stream",
     "text": [
      "100%|██████████| 2522/2522 [17:09<00:00,  2.45it/s]\n",
      "  0%|          | 0/2522 [00:00<?, ?it/s]"
     ]
    },
    {
     "name": "stdout",
     "output_type": "stream",
     "text": [
      "epoch 0 loss 3496.2087\n"
     ]
    },
    {
     "name": "stderr",
     "output_type": "stream",
     "text": [
      "100%|██████████| 2522/2522 [17:08<00:00,  2.45it/s]"
     ]
    },
    {
     "name": "stdout",
     "output_type": "stream",
     "text": [
      "epoch 1 loss 3496.2087\n",
      "[tensor([3496.2087]), tensor([3496.2087])]\n"
     ]
    },
    {
     "name": "stderr",
     "output_type": "stream",
     "text": [
      "\n"
     ]
    }
   ],
   "source": [
    "for epoch in range(1):\n",
    "    total_loss = torch.Tensor([0])\n",
    "    for context, target in tqdm(data_iter):\n",
    "        context_ids = []\n",
    "        for i in range(len(context[0])):\n",
    "            context_ids.append(make_context_vector([context[j][i] for j in range(len(context))], word_to_ix))\n",
    "        context_ids = torch.stack(context_ids)\n",
    "        context_ids = context_ids.to(device)\n",
    "        model.zero_grad()\n",
    "        label = make_context_vector(target, word_to_ix)\n",
    "        label = label.to(device)\n",
    "        loss = model(context_ids, label)\n",
    "        loss.backward()\n",
    "        optimizer.step()\n",
    "        total_loss += loss.item()\n",
    "    losses.append(total_loss)\n",
    "    print('epoch %d loss %.4f' %(epoch, total_loss))\n",
    "print(losses)"
   ]
  }
 ],
 "metadata": {
  "kernelspec": {
   "display_name": "Python 3",
   "language": "python",
   "name": "python3"
  },
  "language_info": {
   "codemirror_mode": {
    "name": "ipython",
    "version": 3
   },
   "file_extension": ".py",
   "mimetype": "text/x-python",
   "name": "python",
   "nbconvert_exporter": "python",
   "pygments_lexer": "ipython3",
   "version": "3.6.6"
  }
 },
 "nbformat": 4,
 "nbformat_minor": 2
}
