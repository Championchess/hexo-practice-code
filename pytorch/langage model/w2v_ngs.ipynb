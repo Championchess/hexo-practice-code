{
 "cells": [
  {
   "cell_type": "code",
   "execution_count": 1,
   "metadata": {
    "ExecuteTime": {
     "end_time": "2018-08-03T02:11:55.584240Z",
     "start_time": "2018-08-03T02:11:55.234080Z"
    }
   },
   "outputs": [],
   "source": [
    "import torch\n",
    "import torch.utils.data.dataloader as dataloader\n",
    "import torch.nn as nn\n",
    "import torch.nn.functional as F\n",
    "import torch.autograd as autograd\n",
    "import torch.optim as optim\n",
    "import os\n",
    "import re\n",
    "import sys\n",
    "import gc\n",
    "import time\n",
    "import copy\n",
    "import numpy as np\n",
    "from collections import Counter\n",
    "from tqdm import tqdm"
   ]
  },
  {
   "cell_type": "code",
   "execution_count": 2,
   "metadata": {
    "ExecuteTime": {
     "end_time": "2018-08-03T02:12:07.927380Z",
     "start_time": "2018-08-03T02:11:55.587326Z"
    }
   },
   "outputs": [
    {
     "name": "stdout",
     "output_type": "stream",
     "text": [
      "4121929\n"
     ]
    }
   ],
   "source": [
    "text = []\n",
    "for file in os.listdir('Holmes_Training_Data/'):\n",
    "    with open(os.path.join('Holmes_Training_Data', file), 'r', errors='ignore') as f:\n",
    "        text.extend(f.read().splitlines())\n",
    "text = [x.replace('*', '') for x in text]\n",
    "text = [re.sub('[^ \\fA-Za-z0-9_]', '', x) for x in text]\n",
    "text = [x for x in text if x != '']\n",
    "print(len(text))\n",
    "# text = text[:1000000]"
   ]
  },
  {
   "cell_type": "code",
   "execution_count": 3,
   "metadata": {
    "ExecuteTime": {
     "end_time": "2018-08-03T02:12:15.464961Z",
     "start_time": "2018-08-03T02:12:07.930191Z"
    }
   },
   "outputs": [
    {
     "data": {
      "text/plain": [
       "0"
      ]
     },
     "execution_count": 3,
     "metadata": {},
     "output_type": "execute_result"
    }
   ],
   "source": [
    "raw_text = []\n",
    "for x in text:\n",
    "    raw_text.extend(x.split(' '))\n",
    "raw_text = [x for x in raw_text if x != '']\n",
    "del text\n",
    "gc.collect()"
   ]
  },
  {
   "cell_type": "code",
   "execution_count": 4,
   "metadata": {
    "ExecuteTime": {
     "end_time": "2018-08-03T02:12:25.322005Z",
     "start_time": "2018-08-03T02:12:15.467437Z"
    }
   },
   "outputs": [],
   "source": [
    "vocab = set(raw_text)\n",
    "vocab_size = len(vocab)\n",
    "freqs = Counter(raw_text)"
   ]
  },
  {
   "cell_type": "code",
   "execution_count": 5,
   "metadata": {
    "ExecuteTime": {
     "end_time": "2018-08-03T02:13:46.863470Z",
     "start_time": "2018-08-03T02:12:25.324825Z"
    }
   },
   "outputs": [
    {
     "name": "stdout",
     "output_type": "stream",
     "text": [
      "[(['The', 'Project', 'Etext', 'of'], 'Gutenberg'), (['Project', 'Gutenberg', 'of', 'Reminiscences'], 'Etext'), (['Gutenberg', 'Etext', 'Reminiscences', 'of'], 'of'), (['Etext', 'of', 'of', 'Tolstoy'], 'Reminiscences'), (['of', 'Reminiscences', 'Tolstoy', 'Copyright'], 'of')]\n"
     ]
    }
   ],
   "source": [
    "def make_context_vector(context, word_to_ix):\n",
    "    idxs = [word_to_ix[w] for w in context]\n",
    "    return torch.tensor(idxs, dtype=torch.long)\n",
    "word_to_ix = {word: i for i, word in enumerate(vocab)}\n",
    "ix_to_word = {i: word for i, word in enumerate(vocab)}\n",
    "data = []\n",
    "for i in range(2, len(raw_text) - 2):\n",
    "    context = [raw_text[i - 2], raw_text[i - 1],\n",
    "               raw_text[i + 1], raw_text[i + 2]]\n",
    "    target = raw_text[i]\n",
    "    data.append((context, target))\n",
    "print(data[:5])"
   ]
  },
  {
   "cell_type": "code",
   "execution_count": 6,
   "metadata": {
    "ExecuteTime": {
     "end_time": "2018-08-03T02:13:54.642166Z",
     "start_time": "2018-08-03T02:13:46.866022Z"
    }
   },
   "outputs": [
    {
     "data": {
      "text/plain": [
       "0"
      ]
     },
     "execution_count": 6,
     "metadata": {},
     "output_type": "execute_result"
    }
   ],
   "source": [
    "freqs_pow = torch.Tensor([freqs[ix_to_word[i]] for i in range(vocab_size)]).pow(0.75)\n",
    "dist = freqs_pow / freqs_pow.sum()\n",
    "del raw_text\n",
    "gc.collect()"
   ]
  },
  {
   "cell_type": "code",
   "execution_count": 7,
   "metadata": {
    "ExecuteTime": {
     "end_time": "2018-08-03T02:13:54.646972Z",
     "start_time": "2018-08-03T02:13:54.643951Z"
    }
   },
   "outputs": [],
   "source": [
    "def neg_sample(num_samples, positives=[]):\n",
    "    w = np.random.choice(len(dist), (len(positives), num_samples), p=dist.numpy())\n",
    "    if positives.is_cuda:\n",
    "        return torch.tensor(w).to(device)\n",
    "    else:\n",
    "        return torch.tensor(w)"
   ]
  },
  {
   "cell_type": "code",
   "execution_count": 8,
   "metadata": {
    "ExecuteTime": {
     "end_time": "2018-08-03T02:13:54.752983Z",
     "start_time": "2018-08-03T02:13:54.648874Z"
    }
   },
   "outputs": [],
   "source": [
    "class CBOW(nn.Module):\n",
    "    def __init__(self, vocab_size, embedding_dim, context_size):\n",
    "        super(CBOW, self).__init__()\n",
    "        self.embeddings = nn.Embedding(vocab_size, embedding_dim)\n",
    "        self.embeddings.weight.data.uniform_(-0.5 / vocab_size, 0.5 / vocab_size)\n",
    "    def forward(self, inputs, label):\n",
    "        negs = neg_sample(5, label)\n",
    "        u_embeds = self.embeddings(label).view(len(label), -1)\n",
    "        v_embeds_pos = self.embeddings(inputs).mean(dim=1)\n",
    "        v_embeds_neg = self.embeddings(negs).mean(dim=1)\n",
    "        loss1 = torch.diag(torch.matmul(u_embeds, v_embeds_pos.transpose(0, 1)))\n",
    "        loss2 = torch.diag(torch.matmul(u_embeds, v_embeds_neg.transpose(0, 1)))\n",
    "        loss1 = -torch.log(1 / (1 + torch.exp(-loss1)))\n",
    "        loss2 = -torch.log(1 / (1 + torch.exp(loss2)))\n",
    "        loss = (loss1.mean() + loss2.mean())\n",
    "        return(loss)"
   ]
  },
  {
   "cell_type": "code",
   "execution_count": 9,
   "metadata": {
    "ExecuteTime": {
     "end_time": "2018-08-03T02:14:01.839942Z",
     "start_time": "2018-08-03T02:13:54.755774Z"
    }
   },
   "outputs": [],
   "source": [
    "CONTEXT_SIZE = 2\n",
    "batch_size = 4096\n",
    "device = torch.device('cuda:0')\n",
    "losses = []\n",
    "# loss_function = nn.NLLLoss()\n",
    "model = CBOW(vocab_size, embedding_dim=100,\n",
    "             context_size=CONTEXT_SIZE*2)\n",
    "model.to(device)\n",
    "# model = torch.nn.DataParallel(model, device_ids=[0, 1]).cuda()\n",
    "optimizer = optim.SGD(model.parameters(), lr=0.1)"
   ]
  },
  {
   "cell_type": "code",
   "execution_count": 10,
   "metadata": {
    "ExecuteTime": {
     "end_time": "2018-08-03T02:14:01.844629Z",
     "start_time": "2018-08-03T02:14:01.841962Z"
    }
   },
   "outputs": [],
   "source": [
    "data_iter = torch.utils.data.DataLoader(data, batch_size=batch_size,\n",
    "                                        shuffle=False, num_workers=2)"
   ]
  },
  {
   "cell_type": "code",
   "execution_count": 11,
   "metadata": {
    "ExecuteTime": {
     "end_time": "2018-08-03T02:14:01.949099Z",
     "start_time": "2018-08-03T02:14:01.847584Z"
    }
   },
   "outputs": [
    {
     "data": {
      "text/plain": [
       "tensor(-0.0886, device='cuda:0', grad_fn=<DivBackward1>)"
      ]
     },
     "execution_count": 11,
     "metadata": {},
     "output_type": "execute_result"
    }
   ],
   "source": [
    "king = model.embeddings(torch.tensor(word_to_ix['king']).cuda())\n",
    "queen = model.embeddings(torch.tensor(word_to_ix['queen']).cuda())\n",
    "man = model.embeddings(torch.tensor(word_to_ix['man']).cuda())\n",
    "woman = model.embeddings(torch.tensor(word_to_ix['woman']).cuda())\n",
    "\n",
    "((king - man + woman) * queen).sum() / \\\n",
    "    (torch.sqrt(((king - man + woman)**2).sum()) * torch.sqrt((queen**2).sum()))"
   ]
  },
  {
   "cell_type": "code",
   "execution_count": 12,
   "metadata": {
    "ExecuteTime": {
     "end_time": "2018-08-03T05:09:00.885161Z",
     "start_time": "2018-08-03T02:14:01.952006Z"
    },
    "scrolled": true
   },
   "outputs": [
    {
     "name": "stderr",
     "output_type": "stream",
     "text": [
      "100%|██████████| 10087/10087 [08:14<00:00, 20.41it/s]\n",
      "  0%|          | 0/10087 [00:00<?, ?it/s]"
     ]
    },
    {
     "name": "stdout",
     "output_type": "stream",
     "text": [
      "epoch 0 loss 1.3864\n"
     ]
    },
    {
     "name": "stderr",
     "output_type": "stream",
     "text": [
      "100%|██████████| 10087/10087 [08:25<00:00, 19.94it/s]\n",
      "  0%|          | 0/10087 [00:00<?, ?it/s]"
     ]
    },
    {
     "name": "stdout",
     "output_type": "stream",
     "text": [
      "epoch 1 loss 1.3864\n"
     ]
    },
    {
     "name": "stderr",
     "output_type": "stream",
     "text": [
      "100%|██████████| 10087/10087 [08:38<00:00, 19.45it/s]\n",
      "  0%|          | 0/10087 [00:00<?, ?it/s]"
     ]
    },
    {
     "name": "stdout",
     "output_type": "stream",
     "text": [
      "epoch 2 loss 1.3737\n"
     ]
    },
    {
     "name": "stderr",
     "output_type": "stream",
     "text": [
      "100%|██████████| 10087/10087 [08:46<00:00, 19.17it/s]\n",
      "  0%|          | 0/10087 [00:00<?, ?it/s]"
     ]
    },
    {
     "name": "stdout",
     "output_type": "stream",
     "text": [
      "epoch 3 loss 1.3394\n"
     ]
    },
    {
     "name": "stderr",
     "output_type": "stream",
     "text": [
      "100%|██████████| 10087/10087 [08:35<00:00, 19.58it/s]\n",
      "  0%|          | 0/10087 [00:00<?, ?it/s]"
     ]
    },
    {
     "name": "stdout",
     "output_type": "stream",
     "text": [
      "epoch 4 loss 1.3260\n"
     ]
    },
    {
     "name": "stderr",
     "output_type": "stream",
     "text": [
      "100%|██████████| 10087/10087 [09:08<00:00, 18.40it/s]\n",
      "  0%|          | 0/10087 [00:00<?, ?it/s]"
     ]
    },
    {
     "name": "stdout",
     "output_type": "stream",
     "text": [
      "epoch 5 loss 1.3208\n"
     ]
    },
    {
     "name": "stderr",
     "output_type": "stream",
     "text": [
      "100%|██████████| 10087/10087 [09:07<00:00, 18.44it/s]\n",
      "  0%|          | 0/10087 [00:00<?, ?it/s]"
     ]
    },
    {
     "name": "stdout",
     "output_type": "stream",
     "text": [
      "epoch 6 loss 1.3181\n"
     ]
    },
    {
     "name": "stderr",
     "output_type": "stream",
     "text": [
      "100%|██████████| 10087/10087 [08:26<00:00, 19.93it/s]\n",
      "  0%|          | 0/10087 [00:00<?, ?it/s]"
     ]
    },
    {
     "name": "stdout",
     "output_type": "stream",
     "text": [
      "epoch 7 loss 1.3164\n"
     ]
    },
    {
     "name": "stderr",
     "output_type": "stream",
     "text": [
      "100%|██████████| 10087/10087 [08:49<00:00, 19.05it/s]\n",
      "  0%|          | 0/10087 [00:00<?, ?it/s]"
     ]
    },
    {
     "name": "stdout",
     "output_type": "stream",
     "text": [
      "epoch 8 loss 1.3137\n"
     ]
    },
    {
     "name": "stderr",
     "output_type": "stream",
     "text": [
      "100%|██████████| 10087/10087 [08:49<00:00, 19.04it/s]\n",
      "  0%|          | 0/10087 [00:00<?, ?it/s]"
     ]
    },
    {
     "name": "stdout",
     "output_type": "stream",
     "text": [
      "epoch 9 loss 1.3079\n"
     ]
    },
    {
     "name": "stderr",
     "output_type": "stream",
     "text": [
      "100%|██████████| 10087/10087 [08:39<00:00, 19.43it/s]\n",
      "  0%|          | 0/10087 [00:00<?, ?it/s]"
     ]
    },
    {
     "name": "stdout",
     "output_type": "stream",
     "text": [
      "epoch 10 loss 1.3017\n"
     ]
    },
    {
     "name": "stderr",
     "output_type": "stream",
     "text": [
      "100%|██████████| 10087/10087 [08:55<00:00, 18.82it/s]\n",
      "  0%|          | 0/10087 [00:00<?, ?it/s]"
     ]
    },
    {
     "name": "stdout",
     "output_type": "stream",
     "text": [
      "epoch 11 loss 1.2965\n"
     ]
    },
    {
     "name": "stderr",
     "output_type": "stream",
     "text": [
      "100%|██████████| 10087/10087 [08:44<00:00, 19.22it/s]\n",
      "  0%|          | 0/10087 [00:00<?, ?it/s]"
     ]
    },
    {
     "name": "stdout",
     "output_type": "stream",
     "text": [
      "epoch 12 loss 1.2919\n"
     ]
    },
    {
     "name": "stderr",
     "output_type": "stream",
     "text": [
      "100%|██████████| 10087/10087 [08:46<00:00, 19.18it/s]\n",
      "  0%|          | 0/10087 [00:00<?, ?it/s]"
     ]
    },
    {
     "name": "stdout",
     "output_type": "stream",
     "text": [
      "epoch 13 loss 1.2880\n"
     ]
    },
    {
     "name": "stderr",
     "output_type": "stream",
     "text": [
      "100%|██████████| 10087/10087 [09:05<00:00, 18.48it/s]\n",
      "  0%|          | 0/10087 [00:00<?, ?it/s]"
     ]
    },
    {
     "name": "stdout",
     "output_type": "stream",
     "text": [
      "epoch 14 loss 1.2847\n"
     ]
    },
    {
     "name": "stderr",
     "output_type": "stream",
     "text": [
      "100%|██████████| 10087/10087 [08:40<00:00, 19.39it/s]\n",
      "  0%|          | 0/10087 [00:00<?, ?it/s]"
     ]
    },
    {
     "name": "stdout",
     "output_type": "stream",
     "text": [
      "epoch 15 loss 1.2818\n"
     ]
    },
    {
     "name": "stderr",
     "output_type": "stream",
     "text": [
      "100%|██████████| 10087/10087 [08:43<00:00, 19.26it/s]\n",
      "  0%|          | 0/10087 [00:00<?, ?it/s]"
     ]
    },
    {
     "name": "stdout",
     "output_type": "stream",
     "text": [
      "epoch 16 loss 1.2792\n"
     ]
    },
    {
     "name": "stderr",
     "output_type": "stream",
     "text": [
      "100%|██████████| 10087/10087 [08:48<00:00, 19.09it/s]\n",
      "  0%|          | 0/10087 [00:00<?, ?it/s]"
     ]
    },
    {
     "name": "stdout",
     "output_type": "stream",
     "text": [
      "epoch 17 loss 1.2770\n"
     ]
    },
    {
     "name": "stderr",
     "output_type": "stream",
     "text": [
      "100%|██████████| 10087/10087 [08:38<00:00, 19.45it/s]\n",
      "  0%|          | 0/10087 [00:00<?, ?it/s]"
     ]
    },
    {
     "name": "stdout",
     "output_type": "stream",
     "text": [
      "epoch 18 loss 1.2749\n"
     ]
    },
    {
     "name": "stderr",
     "output_type": "stream",
     "text": [
      "100%|██████████| 10087/10087 [08:55<00:00, 18.85it/s]"
     ]
    },
    {
     "name": "stdout",
     "output_type": "stream",
     "text": [
      "epoch 19 loss 1.2730\n",
      "[tensor([13985.0820]), tensor([13984.8545]), tensor([13856.2217]), tensor([13510.5332]), tensor([13375.6387]), tensor([13322.5732]), tensor([13295.5137]), tensor([13278.3076]), tensor([13251.7588]), tensor([13192.3027]), tensor([13130.3662]), tensor([13077.4775]), tensor([13031.2695]), tensor([12992.3320]), tensor([12958.3672]), tensor([12929.6260]), tensor([12903.6025]), tensor([12880.6699]), tensor([12859.5586]), tensor([12841.1924])]\n"
     ]
    },
    {
     "name": "stderr",
     "output_type": "stream",
     "text": [
      "\n"
     ]
    }
   ],
   "source": [
    "for epoch in range(20):\n",
    "    total_loss = torch.Tensor([0])\n",
    "    num = 0\n",
    "    for context, target in tqdm(data_iter):\n",
    "        num += 1\n",
    "        context_ids = []\n",
    "        for i in range(len(context[0])):\n",
    "            context_ids.append(make_context_vector([context[j][i] for j in range(len(context))], word_to_ix))\n",
    "        context_ids = torch.stack(context_ids)\n",
    "        context_ids = context_ids.to(device)\n",
    "        model.zero_grad()\n",
    "        label = make_context_vector(target, word_to_ix)\n",
    "        label = label.to(device)\n",
    "        loss = model(context_ids, label)\n",
    "#         loss = loss_function(log_probs, label)\n",
    "        loss.backward()\n",
    "        optimizer.step()\n",
    "        total_loss += loss.item()\n",
    "    losses.append(total_loss)\n",
    "    print('epoch %d loss %.4f' %(epoch, total_loss / num))\n",
    "print(losses)"
   ]
  },
  {
   "cell_type": "code",
   "execution_count": 13,
   "metadata": {
    "ExecuteTime": {
     "end_time": "2018-08-03T05:09:00.896194Z",
     "start_time": "2018-08-03T05:09:00.888201Z"
    }
   },
   "outputs": [
    {
     "data": {
      "text/plain": [
       "tensor(0.9994, device='cuda:0', grad_fn=<DivBackward1>)"
      ]
     },
     "execution_count": 13,
     "metadata": {},
     "output_type": "execute_result"
    }
   ],
   "source": [
    "king = model.embeddings(torch.tensor(word_to_ix['king']).cuda())\n",
    "queen = model.embeddings(torch.tensor(word_to_ix['queen']).cuda())\n",
    "man = model.embeddings(torch.tensor(word_to_ix['man']).cuda())\n",
    "woman = model.embeddings(torch.tensor(word_to_ix['woman']).cuda())\n",
    "\n",
    "((king - man + woman) * queen).sum() / \\\n",
    "    (torch.sqrt(((king - man + woman)**2).sum()) * torch.sqrt((queen**2).sum()))"
   ]
  }
 ],
 "metadata": {
  "kernelspec": {
   "display_name": "Python 3",
   "language": "python",
   "name": "python3"
  },
  "language_info": {
   "codemirror_mode": {
    "name": "ipython",
    "version": 3
   },
   "file_extension": ".py",
   "mimetype": "text/x-python",
   "name": "python",
   "nbconvert_exporter": "python",
   "pygments_lexer": "ipython3",
   "version": "3.6.6"
  }
 },
 "nbformat": 4,
 "nbformat_minor": 2
}
