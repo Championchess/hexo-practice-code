{
 "cells": [
  {
   "cell_type": "code",
   "execution_count": 1,
   "metadata": {
    "ExecuteTime": {
     "end_time": "2018-08-28T09:21:15.234143Z",
     "start_time": "2018-08-28T09:21:14.370639Z"
    }
   },
   "outputs": [],
   "source": [
    "import torch\n",
    "import torch.utils.data.dataloader as dataloader\n",
    "import torch.nn as nn\n",
    "import torch.nn.functional as F\n",
    "import torch.autograd as autograd\n",
    "import torch.optim as optim\n",
    "import os\n",
    "import re\n",
    "import sys\n",
    "import gc\n",
    "import gensim\n",
    "import numpy as np\n",
    "from tqdm import tqdm\n",
    "from collections import Counter\n",
    "from itertools import chain"
   ]
  },
  {
   "cell_type": "code",
   "execution_count": 2,
   "metadata": {
    "ExecuteTime": {
     "end_time": "2018-08-28T09:21:44.053490Z",
     "start_time": "2018-08-28T09:21:15.237823Z"
    }
   },
   "outputs": [],
   "source": [
    "text = []\n",
    "for file in os.listdir('Holmes_Training_Data/'):\n",
    "    with open(os.path.join('Holmes_Training_Data', file), 'r', errors='ignore') as f:\n",
    "        text.extend(f.read().splitlines())\n",
    "\n",
    "text = [x.replace('*', '') for x in text]\n",
    "text = [x for x in text if x != '']\n",
    "text = [re.findall(r\"[\\w']+|[.,!?;]\", x) for x in text]\n",
    "[x.insert(0, '<bos>') for x in text]\n",
    "[x.insert(len(x), '<eos>') for x in text]\n",
    "text = text[:10000]"
   ]
  },
  {
   "cell_type": "code",
   "execution_count": 3,
   "metadata": {
    "ExecuteTime": {
     "end_time": "2018-08-28T09:21:44.109966Z",
     "start_time": "2018-08-28T09:21:44.057493Z"
    }
   },
   "outputs": [],
   "source": [
    "vocab = set(chain(*text))\n",
    "vocab_size = len(vocab)\n",
    "freqs = Counter(chain(*text))"
   ]
  },
  {
   "cell_type": "code",
   "execution_count": 4,
   "metadata": {
    "ExecuteTime": {
     "end_time": "2018-08-28T09:21:44.261925Z",
     "start_time": "2018-08-28T09:21:44.112615Z"
    }
   },
   "outputs": [],
   "source": [
    "word_to_idx = {word: i+1 for i, word in enumerate(vocab)}\n",
    "word_to_idx['<unk>'] = 0\n",
    "idx_to_word = {i+1: word for i, word in enumerate(vocab)}\n",
    "idx_to_word[0] = '<unk>'"
   ]
  },
  {
   "cell_type": "code",
   "execution_count": 5,
   "metadata": {
    "ExecuteTime": {
     "end_time": "2018-08-28T09:21:44.483010Z",
     "start_time": "2018-08-28T09:21:44.265187Z"
    }
   },
   "outputs": [
    {
     "data": {
      "text/plain": [
       "0"
      ]
     },
     "execution_count": 5,
     "metadata": {},
     "output_type": "execute_result"
    }
   ],
   "source": [
    "freqs_pow = torch.Tensor([freqs[idx_to_word[i]] for i in range(vocab_size)]).pow(0.75)\n",
    "dist = freqs_pow / freqs_pow.sum()\n",
    "gc.collect()"
   ]
  },
  {
   "cell_type": "code",
   "execution_count": 6,
   "metadata": {
    "ExecuteTime": {
     "end_time": "2018-08-28T09:21:44.488742Z",
     "start_time": "2018-08-28T09:21:44.485185Z"
    }
   },
   "outputs": [],
   "source": [
    "def neg_sample(num_samples, batch_size, use_gpu):\n",
    "    w = np.random.choice(len(dist), (batch_size, num_samples), p=dist.numpy())\n",
    "    if use_gpu:\n",
    "        return torch.tensor(w).to(device)\n",
    "    else:\n",
    "        return torch.tensor(w)"
   ]
  },
  {
   "cell_type": "code",
   "execution_count": 7,
   "metadata": {
    "ExecuteTime": {
     "end_time": "2018-08-28T09:22:16.826192Z",
     "start_time": "2018-08-28T09:21:44.490728Z"
    }
   },
   "outputs": [],
   "source": [
    "wvmodel = gensim.models.KeyedVectors.load_word2vec_format('test_word.txt',\n",
    "                                                          binary=False, encoding='utf-8')"
   ]
  },
  {
   "cell_type": "code",
   "execution_count": 8,
   "metadata": {
    "ExecuteTime": {
     "end_time": "2018-08-28T09:22:16.834468Z",
     "start_time": "2018-08-28T09:22:16.828218Z"
    }
   },
   "outputs": [],
   "source": [
    "class seqNet(nn.Module):\n",
    "    def __init__(self, vocab_size, embed_size, num_hiddens, num_layers,\n",
    "                 bidirectional, weight, num_labels, use_gpu, **kwargs):\n",
    "        super(seqNet, self).__init__(**kwargs)\n",
    "        self.num_hiddens = num_hiddens\n",
    "        self.num_layers = num_layers\n",
    "        self.use_gpu = use_gpu\n",
    "#         self.num_negs = num_negs\n",
    "        self.bidirectional = bidirectional\n",
    "        self.embedding = nn.Embedding.from_pretrained(weight)\n",
    "        self.embedding.weight.requires_grad = False\n",
    "        self.front = nn.LSTM(input_size=embed_size, hidden_size=self.num_hiddens,\n",
    "                             num_layers=num_layers, bidirectional=self.bidirectional,\n",
    "                             dropout=0)\n",
    "        self.back = nn.LSTM(input_size=embed_size, hidden_size=self.num_hiddens,\n",
    "                            num_layers=num_layers, bidirectional=self.bidirectional,\n",
    "                            dropout=0)\n",
    "        if self.bidirectional:\n",
    "            self.decoder = nn.Linear(num_hiddens * 4, num_labels)\n",
    "        else:\n",
    "            self.decoder = nn.Linear(num_hiddens * 2, num_labels)\n",
    "\n",
    "    def forward(self, inputs):\n",
    "        embeddings_front = self.embedding(inputs[0])\n",
    "        embeddings_back = self.embedding(inputs[1])\n",
    "        states_front, _ = self.front(embeddings_front.permute([1, 0, 2]))\n",
    "        states_back, _ = self.back(embeddings_back.permute([1, 0, 2]))\n",
    "        encoding = torch.cat([states_front[-1], states_back[-1]], dim=1)\n",
    "        outputs = self.decoder(encoding)\n",
    "        return(outputs)"
   ]
  },
  {
   "cell_type": "code",
   "execution_count": 9,
   "metadata": {
    "ExecuteTime": {
     "end_time": "2018-08-28T09:22:16.980867Z",
     "start_time": "2018-08-28T09:22:16.836246Z"
    }
   },
   "outputs": [],
   "source": [
    "embedding_dim = 100\n",
    "hidden_dim = 100\n",
    "lr = 0.1\n",
    "num_epoch = 500\n",
    "use_gpu = True\n",
    "num_layers = 2\n",
    "bidirectional = True\n",
    "batch_size = 256\n",
    "num_negs = 25\n",
    "device = torch.device('cuda:1')\n",
    "loss_function = nn.CrossEntropyLoss()"
   ]
  },
  {
   "cell_type": "code",
   "execution_count": 10,
   "metadata": {
    "ExecuteTime": {
     "end_time": "2018-08-28T09:22:17.105626Z",
     "start_time": "2018-08-28T09:22:16.983718Z"
    }
   },
   "outputs": [],
   "source": [
    "def encode_sample(seq, word_to_idx):\n",
    "    feature = []\n",
    "    for token in seq:\n",
    "        feature.append(word_to_idx[token])\n",
    "    return feature"
   ]
  },
  {
   "cell_type": "code",
   "execution_count": 11,
   "metadata": {
    "ExecuteTime": {
     "end_time": "2018-08-28T09:22:17.207691Z",
     "start_time": "2018-08-28T09:22:17.108632Z"
    }
   },
   "outputs": [],
   "source": [
    "def padding(seq, maxlen, pad='<unk>'):\n",
    "    padded = []\n",
    "    if len(seq) < maxlen:\n",
    "        padded = seq\n",
    "        while len(padded) < maxlen:\n",
    "            padded.append(pad)\n",
    "    else:\n",
    "        padded = seq[:maxlen]\n",
    "    return padded"
   ]
  },
  {
   "cell_type": "code",
   "execution_count": 12,
   "metadata": {
    "ExecuteTime": {
     "end_time": "2018-08-28T09:22:17.347566Z",
     "start_time": "2018-08-28T09:22:17.210746Z"
    }
   },
   "outputs": [],
   "source": [
    "def eval_acc(y_pred, y_true):\n",
    "    return torch.sum(torch.argmax(y_pred, dim=1) == y_true).cpu().numpy() / len(y_true)"
   ]
  },
  {
   "cell_type": "code",
   "execution_count": 13,
   "metadata": {
    "ExecuteTime": {
     "end_time": "2018-08-28T09:22:18.647825Z",
     "start_time": "2018-08-28T09:22:17.350638Z"
    }
   },
   "outputs": [],
   "source": [
    "data = []\n",
    "for i in range(len(text)):\n",
    "    for j in range(1, len(text[i])-1):\n",
    "        context = []\n",
    "        context.append(text[i][:j])\n",
    "        context.append(text[i][(j+1):])\n",
    "        target = word_to_idx[text[i][j]]\n",
    "        context[0] = padding(context[0], 10)\n",
    "        context[0] = encode_sample(context[0], word_to_idx)\n",
    "        context[1] = padding(context[1], 10)\n",
    "        context[1] = encode_sample(context[1], word_to_idx)\n",
    "        data.append((context, target))"
   ]
  },
  {
   "cell_type": "code",
   "execution_count": 14,
   "metadata": {
    "ExecuteTime": {
     "end_time": "2018-08-28T09:22:19.081660Z",
     "start_time": "2018-08-28T09:22:18.649865Z"
    }
   },
   "outputs": [],
   "source": [
    "weight = nn.Embedding(len(word_to_idx), embedding_dim).weight.data\n",
    "for i in range(len(wvmodel.index2word)):\n",
    "    try:\n",
    "        index = word_to_idx[wvmodel.index2word[i]]\n",
    "    except:\n",
    "        continue\n",
    "    weight[index, :] = torch.from_numpy(wvmodel.get_vector(\n",
    "        idx_to_word[word_to_idx[wvmodel.index2word[i]]]))"
   ]
  },
  {
   "cell_type": "code",
   "execution_count": 15,
   "metadata": {
    "ExecuteTime": {
     "end_time": "2018-08-28T09:22:21.767438Z",
     "start_time": "2018-08-28T09:22:19.083608Z"
    }
   },
   "outputs": [],
   "source": [
    "model = seqNet(vocab_size=len(word_to_idx), embed_size=embedding_dim,\n",
    "               num_hiddens=hidden_dim, num_layers=num_layers,\n",
    "               bidirectional=bidirectional, weight=weight, num_labels=len(word_to_idx),\n",
    "               use_gpu=use_gpu)\n",
    "optimizer = optim.SGD(model.parameters(), lr=0.1)\n",
    "if use_gpu:\n",
    "    model.to(device)"
   ]
  },
  {
   "cell_type": "code",
   "execution_count": 16,
   "metadata": {
    "ExecuteTime": {
     "end_time": "2018-08-28T09:22:21.774910Z",
     "start_time": "2018-08-28T09:22:21.770589Z"
    }
   },
   "outputs": [],
   "source": [
    "data_iter = torch.utils.data.DataLoader(data, batch_size=batch_size,\n",
    "                                        shuffle=False, num_workers=0)"
   ]
  },
  {
   "cell_type": "code",
   "execution_count": 20,
   "metadata": {
    "ExecuteTime": {
     "end_time": "2018-08-28T09:24:48.248243Z",
     "start_time": "2018-08-28T09:24:44.666582Z"
    }
   },
   "outputs": [
    {
     "data": {
      "text/plain": [
       "'avail'"
      ]
     },
     "execution_count": 20,
     "metadata": {},
     "output_type": "execute_result"
    }
   ],
   "source": [
    "test_target = 'of'\n",
    "test = [[], []]\n",
    "test[0] = padding(['<bos>', 'The', 'Project', 'Gutenberg', 'Etext'], 10)\n",
    "test[0] = encode_sample(test[0], word_to_idx)\n",
    "test[1] = padding(['Reminiscences', 'of', 'Tolstoy', '<eos>'], 10)\n",
    "test[1] = encode_sample(test[1], word_to_idx)\n",
    "test = torch.tensor(test).view(2, 1, 10)\n",
    "idx_to_word[int(torch.argmax(model(test.to(device)), dim=1).cpu().data)]"
   ]
  },
  {
   "cell_type": "code",
   "execution_count": 21,
   "metadata": {
    "ExecuteTime": {
     "end_time": "2018-08-28T09:57:53.830579Z",
     "start_time": "2018-08-28T09:24:51.537912Z"
    },
    "scrolled": true
   },
   "outputs": [
    {
     "name": "stderr",
     "output_type": "stream",
     "text": [
      "100%|██████████| 466/466 [00:04<00:00, 95.39it/s]\n",
      "  3%|▎         | 12/466 [00:00<00:03, 116.97it/s]"
     ]
    },
    {
     "name": "stdout",
     "output_type": "stream",
     "text": [
      "epoch 0, loss 7.4706, acc 0.0745\n"
     ]
    },
    {
     "name": "stderr",
     "output_type": "stream",
     "text": [
      "100%|██████████| 466/466 [00:03<00:00, 120.90it/s]\n",
      "  3%|▎         | 12/466 [00:00<00:03, 113.75it/s]"
     ]
    },
    {
     "name": "stdout",
     "output_type": "stream",
     "text": [
      "epoch 1, loss 6.6842, acc 0.0763\n"
     ]
    },
    {
     "name": "stderr",
     "output_type": "stream",
     "text": [
      "100%|██████████| 466/466 [00:04<00:00, 115.04it/s]\n",
      "  3%|▎         | 13/466 [00:00<00:03, 125.04it/s]"
     ]
    },
    {
     "name": "stdout",
     "output_type": "stream",
     "text": [
      "epoch 2, loss 6.5853, acc 0.0771\n"
     ]
    },
    {
     "name": "stderr",
     "output_type": "stream",
     "text": [
      "100%|██████████| 466/466 [00:03<00:00, 117.79it/s]\n",
      "  2%|▏         | 11/466 [00:00<00:04, 106.88it/s]"
     ]
    },
    {
     "name": "stdout",
     "output_type": "stream",
     "text": [
      "epoch 3, loss 6.5476, acc 0.0776\n"
     ]
    },
    {
     "name": "stderr",
     "output_type": "stream",
     "text": [
      "100%|██████████| 466/466 [00:03<00:00, 124.99it/s]\n",
      "  3%|▎         | 13/466 [00:00<00:03, 121.48it/s]"
     ]
    },
    {
     "name": "stdout",
     "output_type": "stream",
     "text": [
      "epoch 4, loss 6.5260, acc 0.0791\n"
     ]
    },
    {
     "name": "stderr",
     "output_type": "stream",
     "text": [
      "100%|██████████| 466/466 [00:03<00:00, 116.95it/s]\n",
      "  2%|▏         | 11/466 [00:00<00:04, 104.58it/s]"
     ]
    },
    {
     "name": "stdout",
     "output_type": "stream",
     "text": [
      "epoch 5, loss 6.5086, acc 0.0813\n"
     ]
    },
    {
     "name": "stderr",
     "output_type": "stream",
     "text": [
      "100%|██████████| 466/466 [00:03<00:00, 117.73it/s]\n",
      "  3%|▎         | 12/466 [00:00<00:03, 119.29it/s]"
     ]
    },
    {
     "name": "stdout",
     "output_type": "stream",
     "text": [
      "epoch 6, loss 6.4911, acc 0.0855\n"
     ]
    },
    {
     "name": "stderr",
     "output_type": "stream",
     "text": [
      "100%|██████████| 466/466 [00:03<00:00, 117.33it/s]\n",
      "  3%|▎         | 13/466 [00:00<00:03, 121.50it/s]"
     ]
    },
    {
     "name": "stdout",
     "output_type": "stream",
     "text": [
      "epoch 7, loss 6.4728, acc 0.0894\n"
     ]
    },
    {
     "name": "stderr",
     "output_type": "stream",
     "text": [
      "100%|██████████| 466/466 [00:03<00:00, 120.13it/s]\n",
      "  2%|▏         | 11/466 [00:00<00:04, 107.08it/s]"
     ]
    },
    {
     "name": "stdout",
     "output_type": "stream",
     "text": [
      "epoch 8, loss 6.4499, acc 0.0939\n"
     ]
    },
    {
     "name": "stderr",
     "output_type": "stream",
     "text": [
      "100%|██████████| 466/466 [00:04<00:00, 108.89it/s]\n",
      "  3%|▎         | 13/466 [00:00<00:03, 120.20it/s]"
     ]
    },
    {
     "name": "stdout",
     "output_type": "stream",
     "text": [
      "epoch 9, loss 6.4161, acc 0.1017\n"
     ]
    },
    {
     "name": "stderr",
     "output_type": "stream",
     "text": [
      "100%|██████████| 466/466 [00:04<00:00, 107.79it/s]\n",
      "  3%|▎         | 13/466 [00:00<00:03, 126.19it/s]"
     ]
    },
    {
     "name": "stdout",
     "output_type": "stream",
     "text": [
      "epoch 10, loss 6.3582, acc 0.1149\n"
     ]
    },
    {
     "name": "stderr",
     "output_type": "stream",
     "text": [
      "100%|██████████| 466/466 [00:04<00:00, 113.57it/s]\n",
      "  3%|▎         | 13/466 [00:00<00:03, 125.63it/s]"
     ]
    },
    {
     "name": "stdout",
     "output_type": "stream",
     "text": [
      "epoch 11, loss 6.3215, acc 0.1200\n"
     ]
    },
    {
     "name": "stderr",
     "output_type": "stream",
     "text": [
      "100%|██████████| 466/466 [00:03<00:00, 120.48it/s]\n",
      "  3%|▎         | 12/466 [00:00<00:03, 115.12it/s]"
     ]
    },
    {
     "name": "stdout",
     "output_type": "stream",
     "text": [
      "epoch 12, loss 6.2918, acc 0.1225\n"
     ]
    },
    {
     "name": "stderr",
     "output_type": "stream",
     "text": [
      "100%|██████████| 466/466 [00:04<00:00, 109.28it/s]\n",
      "  3%|▎         | 12/466 [00:00<00:04, 111.20it/s]"
     ]
    },
    {
     "name": "stdout",
     "output_type": "stream",
     "text": [
      "epoch 13, loss 6.2589, acc 0.1262\n"
     ]
    },
    {
     "name": "stderr",
     "output_type": "stream",
     "text": [
      "100%|██████████| 466/466 [00:04<00:00, 113.05it/s]\n",
      "  2%|▏         | 11/466 [00:00<00:04, 108.17it/s]"
     ]
    },
    {
     "name": "stdout",
     "output_type": "stream",
     "text": [
      "epoch 14, loss 6.2242, acc 0.1313\n"
     ]
    },
    {
     "name": "stderr",
     "output_type": "stream",
     "text": [
      "100%|██████████| 466/466 [00:03<00:00, 122.30it/s]\n",
      "  3%|▎         | 13/466 [00:00<00:03, 127.15it/s]"
     ]
    },
    {
     "name": "stdout",
     "output_type": "stream",
     "text": [
      "epoch 15, loss 6.1798, acc 0.1369\n"
     ]
    },
    {
     "name": "stderr",
     "output_type": "stream",
     "text": [
      "100%|██████████| 466/466 [00:03<00:00, 123.69it/s]\n",
      "  3%|▎         | 13/466 [00:00<00:03, 126.60it/s]"
     ]
    },
    {
     "name": "stdout",
     "output_type": "stream",
     "text": [
      "epoch 16, loss 6.1099, acc 0.1477\n"
     ]
    },
    {
     "name": "stderr",
     "output_type": "stream",
     "text": [
      "100%|██████████| 466/466 [00:03<00:00, 118.46it/s]\n",
      "  3%|▎         | 13/466 [00:00<00:03, 121.80it/s]"
     ]
    },
    {
     "name": "stdout",
     "output_type": "stream",
     "text": [
      "epoch 17, loss 6.0395, acc 0.1546\n"
     ]
    },
    {
     "name": "stderr",
     "output_type": "stream",
     "text": [
      "100%|██████████| 466/466 [00:03<00:00, 119.37it/s]\n",
      "  3%|▎         | 13/466 [00:00<00:03, 125.17it/s]"
     ]
    },
    {
     "name": "stdout",
     "output_type": "stream",
     "text": [
      "epoch 18, loss 5.9672, acc 0.1583\n"
     ]
    },
    {
     "name": "stderr",
     "output_type": "stream",
     "text": [
      "100%|██████████| 466/466 [00:03<00:00, 127.00it/s]\n",
      "  2%|▏         | 10/466 [00:00<00:04, 92.60it/s]"
     ]
    },
    {
     "name": "stdout",
     "output_type": "stream",
     "text": [
      "epoch 19, loss 5.8729, acc 0.1678\n"
     ]
    },
    {
     "name": "stderr",
     "output_type": "stream",
     "text": [
      "100%|██████████| 466/466 [00:04<00:00, 106.68it/s]\n",
      "  2%|▏         | 9/466 [00:00<00:05, 85.88it/s]"
     ]
    },
    {
     "name": "stdout",
     "output_type": "stream",
     "text": [
      "epoch 20, loss 5.8060, acc 0.1746\n"
     ]
    },
    {
     "name": "stderr",
     "output_type": "stream",
     "text": [
      "100%|██████████| 466/466 [00:04<00:00, 102.74it/s]\n",
      "  3%|▎         | 12/466 [00:00<00:03, 114.55it/s]"
     ]
    },
    {
     "name": "stdout",
     "output_type": "stream",
     "text": [
      "epoch 21, loss 5.7446, acc 0.1812\n"
     ]
    },
    {
     "name": "stderr",
     "output_type": "stream",
     "text": [
      "100%|██████████| 466/466 [00:04<00:00, 113.02it/s]\n",
      "  3%|▎         | 13/466 [00:00<00:03, 120.74it/s]"
     ]
    },
    {
     "name": "stdout",
     "output_type": "stream",
     "text": [
      "epoch 22, loss 5.6921, acc 0.1863\n"
     ]
    },
    {
     "name": "stderr",
     "output_type": "stream",
     "text": [
      "100%|██████████| 466/466 [00:04<00:00, 115.83it/s]\n",
      "  2%|▏         | 11/466 [00:00<00:04, 105.32it/s]"
     ]
    },
    {
     "name": "stdout",
     "output_type": "stream",
     "text": [
      "epoch 23, loss 5.6420, acc 0.1924\n"
     ]
    },
    {
     "name": "stderr",
     "output_type": "stream",
     "text": [
      "100%|██████████| 466/466 [00:03<00:00, 118.07it/s]\n",
      "  3%|▎         | 13/466 [00:00<00:03, 124.94it/s]"
     ]
    },
    {
     "name": "stdout",
     "output_type": "stream",
     "text": [
      "epoch 24, loss 5.6020, acc 0.1960\n"
     ]
    },
    {
     "name": "stderr",
     "output_type": "stream",
     "text": [
      "100%|██████████| 466/466 [00:03<00:00, 125.25it/s]\n",
      "  3%|▎         | 13/466 [00:00<00:03, 126.10it/s]"
     ]
    },
    {
     "name": "stdout",
     "output_type": "stream",
     "text": [
      "epoch 25, loss 5.5517, acc 0.1998\n"
     ]
    },
    {
     "name": "stderr",
     "output_type": "stream",
     "text": [
      "100%|██████████| 466/466 [00:03<00:00, 117.76it/s]\n",
      "  3%|▎         | 13/466 [00:00<00:03, 125.82it/s]"
     ]
    },
    {
     "name": "stdout",
     "output_type": "stream",
     "text": [
      "epoch 26, loss 5.5107, acc 0.2025\n"
     ]
    },
    {
     "name": "stderr",
     "output_type": "stream",
     "text": [
      "100%|██████████| 466/466 [00:03<00:00, 117.45it/s]\n",
      "  3%|▎         | 13/466 [00:00<00:03, 126.74it/s]"
     ]
    },
    {
     "name": "stdout",
     "output_type": "stream",
     "text": [
      "epoch 27, loss 5.4694, acc 0.2061\n"
     ]
    },
    {
     "name": "stderr",
     "output_type": "stream",
     "text": [
      "100%|██████████| 466/466 [00:04<00:00, 113.51it/s]\n",
      "  3%|▎         | 12/466 [00:00<00:03, 119.16it/s]"
     ]
    },
    {
     "name": "stdout",
     "output_type": "stream",
     "text": [
      "epoch 28, loss 5.4243, acc 0.2087\n"
     ]
    },
    {
     "name": "stderr",
     "output_type": "stream",
     "text": [
      "100%|██████████| 466/466 [00:03<00:00, 122.82it/s]\n",
      "  3%|▎         | 12/466 [00:00<00:03, 114.43it/s]"
     ]
    },
    {
     "name": "stdout",
     "output_type": "stream",
     "text": [
      "epoch 29, loss 5.3893, acc 0.2110\n"
     ]
    },
    {
     "name": "stderr",
     "output_type": "stream",
     "text": [
      "100%|██████████| 466/466 [00:04<00:00, 116.22it/s]\n",
      "  3%|▎         | 12/466 [00:00<00:03, 114.15it/s]"
     ]
    },
    {
     "name": "stdout",
     "output_type": "stream",
     "text": [
      "epoch 30, loss 5.3448, acc 0.2150\n"
     ]
    },
    {
     "name": "stderr",
     "output_type": "stream",
     "text": [
      "100%|██████████| 466/466 [00:03<00:00, 125.44it/s]\n",
      "  3%|▎         | 13/466 [00:00<00:03, 125.72it/s]"
     ]
    },
    {
     "name": "stdout",
     "output_type": "stream",
     "text": [
      "epoch 31, loss 5.3099, acc 0.2167\n"
     ]
    },
    {
     "name": "stderr",
     "output_type": "stream",
     "text": [
      "100%|██████████| 466/466 [00:03<00:00, 123.76it/s]\n",
      "  3%|▎         | 13/466 [00:00<00:03, 124.94it/s]"
     ]
    },
    {
     "name": "stdout",
     "output_type": "stream",
     "text": [
      "epoch 32, loss 5.2694, acc 0.2205\n"
     ]
    },
    {
     "name": "stderr",
     "output_type": "stream",
     "text": [
      "100%|██████████| 466/466 [00:04<00:00, 110.64it/s]\n",
      "  3%|▎         | 12/466 [00:00<00:03, 114.92it/s]"
     ]
    },
    {
     "name": "stdout",
     "output_type": "stream",
     "text": [
      "epoch 33, loss 5.2374, acc 0.2225\n"
     ]
    },
    {
     "name": "stderr",
     "output_type": "stream",
     "text": [
      "100%|██████████| 466/466 [00:03<00:00, 125.55it/s]\n",
      "  3%|▎         | 13/466 [00:00<00:03, 125.53it/s]"
     ]
    },
    {
     "name": "stdout",
     "output_type": "stream",
     "text": [
      "epoch 34, loss 5.2079, acc 0.2241\n"
     ]
    },
    {
     "name": "stderr",
     "output_type": "stream",
     "text": [
      "100%|██████████| 466/466 [00:03<00:00, 119.12it/s]\n",
      "  3%|▎         | 13/466 [00:00<00:03, 123.64it/s]"
     ]
    },
    {
     "name": "stdout",
     "output_type": "stream",
     "text": [
      "epoch 35, loss 5.1709, acc 0.2272\n"
     ]
    },
    {
     "name": "stderr",
     "output_type": "stream",
     "text": [
      "100%|██████████| 466/466 [00:03<00:00, 117.07it/s]\n",
      "  3%|▎         | 13/466 [00:00<00:03, 125.66it/s]"
     ]
    },
    {
     "name": "stdout",
     "output_type": "stream",
     "text": [
      "epoch 36, loss 5.1432, acc 0.2289\n"
     ]
    },
    {
     "name": "stderr",
     "output_type": "stream",
     "text": [
      "100%|██████████| 466/466 [00:03<00:00, 117.91it/s]\n",
      "  3%|▎         | 12/466 [00:00<00:04, 111.51it/s]"
     ]
    },
    {
     "name": "stdout",
     "output_type": "stream",
     "text": [
      "epoch 37, loss 5.1108, acc 0.2316\n"
     ]
    },
    {
     "name": "stderr",
     "output_type": "stream",
     "text": [
      "100%|██████████| 466/466 [00:03<00:00, 122.61it/s]\n",
      "  3%|▎         | 13/466 [00:00<00:03, 126.03it/s]"
     ]
    },
    {
     "name": "stdout",
     "output_type": "stream",
     "text": [
      "epoch 38, loss 5.0839, acc 0.2336\n"
     ]
    },
    {
     "name": "stderr",
     "output_type": "stream",
     "text": [
      "100%|██████████| 466/466 [00:03<00:00, 118.73it/s]\n",
      "  3%|▎         | 13/466 [00:00<00:03, 125.83it/s]"
     ]
    },
    {
     "name": "stdout",
     "output_type": "stream",
     "text": [
      "epoch 39, loss 5.0548, acc 0.2354\n"
     ]
    },
    {
     "name": "stderr",
     "output_type": "stream",
     "text": [
      "100%|██████████| 466/466 [00:03<00:00, 120.36it/s]\n",
      "  2%|▏         | 10/466 [00:00<00:04, 96.94it/s]"
     ]
    },
    {
     "name": "stdout",
     "output_type": "stream",
     "text": [
      "epoch 40, loss 5.0253, acc 0.2366\n"
     ]
    },
    {
     "name": "stderr",
     "output_type": "stream",
     "text": [
      "100%|██████████| 466/466 [00:03<00:00, 118.76it/s]\n",
      "  3%|▎         | 13/466 [00:00<00:03, 123.93it/s]"
     ]
    },
    {
     "name": "stdout",
     "output_type": "stream",
     "text": [
      "epoch 41, loss 5.0009, acc 0.2389\n"
     ]
    },
    {
     "name": "stderr",
     "output_type": "stream",
     "text": [
      "100%|██████████| 466/466 [00:04<00:00, 113.42it/s]\n",
      "  3%|▎         | 13/466 [00:00<00:03, 125.44it/s]"
     ]
    },
    {
     "name": "stdout",
     "output_type": "stream",
     "text": [
      "epoch 42, loss 4.9740, acc 0.2410\n"
     ]
    },
    {
     "name": "stderr",
     "output_type": "stream",
     "text": [
      "100%|██████████| 466/466 [00:04<00:00, 111.54it/s]\n",
      "  2%|▏         | 11/466 [00:00<00:04, 107.71it/s]"
     ]
    },
    {
     "name": "stdout",
     "output_type": "stream",
     "text": [
      "epoch 43, loss 4.9476, acc 0.2431\n"
     ]
    },
    {
     "name": "stderr",
     "output_type": "stream",
     "text": [
      "100%|██████████| 466/466 [00:03<00:00, 122.24it/s]\n",
      "  3%|▎         | 13/466 [00:00<00:03, 123.49it/s]"
     ]
    },
    {
     "name": "stdout",
     "output_type": "stream",
     "text": [
      "epoch 44, loss 4.9194, acc 0.2448\n"
     ]
    },
    {
     "name": "stderr",
     "output_type": "stream",
     "text": [
      "100%|██████████| 466/466 [00:04<00:00, 114.15it/s]\n",
      "  2%|▏         | 11/466 [00:00<00:04, 109.20it/s]"
     ]
    },
    {
     "name": "stdout",
     "output_type": "stream",
     "text": [
      "epoch 45, loss 4.8978, acc 0.2463\n"
     ]
    },
    {
     "name": "stderr",
     "output_type": "stream",
     "text": [
      "100%|██████████| 466/466 [00:03<00:00, 120.50it/s]\n",
      "  3%|▎         | 12/466 [00:00<00:03, 114.58it/s]"
     ]
    },
    {
     "name": "stdout",
     "output_type": "stream",
     "text": [
      "epoch 46, loss 4.8737, acc 0.2480\n"
     ]
    },
    {
     "name": "stderr",
     "output_type": "stream",
     "text": [
      "100%|██████████| 466/466 [00:03<00:00, 119.58it/s]\n",
      "  2%|▏         | 11/466 [00:00<00:04, 107.88it/s]"
     ]
    },
    {
     "name": "stdout",
     "output_type": "stream",
     "text": [
      "epoch 47, loss 4.8465, acc 0.2504\n"
     ]
    },
    {
     "name": "stderr",
     "output_type": "stream",
     "text": [
      "100%|██████████| 466/466 [00:03<00:00, 117.86it/s]\n",
      "  3%|▎         | 13/466 [00:00<00:03, 124.67it/s]"
     ]
    },
    {
     "name": "stdout",
     "output_type": "stream",
     "text": [
      "epoch 48, loss 4.8226, acc 0.2524\n"
     ]
    },
    {
     "name": "stderr",
     "output_type": "stream",
     "text": [
      "100%|██████████| 466/466 [00:03<00:00, 121.59it/s]\n",
      "  3%|▎         | 13/466 [00:00<00:03, 124.93it/s]"
     ]
    },
    {
     "name": "stdout",
     "output_type": "stream",
     "text": [
      "epoch 49, loss 4.7988, acc 0.2537\n"
     ]
    },
    {
     "name": "stderr",
     "output_type": "stream",
     "text": [
      "100%|██████████| 466/466 [00:04<00:00, 112.75it/s]\n",
      "  3%|▎         | 13/466 [00:00<00:03, 121.09it/s]"
     ]
    },
    {
     "name": "stdout",
     "output_type": "stream",
     "text": [
      "epoch 50, loss 4.7800, acc 0.2544\n"
     ]
    },
    {
     "name": "stderr",
     "output_type": "stream",
     "text": [
      "100%|██████████| 466/466 [00:03<00:00, 120.84it/s]\n",
      "  3%|▎         | 13/466 [00:00<00:03, 125.02it/s]"
     ]
    },
    {
     "name": "stdout",
     "output_type": "stream",
     "text": [
      "epoch 51, loss 4.7528, acc 0.2566\n"
     ]
    },
    {
     "name": "stderr",
     "output_type": "stream",
     "text": [
      "100%|██████████| 466/466 [00:04<00:00, 115.12it/s]\n",
      "  3%|▎         | 13/466 [00:00<00:03, 122.03it/s]"
     ]
    },
    {
     "name": "stdout",
     "output_type": "stream",
     "text": [
      "epoch 52, loss 4.7363, acc 0.2572\n"
     ]
    },
    {
     "name": "stderr",
     "output_type": "stream",
     "text": [
      "100%|██████████| 466/466 [00:03<00:00, 118.15it/s]\n",
      "  3%|▎         | 12/466 [00:00<00:04, 110.10it/s]"
     ]
    },
    {
     "name": "stdout",
     "output_type": "stream",
     "text": [
      "epoch 53, loss 4.7042, acc 0.2601\n"
     ]
    },
    {
     "name": "stderr",
     "output_type": "stream",
     "text": [
      "100%|██████████| 466/466 [00:04<00:00, 116.44it/s]\n",
      "  0%|          | 0/466 [00:00<?, ?it/s]"
     ]
    },
    {
     "name": "stdout",
     "output_type": "stream",
     "text": [
      "epoch 54, loss 4.6854, acc 0.2618\n"
     ]
    },
    {
     "name": "stderr",
     "output_type": "stream",
     "text": [
      "100%|██████████| 466/466 [00:04<00:00, 110.56it/s]\n",
      "  3%|▎         | 13/466 [00:00<00:03, 121.37it/s]"
     ]
    },
    {
     "name": "stdout",
     "output_type": "stream",
     "text": [
      "epoch 55, loss 4.6595, acc 0.2643\n"
     ]
    },
    {
     "name": "stderr",
     "output_type": "stream",
     "text": [
      "100%|██████████| 466/466 [00:03<00:00, 120.66it/s]\n",
      "  3%|▎         | 13/466 [00:00<00:03, 125.38it/s]"
     ]
    },
    {
     "name": "stdout",
     "output_type": "stream",
     "text": [
      "epoch 56, loss 4.6373, acc 0.2655\n"
     ]
    },
    {
     "name": "stderr",
     "output_type": "stream",
     "text": [
      "100%|██████████| 466/466 [00:03<00:00, 124.48it/s]\n",
      "  3%|▎         | 13/466 [00:00<00:03, 125.50it/s]"
     ]
    },
    {
     "name": "stdout",
     "output_type": "stream",
     "text": [
      "epoch 57, loss 4.6159, acc 0.2671\n"
     ]
    },
    {
     "name": "stderr",
     "output_type": "stream",
     "text": [
      "100%|██████████| 466/466 [00:03<00:00, 117.29it/s]\n",
      "  3%|▎         | 13/466 [00:00<00:03, 125.59it/s]"
     ]
    },
    {
     "name": "stdout",
     "output_type": "stream",
     "text": [
      "epoch 58, loss 4.6161, acc 0.2659\n"
     ]
    },
    {
     "name": "stderr",
     "output_type": "stream",
     "text": [
      "100%|██████████| 466/466 [00:03<00:00, 125.50it/s]\n",
      "  3%|▎         | 13/466 [00:00<00:03, 126.14it/s]"
     ]
    },
    {
     "name": "stdout",
     "output_type": "stream",
     "text": [
      "epoch 59, loss 4.5983, acc 0.2660\n"
     ]
    },
    {
     "name": "stderr",
     "output_type": "stream",
     "text": [
      "100%|██████████| 466/466 [00:03<00:00, 123.86it/s]\n",
      "  3%|▎         | 13/466 [00:00<00:03, 124.87it/s]"
     ]
    },
    {
     "name": "stdout",
     "output_type": "stream",
     "text": [
      "epoch 60, loss 4.5630, acc 0.2708\n"
     ]
    },
    {
     "name": "stderr",
     "output_type": "stream",
     "text": [
      "100%|██████████| 466/466 [00:03<00:00, 117.39it/s]\n",
      "  3%|▎         | 13/466 [00:00<00:03, 126.09it/s]"
     ]
    },
    {
     "name": "stdout",
     "output_type": "stream",
     "text": [
      "epoch 61, loss 4.5341, acc 0.2732\n"
     ]
    },
    {
     "name": "stderr",
     "output_type": "stream",
     "text": [
      "100%|██████████| 466/466 [00:03<00:00, 123.36it/s]\n",
      "  3%|▎         | 13/466 [00:00<00:03, 125.54it/s]"
     ]
    },
    {
     "name": "stdout",
     "output_type": "stream",
     "text": [
      "epoch 62, loss 4.5085, acc 0.2757\n"
     ]
    },
    {
     "name": "stderr",
     "output_type": "stream",
     "text": [
      "100%|██████████| 466/466 [00:03<00:00, 120.14it/s]\n",
      "  2%|▏         | 10/466 [00:00<00:04, 91.84it/s]"
     ]
    },
    {
     "name": "stdout",
     "output_type": "stream",
     "text": [
      "epoch 63, loss 4.4930, acc 0.2768\n"
     ]
    },
    {
     "name": "stderr",
     "output_type": "stream",
     "text": [
      "100%|██████████| 466/466 [00:04<00:00, 105.94it/s]\n",
      "  2%|▏         | 11/466 [00:00<00:04, 106.65it/s]"
     ]
    },
    {
     "name": "stdout",
     "output_type": "stream",
     "text": [
      "epoch 64, loss 4.4677, acc 0.2785\n"
     ]
    },
    {
     "name": "stderr",
     "output_type": "stream",
     "text": [
      "100%|██████████| 466/466 [00:03<00:00, 120.98it/s]\n",
      "  3%|▎         | 12/466 [00:00<00:03, 118.60it/s]"
     ]
    },
    {
     "name": "stdout",
     "output_type": "stream",
     "text": [
      "epoch 65, loss 4.4479, acc 0.2799\n"
     ]
    },
    {
     "name": "stderr",
     "output_type": "stream",
     "text": [
      "100%|██████████| 466/466 [00:03<00:00, 122.17it/s]\n",
      "  3%|▎         | 13/466 [00:00<00:03, 122.83it/s]"
     ]
    },
    {
     "name": "stdout",
     "output_type": "stream",
     "text": [
      "epoch 66, loss 4.4300, acc 0.2810\n"
     ]
    },
    {
     "name": "stderr",
     "output_type": "stream",
     "text": [
      "100%|██████████| 466/466 [00:03<00:00, 120.20it/s]\n",
      "  3%|▎         | 12/466 [00:00<00:03, 119.74it/s]"
     ]
    },
    {
     "name": "stdout",
     "output_type": "stream",
     "text": [
      "epoch 67, loss 4.4108, acc 0.2827\n"
     ]
    },
    {
     "name": "stderr",
     "output_type": "stream",
     "text": [
      "100%|██████████| 466/466 [00:04<00:00, 112.20it/s]\n",
      "  2%|▏         | 11/466 [00:00<00:04, 108.44it/s]"
     ]
    },
    {
     "name": "stdout",
     "output_type": "stream",
     "text": [
      "epoch 68, loss 4.3889, acc 0.2844\n"
     ]
    },
    {
     "name": "stderr",
     "output_type": "stream",
     "text": [
      "100%|██████████| 466/466 [00:04<00:00, 115.94it/s]\n",
      "  3%|▎         | 12/466 [00:00<00:03, 119.61it/s]"
     ]
    },
    {
     "name": "stdout",
     "output_type": "stream",
     "text": [
      "epoch 69, loss 4.3741, acc 0.2843\n"
     ]
    },
    {
     "name": "stderr",
     "output_type": "stream",
     "text": [
      "100%|██████████| 466/466 [00:03<00:00, 116.78it/s]\n",
      "  2%|▏         | 11/466 [00:00<00:04, 107.04it/s]"
     ]
    },
    {
     "name": "stdout",
     "output_type": "stream",
     "text": [
      "epoch 70, loss 4.3569, acc 0.2868\n"
     ]
    },
    {
     "name": "stderr",
     "output_type": "stream",
     "text": [
      "100%|██████████| 466/466 [00:04<00:00, 111.43it/s]\n",
      "  3%|▎         | 12/466 [00:00<00:03, 114.25it/s]"
     ]
    },
    {
     "name": "stdout",
     "output_type": "stream",
     "text": [
      "epoch 71, loss 4.3336, acc 0.2881\n"
     ]
    },
    {
     "name": "stderr",
     "output_type": "stream",
     "text": [
      "100%|██████████| 466/466 [00:03<00:00, 119.35it/s]\n",
      "  3%|▎         | 12/466 [00:00<00:03, 114.34it/s]"
     ]
    },
    {
     "name": "stdout",
     "output_type": "stream",
     "text": [
      "epoch 72, loss 4.3148, acc 0.2897\n"
     ]
    },
    {
     "name": "stderr",
     "output_type": "stream",
     "text": [
      "100%|██████████| 466/466 [00:04<00:00, 113.99it/s]\n",
      "  2%|▏         | 11/466 [00:00<00:04, 100.92it/s]"
     ]
    },
    {
     "name": "stdout",
     "output_type": "stream",
     "text": [
      "epoch 73, loss 4.2945, acc 0.2916\n"
     ]
    },
    {
     "name": "stderr",
     "output_type": "stream",
     "text": [
      "100%|██████████| 466/466 [00:04<00:00, 115.69it/s]\n",
      "  3%|▎         | 12/466 [00:00<00:03, 118.98it/s]"
     ]
    },
    {
     "name": "stdout",
     "output_type": "stream",
     "text": [
      "epoch 74, loss 4.2799, acc 0.2923\n"
     ]
    },
    {
     "name": "stderr",
     "output_type": "stream",
     "text": [
      "100%|██████████| 466/466 [00:03<00:00, 120.15it/s]\n",
      "  3%|▎         | 13/466 [00:00<00:03, 126.68it/s]"
     ]
    },
    {
     "name": "stdout",
     "output_type": "stream",
     "text": [
      "epoch 75, loss 4.2572, acc 0.2952\n"
     ]
    },
    {
     "name": "stderr",
     "output_type": "stream",
     "text": [
      "100%|██████████| 466/466 [00:04<00:00, 115.27it/s]\n",
      "  3%|▎         | 13/466 [00:00<00:03, 125.97it/s]"
     ]
    },
    {
     "name": "stdout",
     "output_type": "stream",
     "text": [
      "epoch 76, loss 4.2863, acc 0.2905\n"
     ]
    },
    {
     "name": "stderr",
     "output_type": "stream",
     "text": [
      "100%|██████████| 466/466 [00:03<00:00, 122.07it/s]\n",
      "  3%|▎         | 13/466 [00:00<00:03, 125.15it/s]"
     ]
    },
    {
     "name": "stdout",
     "output_type": "stream",
     "text": [
      "epoch 77, loss 4.2389, acc 0.2960\n"
     ]
    },
    {
     "name": "stderr",
     "output_type": "stream",
     "text": [
      "100%|██████████| 466/466 [00:03<00:00, 116.77it/s]\n",
      "  3%|▎         | 12/466 [00:00<00:03, 113.89it/s]"
     ]
    },
    {
     "name": "stdout",
     "output_type": "stream",
     "text": [
      "epoch 78, loss 4.2072, acc 0.2989\n"
     ]
    },
    {
     "name": "stderr",
     "output_type": "stream",
     "text": [
      "100%|██████████| 466/466 [00:03<00:00, 120.68it/s]\n",
      "  3%|▎         | 13/466 [00:00<00:03, 124.71it/s]"
     ]
    },
    {
     "name": "stdout",
     "output_type": "stream",
     "text": [
      "epoch 79, loss 4.1916, acc 0.3005\n"
     ]
    },
    {
     "name": "stderr",
     "output_type": "stream",
     "text": [
      "100%|██████████| 466/466 [00:03<00:00, 120.16it/s]\n",
      "  3%|▎         | 13/466 [00:00<00:03, 125.76it/s]"
     ]
    },
    {
     "name": "stdout",
     "output_type": "stream",
     "text": [
      "epoch 80, loss 4.1729, acc 0.3012\n"
     ]
    },
    {
     "name": "stderr",
     "output_type": "stream",
     "text": [
      "100%|██████████| 466/466 [00:03<00:00, 120.19it/s]\n",
      "  3%|▎         | 13/466 [00:00<00:03, 124.70it/s]"
     ]
    },
    {
     "name": "stdout",
     "output_type": "stream",
     "text": [
      "epoch 81, loss 4.1532, acc 0.3033\n"
     ]
    },
    {
     "name": "stderr",
     "output_type": "stream",
     "text": [
      "100%|██████████| 466/466 [00:04<00:00, 106.68it/s]\n",
      "  2%|▏         | 11/466 [00:00<00:04, 108.18it/s]"
     ]
    },
    {
     "name": "stdout",
     "output_type": "stream",
     "text": [
      "epoch 82, loss 4.1391, acc 0.3046\n"
     ]
    },
    {
     "name": "stderr",
     "output_type": "stream",
     "text": [
      "100%|██████████| 466/466 [00:04<00:00, 113.20it/s]\n",
      "  3%|▎         | 13/466 [00:00<00:03, 126.62it/s]"
     ]
    },
    {
     "name": "stdout",
     "output_type": "stream",
     "text": [
      "epoch 83, loss 4.1154, acc 0.3065\n"
     ]
    },
    {
     "name": "stderr",
     "output_type": "stream",
     "text": [
      "100%|██████████| 466/466 [00:03<00:00, 122.06it/s]\n",
      "  3%|▎         | 13/466 [00:00<00:03, 125.57it/s]"
     ]
    },
    {
     "name": "stdout",
     "output_type": "stream",
     "text": [
      "epoch 84, loss 4.0973, acc 0.3078\n"
     ]
    },
    {
     "name": "stderr",
     "output_type": "stream",
     "text": [
      "100%|██████████| 466/466 [00:03<00:00, 117.31it/s]\n",
      "  3%|▎         | 13/466 [00:00<00:03, 125.40it/s]"
     ]
    },
    {
     "name": "stdout",
     "output_type": "stream",
     "text": [
      "epoch 85, loss 4.0802, acc 0.3101\n"
     ]
    },
    {
     "name": "stderr",
     "output_type": "stream",
     "text": [
      "100%|██████████| 466/466 [00:03<00:00, 117.75it/s]\n",
      "  3%|▎         | 13/466 [00:00<00:03, 124.79it/s]"
     ]
    },
    {
     "name": "stdout",
     "output_type": "stream",
     "text": [
      "epoch 86, loss 4.0651, acc 0.3110\n"
     ]
    },
    {
     "name": "stderr",
     "output_type": "stream",
     "text": [
      "100%|██████████| 466/466 [00:03<00:00, 117.74it/s]\n",
      "  3%|▎         | 13/466 [00:00<00:03, 124.65it/s]"
     ]
    },
    {
     "name": "stdout",
     "output_type": "stream",
     "text": [
      "epoch 87, loss 4.0473, acc 0.3124\n"
     ]
    },
    {
     "name": "stderr",
     "output_type": "stream",
     "text": [
      "100%|██████████| 466/466 [00:03<00:00, 119.83it/s]\n",
      "  3%|▎         | 13/466 [00:00<00:03, 124.53it/s]"
     ]
    },
    {
     "name": "stdout",
     "output_type": "stream",
     "text": [
      "epoch 88, loss 4.0271, acc 0.3140\n"
     ]
    },
    {
     "name": "stderr",
     "output_type": "stream",
     "text": [
      "100%|██████████| 466/466 [00:03<00:00, 122.13it/s]\n",
      "  3%|▎         | 13/466 [00:00<00:03, 124.52it/s]"
     ]
    },
    {
     "name": "stdout",
     "output_type": "stream",
     "text": [
      "epoch 89, loss 4.0086, acc 0.3165\n"
     ]
    },
    {
     "name": "stderr",
     "output_type": "stream",
     "text": [
      "100%|██████████| 466/466 [00:03<00:00, 122.02it/s]\n",
      "  3%|▎         | 12/466 [00:00<00:03, 114.73it/s]"
     ]
    },
    {
     "name": "stdout",
     "output_type": "stream",
     "text": [
      "epoch 90, loss 3.9908, acc 0.3183\n"
     ]
    },
    {
     "name": "stderr",
     "output_type": "stream",
     "text": [
      "100%|██████████| 466/466 [00:03<00:00, 117.08it/s]\n",
      "  2%|▏         | 11/466 [00:00<00:04, 108.48it/s]"
     ]
    },
    {
     "name": "stdout",
     "output_type": "stream",
     "text": [
      "epoch 91, loss 3.9765, acc 0.3185\n"
     ]
    },
    {
     "name": "stderr",
     "output_type": "stream",
     "text": [
      "100%|██████████| 466/466 [00:03<00:00, 117.58it/s]\n",
      "  3%|▎         | 12/466 [00:00<00:03, 114.73it/s]"
     ]
    },
    {
     "name": "stdout",
     "output_type": "stream",
     "text": [
      "epoch 92, loss 3.9799, acc 0.3182\n"
     ]
    },
    {
     "name": "stderr",
     "output_type": "stream",
     "text": [
      "100%|██████████| 466/466 [00:03<00:00, 122.33it/s]\n",
      "  3%|▎         | 13/466 [00:00<00:03, 124.80it/s]"
     ]
    },
    {
     "name": "stdout",
     "output_type": "stream",
     "text": [
      "epoch 93, loss 3.9462, acc 0.3219\n"
     ]
    },
    {
     "name": "stderr",
     "output_type": "stream",
     "text": [
      "100%|██████████| 466/466 [00:03<00:00, 119.22it/s]\n",
      "  3%|▎         | 12/466 [00:00<00:03, 118.23it/s]"
     ]
    },
    {
     "name": "stdout",
     "output_type": "stream",
     "text": [
      "epoch 94, loss 3.9259, acc 0.3242\n"
     ]
    },
    {
     "name": "stderr",
     "output_type": "stream",
     "text": [
      "100%|██████████| 466/466 [00:04<00:00, 115.26it/s]\n",
      "  2%|▏         | 11/466 [00:00<00:04, 108.58it/s]"
     ]
    },
    {
     "name": "stdout",
     "output_type": "stream",
     "text": [
      "epoch 95, loss 3.9062, acc 0.3265\n"
     ]
    },
    {
     "name": "stderr",
     "output_type": "stream",
     "text": [
      "100%|██████████| 466/466 [00:04<00:00, 113.79it/s]\n",
      "  2%|▏         | 11/466 [00:00<00:04, 107.98it/s]"
     ]
    },
    {
     "name": "stdout",
     "output_type": "stream",
     "text": [
      "epoch 96, loss 3.8936, acc 0.3265\n"
     ]
    },
    {
     "name": "stderr",
     "output_type": "stream",
     "text": [
      "100%|██████████| 466/466 [00:03<00:00, 117.89it/s]\n",
      "  3%|▎         | 13/466 [00:00<00:03, 125.38it/s]"
     ]
    },
    {
     "name": "stdout",
     "output_type": "stream",
     "text": [
      "epoch 97, loss 3.8759, acc 0.3292\n"
     ]
    },
    {
     "name": "stderr",
     "output_type": "stream",
     "text": [
      "100%|██████████| 466/466 [00:03<00:00, 117.33it/s]\n",
      "  2%|▏         | 11/466 [00:00<00:04, 105.43it/s]"
     ]
    },
    {
     "name": "stdout",
     "output_type": "stream",
     "text": [
      "epoch 98, loss 3.8576, acc 0.3305\n"
     ]
    },
    {
     "name": "stderr",
     "output_type": "stream",
     "text": [
      "100%|██████████| 466/466 [00:03<00:00, 117.63it/s]\n",
      "  3%|▎         | 13/466 [00:00<00:03, 126.21it/s]"
     ]
    },
    {
     "name": "stdout",
     "output_type": "stream",
     "text": [
      "epoch 99, loss 3.8423, acc 0.3317\n"
     ]
    },
    {
     "name": "stderr",
     "output_type": "stream",
     "text": [
      "100%|██████████| 466/466 [00:04<00:00, 108.98it/s]\n",
      "  2%|▏         | 11/466 [00:00<00:04, 109.16it/s]"
     ]
    },
    {
     "name": "stdout",
     "output_type": "stream",
     "text": [
      "epoch 100, loss 3.8237, acc 0.3342\n"
     ]
    },
    {
     "name": "stderr",
     "output_type": "stream",
     "text": [
      "100%|██████████| 466/466 [00:03<00:00, 121.58it/s]\n",
      "  2%|▏         | 10/466 [00:00<00:04, 92.99it/s]"
     ]
    },
    {
     "name": "stdout",
     "output_type": "stream",
     "text": [
      "epoch 101, loss 3.8073, acc 0.3350\n"
     ]
    },
    {
     "name": "stderr",
     "output_type": "stream",
     "text": [
      "100%|██████████| 466/466 [00:04<00:00, 112.65it/s]\n",
      "  3%|▎         | 13/466 [00:00<00:03, 125.52it/s]"
     ]
    },
    {
     "name": "stdout",
     "output_type": "stream",
     "text": [
      "epoch 102, loss 3.7916, acc 0.3370\n"
     ]
    },
    {
     "name": "stderr",
     "output_type": "stream",
     "text": [
      "100%|██████████| 466/466 [00:03<00:00, 118.51it/s]\n",
      "  3%|▎         | 12/466 [00:00<00:03, 115.07it/s]"
     ]
    },
    {
     "name": "stdout",
     "output_type": "stream",
     "text": [
      "epoch 103, loss 3.7783, acc 0.3383\n"
     ]
    },
    {
     "name": "stderr",
     "output_type": "stream",
     "text": [
      "100%|██████████| 466/466 [00:03<00:00, 119.55it/s]\n",
      "  3%|▎         | 13/466 [00:00<00:03, 124.85it/s]"
     ]
    },
    {
     "name": "stdout",
     "output_type": "stream",
     "text": [
      "epoch 104, loss 3.7598, acc 0.3402\n"
     ]
    },
    {
     "name": "stderr",
     "output_type": "stream",
     "text": [
      "100%|██████████| 466/466 [00:04<00:00, 114.17it/s]\n",
      "  3%|▎         | 13/466 [00:00<00:03, 125.34it/s]"
     ]
    },
    {
     "name": "stdout",
     "output_type": "stream",
     "text": [
      "epoch 105, loss 3.7410, acc 0.3421\n"
     ]
    },
    {
     "name": "stderr",
     "output_type": "stream",
     "text": [
      "100%|██████████| 466/466 [00:03<00:00, 120.44it/s]\n",
      "  3%|▎         | 12/466 [00:00<00:03, 114.03it/s]"
     ]
    },
    {
     "name": "stdout",
     "output_type": "stream",
     "text": [
      "epoch 106, loss 3.7254, acc 0.3430\n"
     ]
    },
    {
     "name": "stderr",
     "output_type": "stream",
     "text": [
      "100%|██████████| 466/466 [00:04<00:00, 115.80it/s]\n",
      "  3%|▎         | 13/466 [00:00<00:03, 125.15it/s]"
     ]
    },
    {
     "name": "stdout",
     "output_type": "stream",
     "text": [
      "epoch 107, loss 3.7087, acc 0.3457\n"
     ]
    },
    {
     "name": "stderr",
     "output_type": "stream",
     "text": [
      "100%|██████████| 466/466 [00:03<00:00, 122.86it/s]\n",
      "  3%|▎         | 13/466 [00:00<00:03, 123.44it/s]"
     ]
    },
    {
     "name": "stdout",
     "output_type": "stream",
     "text": [
      "epoch 108, loss 3.6874, acc 0.3482\n"
     ]
    },
    {
     "name": "stderr",
     "output_type": "stream",
     "text": [
      "100%|██████████| 466/466 [00:04<00:00, 112.33it/s]\n",
      "  3%|▎         | 12/466 [00:00<00:03, 119.69it/s]"
     ]
    },
    {
     "name": "stdout",
     "output_type": "stream",
     "text": [
      "epoch 109, loss 3.6852, acc 0.3467\n"
     ]
    },
    {
     "name": "stderr",
     "output_type": "stream",
     "text": [
      "100%|██████████| 466/466 [00:03<00:00, 122.48it/s]\n",
      "  3%|▎         | 13/466 [00:00<00:03, 120.36it/s]"
     ]
    },
    {
     "name": "stdout",
     "output_type": "stream",
     "text": [
      "epoch 110, loss 3.6598, acc 0.3512\n"
     ]
    },
    {
     "name": "stderr",
     "output_type": "stream",
     "text": [
      "100%|██████████| 466/466 [00:03<00:00, 117.21it/s]\n",
      "  3%|▎         | 13/466 [00:00<00:03, 126.12it/s]"
     ]
    },
    {
     "name": "stdout",
     "output_type": "stream",
     "text": [
      "epoch 111, loss 3.6409, acc 0.3526\n"
     ]
    },
    {
     "name": "stderr",
     "output_type": "stream",
     "text": [
      "100%|██████████| 466/466 [00:03<00:00, 120.07it/s]\n",
      "  3%|▎         | 13/466 [00:00<00:03, 125.15it/s]"
     ]
    },
    {
     "name": "stdout",
     "output_type": "stream",
     "text": [
      "epoch 112, loss 3.6267, acc 0.3548\n"
     ]
    },
    {
     "name": "stderr",
     "output_type": "stream",
     "text": [
      "100%|██████████| 466/466 [00:03<00:00, 116.86it/s]\n",
      "  2%|▏         | 11/466 [00:00<00:04, 101.14it/s]"
     ]
    },
    {
     "name": "stdout",
     "output_type": "stream",
     "text": [
      "epoch 113, loss 3.6117, acc 0.3556\n"
     ]
    },
    {
     "name": "stderr",
     "output_type": "stream",
     "text": [
      "100%|██████████| 466/466 [00:03<00:00, 117.03it/s]\n",
      "  2%|▏         | 11/466 [00:00<00:04, 106.13it/s]"
     ]
    },
    {
     "name": "stdout",
     "output_type": "stream",
     "text": [
      "epoch 114, loss 3.6017, acc 0.3572\n"
     ]
    },
    {
     "name": "stderr",
     "output_type": "stream",
     "text": [
      "100%|██████████| 466/466 [00:04<00:00, 113.36it/s]\n",
      "  3%|▎         | 12/466 [00:00<00:03, 119.62it/s]"
     ]
    },
    {
     "name": "stdout",
     "output_type": "stream",
     "text": [
      "epoch 115, loss 3.5819, acc 0.3588\n"
     ]
    },
    {
     "name": "stderr",
     "output_type": "stream",
     "text": [
      "100%|██████████| 466/466 [00:03<00:00, 118.60it/s]\n",
      "  3%|▎         | 12/466 [00:00<00:03, 119.84it/s]"
     ]
    },
    {
     "name": "stdout",
     "output_type": "stream",
     "text": [
      "epoch 116, loss 3.5666, acc 0.3606\n"
     ]
    },
    {
     "name": "stderr",
     "output_type": "stream",
     "text": [
      "100%|██████████| 466/466 [00:04<00:00, 113.16it/s]\n",
      "  3%|▎         | 13/466 [00:00<00:03, 124.31it/s]"
     ]
    },
    {
     "name": "stdout",
     "output_type": "stream",
     "text": [
      "epoch 117, loss 3.5467, acc 0.3630\n"
     ]
    },
    {
     "name": "stderr",
     "output_type": "stream",
     "text": [
      "100%|██████████| 466/466 [00:04<00:00, 115.24it/s]\n",
      "  3%|▎         | 13/466 [00:00<00:03, 122.82it/s]"
     ]
    },
    {
     "name": "stdout",
     "output_type": "stream",
     "text": [
      "epoch 118, loss 3.5310, acc 0.3648\n"
     ]
    },
    {
     "name": "stderr",
     "output_type": "stream",
     "text": [
      "100%|██████████| 466/466 [00:04<00:00, 113.22it/s]\n",
      "  3%|▎         | 13/466 [00:00<00:03, 125.10it/s]"
     ]
    },
    {
     "name": "stdout",
     "output_type": "stream",
     "text": [
      "epoch 119, loss 3.5178, acc 0.3666\n"
     ]
    },
    {
     "name": "stderr",
     "output_type": "stream",
     "text": [
      "100%|██████████| 466/466 [00:03<00:00, 117.63it/s]\n",
      "  3%|▎         | 13/466 [00:00<00:03, 125.10it/s]"
     ]
    },
    {
     "name": "stdout",
     "output_type": "stream",
     "text": [
      "epoch 120, loss 3.4996, acc 0.3678\n"
     ]
    },
    {
     "name": "stderr",
     "output_type": "stream",
     "text": [
      "100%|██████████| 466/466 [00:03<00:00, 116.71it/s]\n",
      "  3%|▎         | 12/466 [00:00<00:03, 118.28it/s]"
     ]
    },
    {
     "name": "stdout",
     "output_type": "stream",
     "text": [
      "epoch 121, loss 3.4815, acc 0.3699\n"
     ]
    },
    {
     "name": "stderr",
     "output_type": "stream",
     "text": [
      "100%|██████████| 466/466 [00:03<00:00, 117.89it/s]\n",
      "  2%|▏         | 11/466 [00:00<00:04, 107.78it/s]"
     ]
    },
    {
     "name": "stdout",
     "output_type": "stream",
     "text": [
      "epoch 122, loss 3.4719, acc 0.3713\n"
     ]
    },
    {
     "name": "stderr",
     "output_type": "stream",
     "text": [
      "100%|██████████| 466/466 [00:03<00:00, 120.34it/s]\n",
      "  3%|▎         | 13/466 [00:00<00:03, 122.54it/s]"
     ]
    },
    {
     "name": "stdout",
     "output_type": "stream",
     "text": [
      "epoch 123, loss 3.4496, acc 0.3748\n"
     ]
    },
    {
     "name": "stderr",
     "output_type": "stream",
     "text": [
      "100%|██████████| 466/466 [00:03<00:00, 123.18it/s]\n",
      "  3%|▎         | 13/466 [00:00<00:03, 125.34it/s]"
     ]
    },
    {
     "name": "stdout",
     "output_type": "stream",
     "text": [
      "epoch 124, loss 3.4369, acc 0.3754\n"
     ]
    },
    {
     "name": "stderr",
     "output_type": "stream",
     "text": [
      "100%|██████████| 466/466 [00:03<00:00, 119.81it/s]\n",
      "  3%|▎         | 13/466 [00:00<00:03, 125.48it/s]"
     ]
    },
    {
     "name": "stdout",
     "output_type": "stream",
     "text": [
      "epoch 125, loss 3.4182, acc 0.3778\n"
     ]
    },
    {
     "name": "stderr",
     "output_type": "stream",
     "text": [
      "100%|██████████| 466/466 [00:03<00:00, 122.78it/s]\n",
      "  3%|▎         | 13/466 [00:00<00:03, 125.56it/s]"
     ]
    },
    {
     "name": "stdout",
     "output_type": "stream",
     "text": [
      "epoch 126, loss 3.4111, acc 0.3771\n"
     ]
    },
    {
     "name": "stderr",
     "output_type": "stream",
     "text": [
      "100%|██████████| 466/466 [00:03<00:00, 120.66it/s]\n",
      "  3%|▎         | 12/466 [00:00<00:03, 114.20it/s]"
     ]
    },
    {
     "name": "stdout",
     "output_type": "stream",
     "text": [
      "epoch 127, loss 3.4434, acc 0.3701\n"
     ]
    },
    {
     "name": "stderr",
     "output_type": "stream",
     "text": [
      "100%|██████████| 466/466 [00:04<00:00, 108.79it/s]\n",
      "  3%|▎         | 13/466 [00:00<00:03, 125.98it/s]"
     ]
    },
    {
     "name": "stdout",
     "output_type": "stream",
     "text": [
      "epoch 128, loss 3.3888, acc 0.3798\n"
     ]
    },
    {
     "name": "stderr",
     "output_type": "stream",
     "text": [
      "100%|██████████| 466/466 [00:04<00:00, 115.95it/s]\n",
      "  2%|▏         | 9/466 [00:00<00:05, 80.98it/s]"
     ]
    },
    {
     "name": "stdout",
     "output_type": "stream",
     "text": [
      "epoch 129, loss 3.3687, acc 0.3823\n"
     ]
    },
    {
     "name": "stderr",
     "output_type": "stream",
     "text": [
      "100%|██████████| 466/466 [00:04<00:00, 110.00it/s]\n",
      "  2%|▏         | 10/466 [00:00<00:04, 91.74it/s]"
     ]
    },
    {
     "name": "stdout",
     "output_type": "stream",
     "text": [
      "epoch 130, loss 3.3557, acc 0.3828\n"
     ]
    },
    {
     "name": "stderr",
     "output_type": "stream",
     "text": [
      "100%|██████████| 466/466 [00:04<00:00, 115.48it/s]\n",
      "  3%|▎         | 13/466 [00:00<00:03, 120.85it/s]"
     ]
    },
    {
     "name": "stdout",
     "output_type": "stream",
     "text": [
      "epoch 131, loss 3.3357, acc 0.3855\n"
     ]
    },
    {
     "name": "stderr",
     "output_type": "stream",
     "text": [
      "100%|██████████| 466/466 [00:04<00:00, 115.35it/s]\n",
      "  3%|▎         | 13/466 [00:00<00:03, 126.22it/s]"
     ]
    },
    {
     "name": "stdout",
     "output_type": "stream",
     "text": [
      "epoch 132, loss 3.3216, acc 0.3879\n"
     ]
    },
    {
     "name": "stderr",
     "output_type": "stream",
     "text": [
      "100%|██████████| 466/466 [00:04<00:00, 114.67it/s]\n",
      "  2%|▏         | 11/466 [00:00<00:04, 106.91it/s]"
     ]
    },
    {
     "name": "stdout",
     "output_type": "stream",
     "text": [
      "epoch 133, loss 3.3026, acc 0.3905\n"
     ]
    },
    {
     "name": "stderr",
     "output_type": "stream",
     "text": [
      "100%|██████████| 466/466 [00:03<00:00, 117.88it/s]\n",
      "  3%|▎         | 13/466 [00:00<00:03, 121.82it/s]"
     ]
    },
    {
     "name": "stdout",
     "output_type": "stream",
     "text": [
      "epoch 134, loss 3.2889, acc 0.3925\n"
     ]
    },
    {
     "name": "stderr",
     "output_type": "stream",
     "text": [
      "100%|██████████| 466/466 [00:03<00:00, 121.54it/s]\n",
      "  2%|▏         | 11/466 [00:00<00:04, 106.79it/s]"
     ]
    },
    {
     "name": "stdout",
     "output_type": "stream",
     "text": [
      "epoch 135, loss 3.2859, acc 0.3917\n"
     ]
    },
    {
     "name": "stderr",
     "output_type": "stream",
     "text": [
      "100%|██████████| 466/466 [00:03<00:00, 118.52it/s]\n",
      "  3%|▎         | 12/466 [00:00<00:04, 112.32it/s]"
     ]
    },
    {
     "name": "stdout",
     "output_type": "stream",
     "text": [
      "epoch 136, loss 3.2584, acc 0.3954\n"
     ]
    },
    {
     "name": "stderr",
     "output_type": "stream",
     "text": [
      "100%|██████████| 466/466 [00:04<00:00, 109.76it/s]\n",
      "  3%|▎         | 12/466 [00:00<00:03, 118.77it/s]"
     ]
    },
    {
     "name": "stdout",
     "output_type": "stream",
     "text": [
      "epoch 137, loss 3.2392, acc 0.3969\n"
     ]
    },
    {
     "name": "stderr",
     "output_type": "stream",
     "text": [
      "100%|██████████| 466/466 [00:03<00:00, 120.81it/s]\n",
      "  3%|▎         | 13/466 [00:00<00:03, 121.93it/s]"
     ]
    },
    {
     "name": "stdout",
     "output_type": "stream",
     "text": [
      "epoch 138, loss 3.2258, acc 0.3991\n"
     ]
    },
    {
     "name": "stderr",
     "output_type": "stream",
     "text": [
      "100%|██████████| 466/466 [00:03<00:00, 121.19it/s]\n",
      "  3%|▎         | 13/466 [00:00<00:03, 124.61it/s]"
     ]
    },
    {
     "name": "stdout",
     "output_type": "stream",
     "text": [
      "epoch 139, loss 3.2105, acc 0.4010\n"
     ]
    },
    {
     "name": "stderr",
     "output_type": "stream",
     "text": [
      "100%|██████████| 466/466 [00:03<00:00, 123.87it/s]\n",
      "  3%|▎         | 13/466 [00:00<00:03, 124.70it/s]"
     ]
    },
    {
     "name": "stdout",
     "output_type": "stream",
     "text": [
      "epoch 140, loss 3.1971, acc 0.4026\n"
     ]
    },
    {
     "name": "stderr",
     "output_type": "stream",
     "text": [
      "100%|██████████| 466/466 [00:03<00:00, 122.57it/s]\n",
      "  3%|▎         | 12/466 [00:00<00:04, 112.76it/s]"
     ]
    },
    {
     "name": "stdout",
     "output_type": "stream",
     "text": [
      "epoch 141, loss 3.1821, acc 0.4039\n"
     ]
    },
    {
     "name": "stderr",
     "output_type": "stream",
     "text": [
      "100%|██████████| 466/466 [00:03<00:00, 116.78it/s]\n",
      "  3%|▎         | 12/466 [00:00<00:04, 113.20it/s]"
     ]
    },
    {
     "name": "stdout",
     "output_type": "stream",
     "text": [
      "epoch 142, loss 3.1625, acc 0.4075\n"
     ]
    },
    {
     "name": "stderr",
     "output_type": "stream",
     "text": [
      "100%|██████████| 466/466 [00:03<00:00, 120.92it/s]\n",
      "  2%|▏         | 10/466 [00:00<00:04, 92.80it/s]"
     ]
    },
    {
     "name": "stdout",
     "output_type": "stream",
     "text": [
      "epoch 143, loss 3.1713, acc 0.4041\n"
     ]
    },
    {
     "name": "stderr",
     "output_type": "stream",
     "text": [
      "100%|██████████| 466/466 [00:04<00:00, 111.01it/s]\n",
      "  2%|▏         | 11/466 [00:00<00:04, 109.54it/s]"
     ]
    },
    {
     "name": "stdout",
     "output_type": "stream",
     "text": [
      "epoch 144, loss 3.1537, acc 0.4076\n"
     ]
    },
    {
     "name": "stderr",
     "output_type": "stream",
     "text": [
      "100%|██████████| 466/466 [00:03<00:00, 119.94it/s]\n",
      "  2%|▏         | 10/466 [00:00<00:04, 99.61it/s]"
     ]
    },
    {
     "name": "stdout",
     "output_type": "stream",
     "text": [
      "epoch 145, loss 3.1253, acc 0.4107\n"
     ]
    },
    {
     "name": "stderr",
     "output_type": "stream",
     "text": [
      "100%|██████████| 466/466 [00:04<00:00, 107.50it/s]\n",
      "  3%|▎         | 12/466 [00:00<00:04, 111.25it/s]"
     ]
    },
    {
     "name": "stdout",
     "output_type": "stream",
     "text": [
      "epoch 146, loss 3.1082, acc 0.4143\n"
     ]
    },
    {
     "name": "stderr",
     "output_type": "stream",
     "text": [
      "100%|██████████| 466/466 [00:03<00:00, 120.65it/s]\n",
      "  3%|▎         | 13/466 [00:00<00:03, 123.74it/s]"
     ]
    },
    {
     "name": "stdout",
     "output_type": "stream",
     "text": [
      "epoch 147, loss 3.0911, acc 0.4160\n"
     ]
    },
    {
     "name": "stderr",
     "output_type": "stream",
     "text": [
      "100%|██████████| 466/466 [00:03<00:00, 118.97it/s]\n",
      "  3%|▎         | 13/466 [00:00<00:03, 126.19it/s]"
     ]
    },
    {
     "name": "stdout",
     "output_type": "stream",
     "text": [
      "epoch 148, loss 3.0801, acc 0.4168\n"
     ]
    },
    {
     "name": "stderr",
     "output_type": "stream",
     "text": [
      "100%|██████████| 466/466 [00:03<00:00, 120.29it/s]\n",
      "  3%|▎         | 13/466 [00:00<00:03, 124.66it/s]"
     ]
    },
    {
     "name": "stdout",
     "output_type": "stream",
     "text": [
      "epoch 149, loss 3.0674, acc 0.4174\n"
     ]
    },
    {
     "name": "stderr",
     "output_type": "stream",
     "text": [
      "100%|██████████| 466/466 [00:03<00:00, 124.29it/s]\n",
      "  3%|▎         | 13/466 [00:00<00:03, 123.56it/s]"
     ]
    },
    {
     "name": "stdout",
     "output_type": "stream",
     "text": [
      "epoch 150, loss 3.0458, acc 0.4220\n"
     ]
    },
    {
     "name": "stderr",
     "output_type": "stream",
     "text": [
      "100%|██████████| 466/466 [00:03<00:00, 125.15it/s]\n",
      "  3%|▎         | 13/466 [00:00<00:03, 124.83it/s]"
     ]
    },
    {
     "name": "stdout",
     "output_type": "stream",
     "text": [
      "epoch 151, loss 3.0304, acc 0.4238\n"
     ]
    },
    {
     "name": "stderr",
     "output_type": "stream",
     "text": [
      "100%|██████████| 466/466 [00:03<00:00, 124.80it/s]\n",
      "  3%|▎         | 13/466 [00:00<00:03, 124.47it/s]"
     ]
    },
    {
     "name": "stdout",
     "output_type": "stream",
     "text": [
      "epoch 152, loss 3.0139, acc 0.4255\n"
     ]
    },
    {
     "name": "stderr",
     "output_type": "stream",
     "text": [
      "100%|██████████| 466/466 [00:03<00:00, 119.61it/s]\n",
      "  2%|▏         | 11/466 [00:00<00:04, 107.77it/s]"
     ]
    },
    {
     "name": "stdout",
     "output_type": "stream",
     "text": [
      "epoch 153, loss 3.0043, acc 0.4275\n"
     ]
    },
    {
     "name": "stderr",
     "output_type": "stream",
     "text": [
      "100%|██████████| 466/466 [00:04<00:00, 112.28it/s]\n",
      "  3%|▎         | 12/466 [00:00<00:03, 114.33it/s]"
     ]
    },
    {
     "name": "stdout",
     "output_type": "stream",
     "text": [
      "epoch 154, loss 2.9915, acc 0.4277\n"
     ]
    },
    {
     "name": "stderr",
     "output_type": "stream",
     "text": [
      "100%|██████████| 466/466 [00:04<00:00, 110.89it/s]\n",
      "  3%|▎         | 13/466 [00:00<00:03, 118.69it/s]"
     ]
    },
    {
     "name": "stdout",
     "output_type": "stream",
     "text": [
      "epoch 155, loss 2.9828, acc 0.4293\n"
     ]
    },
    {
     "name": "stderr",
     "output_type": "stream",
     "text": [
      "100%|██████████| 466/466 [00:03<00:00, 119.58it/s]\n",
      "  3%|▎         | 13/466 [00:00<00:03, 122.34it/s]"
     ]
    },
    {
     "name": "stdout",
     "output_type": "stream",
     "text": [
      "epoch 156, loss 2.9692, acc 0.4301\n"
     ]
    },
    {
     "name": "stderr",
     "output_type": "stream",
     "text": [
      "100%|██████████| 466/466 [00:03<00:00, 123.30it/s]\n",
      "  3%|▎         | 13/466 [00:00<00:03, 122.05it/s]"
     ]
    },
    {
     "name": "stdout",
     "output_type": "stream",
     "text": [
      "epoch 157, loss 2.9433, acc 0.4349\n"
     ]
    },
    {
     "name": "stderr",
     "output_type": "stream",
     "text": [
      "100%|██████████| 466/466 [00:03<00:00, 124.78it/s]\n",
      "  3%|▎         | 13/466 [00:00<00:03, 124.79it/s]"
     ]
    },
    {
     "name": "stdout",
     "output_type": "stream",
     "text": [
      "epoch 158, loss 2.9336, acc 0.4362\n"
     ]
    },
    {
     "name": "stderr",
     "output_type": "stream",
     "text": [
      "100%|██████████| 466/466 [00:03<00:00, 124.85it/s]\n",
      "  3%|▎         | 13/466 [00:00<00:03, 125.97it/s]"
     ]
    },
    {
     "name": "stdout",
     "output_type": "stream",
     "text": [
      "epoch 159, loss 2.9142, acc 0.4390\n"
     ]
    },
    {
     "name": "stderr",
     "output_type": "stream",
     "text": [
      "100%|██████████| 466/466 [00:03<00:00, 122.28it/s]\n",
      "  3%|▎         | 13/466 [00:00<00:03, 125.70it/s]"
     ]
    },
    {
     "name": "stdout",
     "output_type": "stream",
     "text": [
      "epoch 160, loss 2.8980, acc 0.4408\n"
     ]
    },
    {
     "name": "stderr",
     "output_type": "stream",
     "text": [
      "100%|██████████| 466/466 [00:03<00:00, 122.07it/s]\n",
      "  3%|▎         | 13/466 [00:00<00:03, 125.28it/s]"
     ]
    },
    {
     "name": "stdout",
     "output_type": "stream",
     "text": [
      "epoch 161, loss 2.8841, acc 0.4430\n"
     ]
    },
    {
     "name": "stderr",
     "output_type": "stream",
     "text": [
      "100%|██████████| 466/466 [00:03<00:00, 121.06it/s]\n",
      "  3%|▎         | 13/466 [00:00<00:03, 124.70it/s]"
     ]
    },
    {
     "name": "stdout",
     "output_type": "stream",
     "text": [
      "epoch 162, loss 2.8662, acc 0.4455\n"
     ]
    },
    {
     "name": "stderr",
     "output_type": "stream",
     "text": [
      "100%|██████████| 466/466 [00:03<00:00, 123.24it/s]\n",
      "  3%|▎         | 12/466 [00:00<00:03, 119.96it/s]"
     ]
    },
    {
     "name": "stdout",
     "output_type": "stream",
     "text": [
      "epoch 163, loss 2.8527, acc 0.4483\n"
     ]
    },
    {
     "name": "stderr",
     "output_type": "stream",
     "text": [
      "100%|██████████| 466/466 [00:04<00:00, 108.66it/s]\n",
      "  3%|▎         | 12/466 [00:00<00:03, 115.40it/s]"
     ]
    },
    {
     "name": "stdout",
     "output_type": "stream",
     "text": [
      "epoch 164, loss 2.8414, acc 0.4483\n"
     ]
    },
    {
     "name": "stderr",
     "output_type": "stream",
     "text": [
      "100%|██████████| 466/466 [00:03<00:00, 121.98it/s]\n",
      "  3%|▎         | 13/466 [00:00<00:03, 125.49it/s]"
     ]
    },
    {
     "name": "stdout",
     "output_type": "stream",
     "text": [
      "epoch 165, loss 2.8266, acc 0.4502\n"
     ]
    },
    {
     "name": "stderr",
     "output_type": "stream",
     "text": [
      "100%|██████████| 466/466 [00:04<00:00, 114.12it/s]\n",
      "  3%|▎         | 13/466 [00:00<00:03, 121.22it/s]"
     ]
    },
    {
     "name": "stdout",
     "output_type": "stream",
     "text": [
      "epoch 166, loss 2.8131, acc 0.4533\n"
     ]
    },
    {
     "name": "stderr",
     "output_type": "stream",
     "text": [
      "100%|██████████| 466/466 [00:04<00:00, 114.81it/s]\n",
      "  3%|▎         | 13/466 [00:00<00:03, 124.92it/s]"
     ]
    },
    {
     "name": "stdout",
     "output_type": "stream",
     "text": [
      "epoch 167, loss 2.8015, acc 0.4536\n"
     ]
    },
    {
     "name": "stderr",
     "output_type": "stream",
     "text": [
      "100%|██████████| 466/466 [00:03<00:00, 122.17it/s]\n",
      "  3%|▎         | 13/466 [00:00<00:03, 123.81it/s]"
     ]
    },
    {
     "name": "stdout",
     "output_type": "stream",
     "text": [
      "epoch 168, loss 2.7847, acc 0.4577\n"
     ]
    },
    {
     "name": "stderr",
     "output_type": "stream",
     "text": [
      "100%|██████████| 466/466 [00:03<00:00, 122.08it/s]\n",
      "  3%|▎         | 13/466 [00:00<00:03, 123.76it/s]"
     ]
    },
    {
     "name": "stdout",
     "output_type": "stream",
     "text": [
      "epoch 169, loss 2.7708, acc 0.4592\n"
     ]
    },
    {
     "name": "stderr",
     "output_type": "stream",
     "text": [
      "100%|██████████| 466/466 [00:03<00:00, 117.89it/s]\n",
      "  2%|▏         | 11/466 [00:00<00:04, 107.51it/s]"
     ]
    },
    {
     "name": "stdout",
     "output_type": "stream",
     "text": [
      "epoch 170, loss 2.7593, acc 0.4598\n"
     ]
    },
    {
     "name": "stderr",
     "output_type": "stream",
     "text": [
      "100%|██████████| 466/466 [00:04<00:00, 109.52it/s]\n",
      "  3%|▎         | 12/466 [00:00<00:03, 114.43it/s]"
     ]
    },
    {
     "name": "stdout",
     "output_type": "stream",
     "text": [
      "epoch 171, loss 2.7478, acc 0.4617\n"
     ]
    },
    {
     "name": "stderr",
     "output_type": "stream",
     "text": [
      "100%|██████████| 466/466 [00:03<00:00, 116.54it/s]\n",
      "  3%|▎         | 13/466 [00:00<00:03, 124.77it/s]"
     ]
    },
    {
     "name": "stdout",
     "output_type": "stream",
     "text": [
      "epoch 172, loss 2.7327, acc 0.4635\n"
     ]
    },
    {
     "name": "stderr",
     "output_type": "stream",
     "text": [
      "100%|██████████| 466/466 [00:04<00:00, 113.55it/s]\n",
      "  2%|▏         | 11/466 [00:00<00:04, 106.34it/s]"
     ]
    },
    {
     "name": "stdout",
     "output_type": "stream",
     "text": [
      "epoch 173, loss 2.7134, acc 0.4674\n"
     ]
    },
    {
     "name": "stderr",
     "output_type": "stream",
     "text": [
      "100%|██████████| 466/466 [00:03<00:00, 117.72it/s]\n",
      "  3%|▎         | 12/466 [00:00<00:03, 118.82it/s]"
     ]
    },
    {
     "name": "stdout",
     "output_type": "stream",
     "text": [
      "epoch 174, loss 2.7042, acc 0.4689\n"
     ]
    },
    {
     "name": "stderr",
     "output_type": "stream",
     "text": [
      "100%|██████████| 466/466 [00:03<00:00, 119.83it/s]\n",
      "  3%|▎         | 13/466 [00:00<00:03, 125.42it/s]"
     ]
    },
    {
     "name": "stdout",
     "output_type": "stream",
     "text": [
      "epoch 175, loss 2.6955, acc 0.4696\n"
     ]
    },
    {
     "name": "stderr",
     "output_type": "stream",
     "text": [
      "100%|██████████| 466/466 [00:03<00:00, 117.35it/s]\n",
      "  2%|▏         | 11/466 [00:00<00:04, 103.69it/s]"
     ]
    },
    {
     "name": "stdout",
     "output_type": "stream",
     "text": [
      "epoch 176, loss 2.6766, acc 0.4729\n"
     ]
    },
    {
     "name": "stderr",
     "output_type": "stream",
     "text": [
      "100%|██████████| 466/466 [00:03<00:00, 120.58it/s]\n",
      "  3%|▎         | 13/466 [00:00<00:03, 122.82it/s]"
     ]
    },
    {
     "name": "stdout",
     "output_type": "stream",
     "text": [
      "epoch 177, loss 2.6700, acc 0.4725\n"
     ]
    },
    {
     "name": "stderr",
     "output_type": "stream",
     "text": [
      "100%|██████████| 466/466 [00:04<00:00, 114.91it/s]\n",
      "  2%|▏         | 8/466 [00:00<00:06, 71.73it/s]"
     ]
    },
    {
     "name": "stdout",
     "output_type": "stream",
     "text": [
      "epoch 178, loss 2.6530, acc 0.4757\n"
     ]
    },
    {
     "name": "stderr",
     "output_type": "stream",
     "text": [
      "100%|██████████| 466/466 [00:04<00:00, 108.20it/s]\n",
      "  3%|▎         | 12/466 [00:00<00:03, 114.43it/s]"
     ]
    },
    {
     "name": "stdout",
     "output_type": "stream",
     "text": [
      "epoch 179, loss 2.6421, acc 0.4775\n"
     ]
    },
    {
     "name": "stderr",
     "output_type": "stream",
     "text": [
      "100%|██████████| 466/466 [00:03<00:00, 119.61it/s]\n",
      "  3%|▎         | 12/466 [00:00<00:03, 119.84it/s]"
     ]
    },
    {
     "name": "stdout",
     "output_type": "stream",
     "text": [
      "epoch 180, loss 2.6273, acc 0.4801\n"
     ]
    },
    {
     "name": "stderr",
     "output_type": "stream",
     "text": [
      "100%|██████████| 466/466 [00:04<00:00, 111.96it/s]\n",
      "  3%|▎         | 13/466 [00:00<00:03, 121.51it/s]"
     ]
    },
    {
     "name": "stdout",
     "output_type": "stream",
     "text": [
      "epoch 181, loss 2.6076, acc 0.4834\n"
     ]
    },
    {
     "name": "stderr",
     "output_type": "stream",
     "text": [
      "100%|██████████| 466/466 [00:04<00:00, 113.69it/s]\n",
      "  3%|▎         | 13/466 [00:00<00:03, 125.61it/s]"
     ]
    },
    {
     "name": "stdout",
     "output_type": "stream",
     "text": [
      "epoch 182, loss 2.5868, acc 0.4880\n"
     ]
    },
    {
     "name": "stderr",
     "output_type": "stream",
     "text": [
      "100%|██████████| 466/466 [00:04<00:00, 107.30it/s]\n",
      "  3%|▎         | 12/466 [00:00<00:03, 113.65it/s]"
     ]
    },
    {
     "name": "stdout",
     "output_type": "stream",
     "text": [
      "epoch 183, loss 2.5797, acc 0.4879\n"
     ]
    },
    {
     "name": "stderr",
     "output_type": "stream",
     "text": [
      "100%|██████████| 466/466 [00:03<00:00, 121.19it/s]\n",
      "  3%|▎         | 13/466 [00:00<00:03, 125.52it/s]"
     ]
    },
    {
     "name": "stdout",
     "output_type": "stream",
     "text": [
      "epoch 184, loss 2.5686, acc 0.4905\n"
     ]
    },
    {
     "name": "stderr",
     "output_type": "stream",
     "text": [
      "100%|██████████| 466/466 [00:03<00:00, 117.20it/s]\n",
      "  3%|▎         | 13/466 [00:00<00:03, 125.45it/s]"
     ]
    },
    {
     "name": "stdout",
     "output_type": "stream",
     "text": [
      "epoch 185, loss 2.5656, acc 0.4901\n"
     ]
    },
    {
     "name": "stderr",
     "output_type": "stream",
     "text": [
      "100%|██████████| 466/466 [00:03<00:00, 117.25it/s]\n",
      "  3%|▎         | 12/466 [00:00<00:03, 115.68it/s]"
     ]
    },
    {
     "name": "stdout",
     "output_type": "stream",
     "text": [
      "epoch 186, loss 2.5508, acc 0.4920\n"
     ]
    },
    {
     "name": "stderr",
     "output_type": "stream",
     "text": [
      "100%|██████████| 466/466 [00:03<00:00, 118.29it/s]\n",
      "  3%|▎         | 13/466 [00:00<00:03, 120.02it/s]"
     ]
    },
    {
     "name": "stdout",
     "output_type": "stream",
     "text": [
      "epoch 187, loss 2.5255, acc 0.4973\n"
     ]
    },
    {
     "name": "stderr",
     "output_type": "stream",
     "text": [
      "100%|██████████| 466/466 [00:03<00:00, 123.98it/s]\n",
      "  2%|▏         | 10/466 [00:00<00:04, 96.77it/s]"
     ]
    },
    {
     "name": "stdout",
     "output_type": "stream",
     "text": [
      "epoch 188, loss 2.5141, acc 0.4999\n"
     ]
    },
    {
     "name": "stderr",
     "output_type": "stream",
     "text": [
      "100%|██████████| 466/466 [00:03<00:00, 121.86it/s]\n",
      "  3%|▎         | 13/466 [00:00<00:03, 123.71it/s]"
     ]
    },
    {
     "name": "stdout",
     "output_type": "stream",
     "text": [
      "epoch 189, loss 2.5036, acc 0.5001\n"
     ]
    },
    {
     "name": "stderr",
     "output_type": "stream",
     "text": [
      "100%|██████████| 466/466 [00:03<00:00, 122.28it/s]\n",
      "  3%|▎         | 13/466 [00:00<00:03, 124.59it/s]"
     ]
    },
    {
     "name": "stdout",
     "output_type": "stream",
     "text": [
      "epoch 190, loss 2.4847, acc 0.5047\n"
     ]
    },
    {
     "name": "stderr",
     "output_type": "stream",
     "text": [
      "100%|██████████| 466/466 [00:04<00:00, 114.19it/s]\n",
      "  2%|▏         | 10/466 [00:00<00:04, 99.18it/s]"
     ]
    },
    {
     "name": "stdout",
     "output_type": "stream",
     "text": [
      "epoch 191, loss 2.4827, acc 0.5037\n"
     ]
    },
    {
     "name": "stderr",
     "output_type": "stream",
     "text": [
      "100%|██████████| 466/466 [00:04<00:00, 104.58it/s]\n",
      "  3%|▎         | 12/466 [00:00<00:03, 113.76it/s]"
     ]
    },
    {
     "name": "stdout",
     "output_type": "stream",
     "text": [
      "epoch 192, loss 2.4674, acc 0.5073\n"
     ]
    },
    {
     "name": "stderr",
     "output_type": "stream",
     "text": [
      "100%|██████████| 466/466 [00:03<00:00, 122.08it/s]\n",
      "  2%|▏         | 11/466 [00:00<00:04, 107.90it/s]"
     ]
    },
    {
     "name": "stdout",
     "output_type": "stream",
     "text": [
      "epoch 193, loss 2.4473, acc 0.5105\n"
     ]
    },
    {
     "name": "stderr",
     "output_type": "stream",
     "text": [
      "100%|██████████| 466/466 [00:04<00:00, 112.13it/s]\n",
      "  3%|▎         | 12/466 [00:00<00:04, 111.07it/s]"
     ]
    },
    {
     "name": "stdout",
     "output_type": "stream",
     "text": [
      "epoch 194, loss 2.4359, acc 0.5144\n"
     ]
    },
    {
     "name": "stderr",
     "output_type": "stream",
     "text": [
      "100%|██████████| 466/466 [00:04<00:00, 114.97it/s]\n",
      "  3%|▎         | 12/466 [00:00<00:03, 115.33it/s]"
     ]
    },
    {
     "name": "stdout",
     "output_type": "stream",
     "text": [
      "epoch 195, loss 2.4262, acc 0.5142\n"
     ]
    },
    {
     "name": "stderr",
     "output_type": "stream",
     "text": [
      "100%|██████████| 466/466 [00:03<00:00, 116.74it/s]\n",
      "  3%|▎         | 13/466 [00:00<00:03, 125.31it/s]"
     ]
    },
    {
     "name": "stdout",
     "output_type": "stream",
     "text": [
      "epoch 196, loss 2.4145, acc 0.5159\n"
     ]
    },
    {
     "name": "stderr",
     "output_type": "stream",
     "text": [
      "100%|██████████| 466/466 [00:03<00:00, 121.13it/s]\n",
      "  3%|▎         | 13/466 [00:00<00:03, 125.93it/s]"
     ]
    },
    {
     "name": "stdout",
     "output_type": "stream",
     "text": [
      "epoch 197, loss 2.3928, acc 0.5207\n"
     ]
    },
    {
     "name": "stderr",
     "output_type": "stream",
     "text": [
      "100%|██████████| 466/466 [00:03<00:00, 116.60it/s]\n",
      "  3%|▎         | 13/466 [00:00<00:03, 126.12it/s]"
     ]
    },
    {
     "name": "stdout",
     "output_type": "stream",
     "text": [
      "epoch 198, loss 2.3813, acc 0.5220\n"
     ]
    },
    {
     "name": "stderr",
     "output_type": "stream",
     "text": [
      "100%|██████████| 466/466 [00:03<00:00, 125.28it/s]\n",
      "  3%|▎         | 13/466 [00:00<00:03, 126.69it/s]"
     ]
    },
    {
     "name": "stdout",
     "output_type": "stream",
     "text": [
      "epoch 199, loss 2.3718, acc 0.5243\n"
     ]
    },
    {
     "name": "stderr",
     "output_type": "stream",
     "text": [
      "100%|██████████| 466/466 [00:03<00:00, 124.55it/s]\n",
      "  3%|▎         | 13/466 [00:00<00:03, 125.99it/s]"
     ]
    },
    {
     "name": "stdout",
     "output_type": "stream",
     "text": [
      "epoch 200, loss 2.3521, acc 0.5277\n"
     ]
    },
    {
     "name": "stderr",
     "output_type": "stream",
     "text": [
      "100%|██████████| 466/466 [00:03<00:00, 117.37it/s]\n",
      "  3%|▎         | 13/466 [00:00<00:03, 126.02it/s]"
     ]
    },
    {
     "name": "stdout",
     "output_type": "stream",
     "text": [
      "epoch 201, loss 2.3456, acc 0.5303\n"
     ]
    },
    {
     "name": "stderr",
     "output_type": "stream",
     "text": [
      "100%|██████████| 466/466 [00:03<00:00, 122.59it/s]\n",
      "  3%|▎         | 12/466 [00:00<00:03, 119.12it/s]"
     ]
    },
    {
     "name": "stdout",
     "output_type": "stream",
     "text": [
      "epoch 202, loss 2.3391, acc 0.5308\n"
     ]
    },
    {
     "name": "stderr",
     "output_type": "stream",
     "text": [
      "100%|██████████| 466/466 [00:03<00:00, 120.09it/s]\n",
      "  3%|▎         | 13/466 [00:00<00:03, 126.20it/s]"
     ]
    },
    {
     "name": "stdout",
     "output_type": "stream",
     "text": [
      "epoch 203, loss 2.3201, acc 0.5350\n"
     ]
    },
    {
     "name": "stderr",
     "output_type": "stream",
     "text": [
      "100%|██████████| 466/466 [00:03<00:00, 124.83it/s]\n",
      "  3%|▎         | 13/466 [00:00<00:03, 125.80it/s]"
     ]
    },
    {
     "name": "stdout",
     "output_type": "stream",
     "text": [
      "epoch 204, loss 2.3101, acc 0.5365\n"
     ]
    },
    {
     "name": "stderr",
     "output_type": "stream",
     "text": [
      "100%|██████████| 466/466 [00:03<00:00, 125.17it/s]\n",
      "  3%|▎         | 13/466 [00:00<00:03, 125.76it/s]"
     ]
    },
    {
     "name": "stdout",
     "output_type": "stream",
     "text": [
      "epoch 205, loss 2.3090, acc 0.5361\n"
     ]
    },
    {
     "name": "stderr",
     "output_type": "stream",
     "text": [
      "100%|██████████| 466/466 [00:03<00:00, 121.25it/s]\n",
      "  3%|▎         | 13/466 [00:00<00:03, 126.01it/s]"
     ]
    },
    {
     "name": "stdout",
     "output_type": "stream",
     "text": [
      "epoch 206, loss 2.2868, acc 0.5410\n"
     ]
    },
    {
     "name": "stderr",
     "output_type": "stream",
     "text": [
      "100%|██████████| 466/466 [00:03<00:00, 123.99it/s]\n",
      "  3%|▎         | 13/466 [00:00<00:03, 126.18it/s]"
     ]
    },
    {
     "name": "stdout",
     "output_type": "stream",
     "text": [
      "epoch 207, loss 2.2666, acc 0.5449\n"
     ]
    },
    {
     "name": "stderr",
     "output_type": "stream",
     "text": [
      "100%|██████████| 466/466 [00:03<00:00, 124.92it/s]\n",
      "  3%|▎         | 13/466 [00:00<00:03, 126.17it/s]"
     ]
    },
    {
     "name": "stdout",
     "output_type": "stream",
     "text": [
      "epoch 208, loss 2.2545, acc 0.5475\n"
     ]
    },
    {
     "name": "stderr",
     "output_type": "stream",
     "text": [
      "100%|██████████| 466/466 [00:03<00:00, 120.47it/s]\n",
      "  2%|▏         | 11/466 [00:00<00:04, 101.05it/s]"
     ]
    },
    {
     "name": "stdout",
     "output_type": "stream",
     "text": [
      "epoch 209, loss 2.2458, acc 0.5491\n"
     ]
    },
    {
     "name": "stderr",
     "output_type": "stream",
     "text": [
      "100%|██████████| 466/466 [00:04<00:00, 107.34it/s]\n",
      "  3%|▎         | 12/466 [00:00<00:03, 119.38it/s]"
     ]
    },
    {
     "name": "stdout",
     "output_type": "stream",
     "text": [
      "epoch 210, loss 2.2315, acc 0.5516\n"
     ]
    },
    {
     "name": "stderr",
     "output_type": "stream",
     "text": [
      "100%|██████████| 466/466 [00:03<00:00, 122.21it/s]\n",
      "  3%|▎         | 12/466 [00:00<00:03, 116.52it/s]"
     ]
    },
    {
     "name": "stdout",
     "output_type": "stream",
     "text": [
      "epoch 211, loss 2.2215, acc 0.5528\n"
     ]
    },
    {
     "name": "stderr",
     "output_type": "stream",
     "text": [
      "100%|██████████| 466/466 [00:04<00:00, 116.10it/s]\n",
      "  3%|▎         | 13/466 [00:00<00:03, 124.50it/s]"
     ]
    },
    {
     "name": "stdout",
     "output_type": "stream",
     "text": [
      "epoch 212, loss 2.2035, acc 0.5584\n"
     ]
    },
    {
     "name": "stderr",
     "output_type": "stream",
     "text": [
      "100%|██████████| 466/466 [00:03<00:00, 125.36it/s]\n",
      "  3%|▎         | 13/466 [00:00<00:03, 124.91it/s]"
     ]
    },
    {
     "name": "stdout",
     "output_type": "stream",
     "text": [
      "epoch 213, loss 2.1952, acc 0.5591\n"
     ]
    },
    {
     "name": "stderr",
     "output_type": "stream",
     "text": [
      "100%|██████████| 466/466 [00:03<00:00, 120.58it/s]\n",
      "  2%|▏         | 11/466 [00:00<00:04, 102.40it/s]"
     ]
    },
    {
     "name": "stdout",
     "output_type": "stream",
     "text": [
      "epoch 214, loss 2.1771, acc 0.5637\n"
     ]
    },
    {
     "name": "stderr",
     "output_type": "stream",
     "text": [
      "100%|██████████| 466/466 [00:03<00:00, 117.27it/s]\n",
      "  2%|▏         | 10/466 [00:00<00:04, 95.34it/s]"
     ]
    },
    {
     "name": "stdout",
     "output_type": "stream",
     "text": [
      "epoch 215, loss 2.2188, acc 0.5513\n"
     ]
    },
    {
     "name": "stderr",
     "output_type": "stream",
     "text": [
      "100%|██████████| 466/466 [00:04<00:00, 112.33it/s]\n",
      "  3%|▎         | 13/466 [00:00<00:03, 126.34it/s]"
     ]
    },
    {
     "name": "stdout",
     "output_type": "stream",
     "text": [
      "epoch 216, loss 2.1730, acc 0.5627\n"
     ]
    },
    {
     "name": "stderr",
     "output_type": "stream",
     "text": [
      "100%|██████████| 466/466 [00:03<00:00, 122.52it/s]\n",
      "  3%|▎         | 13/466 [00:00<00:03, 123.95it/s]"
     ]
    },
    {
     "name": "stdout",
     "output_type": "stream",
     "text": [
      "epoch 217, loss 2.1463, acc 0.5688\n"
     ]
    },
    {
     "name": "stderr",
     "output_type": "stream",
     "text": [
      "100%|██████████| 466/466 [00:03<00:00, 124.82it/s]\n",
      "  3%|▎         | 13/466 [00:00<00:03, 127.36it/s]"
     ]
    },
    {
     "name": "stdout",
     "output_type": "stream",
     "text": [
      "epoch 218, loss 2.1335, acc 0.5717\n"
     ]
    },
    {
     "name": "stderr",
     "output_type": "stream",
     "text": [
      "100%|██████████| 466/466 [00:03<00:00, 118.80it/s]\n",
      "  3%|▎         | 13/466 [00:00<00:03, 125.28it/s]"
     ]
    },
    {
     "name": "stdout",
     "output_type": "stream",
     "text": [
      "epoch 219, loss 2.1235, acc 0.5737\n"
     ]
    },
    {
     "name": "stderr",
     "output_type": "stream",
     "text": [
      "100%|██████████| 466/466 [00:03<00:00, 117.17it/s]\n",
      "  2%|▏         | 11/466 [00:00<00:04, 100.91it/s]"
     ]
    },
    {
     "name": "stdout",
     "output_type": "stream",
     "text": [
      "epoch 220, loss 2.1175, acc 0.5748\n"
     ]
    },
    {
     "name": "stderr",
     "output_type": "stream",
     "text": [
      "100%|██████████| 466/466 [00:03<00:00, 116.89it/s]\n",
      "  3%|▎         | 13/466 [00:00<00:03, 123.30it/s]"
     ]
    },
    {
     "name": "stdout",
     "output_type": "stream",
     "text": [
      "epoch 221, loss 2.0981, acc 0.5792\n"
     ]
    },
    {
     "name": "stderr",
     "output_type": "stream",
     "text": [
      "100%|██████████| 466/466 [00:04<00:00, 115.09it/s]\n",
      "  3%|▎         | 12/466 [00:00<00:03, 114.19it/s]"
     ]
    },
    {
     "name": "stdout",
     "output_type": "stream",
     "text": [
      "epoch 222, loss 2.0884, acc 0.5812\n"
     ]
    },
    {
     "name": "stderr",
     "output_type": "stream",
     "text": [
      "100%|██████████| 466/466 [00:03<00:00, 120.38it/s]\n",
      "  3%|▎         | 13/466 [00:00<00:03, 123.76it/s]"
     ]
    },
    {
     "name": "stdout",
     "output_type": "stream",
     "text": [
      "epoch 223, loss 2.0921, acc 0.5795\n"
     ]
    },
    {
     "name": "stderr",
     "output_type": "stream",
     "text": [
      "100%|██████████| 466/466 [00:04<00:00, 115.01it/s]\n",
      "  2%|▏         | 11/466 [00:00<00:04, 109.13it/s]"
     ]
    },
    {
     "name": "stdout",
     "output_type": "stream",
     "text": [
      "epoch 224, loss 2.0701, acc 0.5847\n"
     ]
    },
    {
     "name": "stderr",
     "output_type": "stream",
     "text": [
      "100%|██████████| 466/466 [00:03<00:00, 119.74it/s]\n",
      "  3%|▎         | 13/466 [00:00<00:03, 124.56it/s]"
     ]
    },
    {
     "name": "stdout",
     "output_type": "stream",
     "text": [
      "epoch 225, loss 2.0589, acc 0.5863\n"
     ]
    },
    {
     "name": "stderr",
     "output_type": "stream",
     "text": [
      "100%|██████████| 466/466 [00:03<00:00, 122.92it/s]\n",
      "  3%|▎         | 13/466 [00:00<00:03, 124.75it/s]"
     ]
    },
    {
     "name": "stdout",
     "output_type": "stream",
     "text": [
      "epoch 226, loss 2.0444, acc 0.5902\n"
     ]
    },
    {
     "name": "stderr",
     "output_type": "stream",
     "text": [
      "100%|██████████| 466/466 [00:03<00:00, 117.77it/s]\n",
      "  3%|▎         | 13/466 [00:00<00:03, 124.68it/s]"
     ]
    },
    {
     "name": "stdout",
     "output_type": "stream",
     "text": [
      "epoch 227, loss 2.0426, acc 0.5895\n"
     ]
    },
    {
     "name": "stderr",
     "output_type": "stream",
     "text": [
      "100%|██████████| 466/466 [00:04<00:00, 113.57it/s]\n",
      "  3%|▎         | 12/466 [00:00<00:03, 119.86it/s]"
     ]
    },
    {
     "name": "stdout",
     "output_type": "stream",
     "text": [
      "epoch 228, loss 2.0326, acc 0.5915\n"
     ]
    },
    {
     "name": "stderr",
     "output_type": "stream",
     "text": [
      "100%|██████████| 466/466 [00:03<00:00, 124.52it/s]\n",
      "  3%|▎         | 13/466 [00:00<00:03, 124.35it/s]"
     ]
    },
    {
     "name": "stdout",
     "output_type": "stream",
     "text": [
      "epoch 229, loss 2.0082, acc 0.5966\n"
     ]
    },
    {
     "name": "stderr",
     "output_type": "stream",
     "text": [
      "100%|██████████| 466/466 [00:03<00:00, 118.68it/s]\n",
      "  3%|▎         | 13/466 [00:00<00:03, 124.50it/s]"
     ]
    },
    {
     "name": "stdout",
     "output_type": "stream",
     "text": [
      "epoch 230, loss 1.9908, acc 0.6028\n"
     ]
    },
    {
     "name": "stderr",
     "output_type": "stream",
     "text": [
      "100%|██████████| 466/466 [00:04<00:00, 115.74it/s]\n",
      "  2%|▏         | 11/466 [00:00<00:04, 107.06it/s]"
     ]
    },
    {
     "name": "stdout",
     "output_type": "stream",
     "text": [
      "epoch 231, loss 1.9911, acc 0.6016\n"
     ]
    },
    {
     "name": "stderr",
     "output_type": "stream",
     "text": [
      "100%|██████████| 466/466 [00:03<00:00, 122.33it/s]\n",
      "  3%|▎         | 13/466 [00:00<00:03, 123.30it/s]"
     ]
    },
    {
     "name": "stdout",
     "output_type": "stream",
     "text": [
      "epoch 232, loss 1.9657, acc 0.6076\n"
     ]
    },
    {
     "name": "stderr",
     "output_type": "stream",
     "text": [
      "100%|██████████| 466/466 [00:03<00:00, 122.16it/s]\n",
      "  3%|▎         | 13/466 [00:00<00:03, 124.38it/s]"
     ]
    },
    {
     "name": "stdout",
     "output_type": "stream",
     "text": [
      "epoch 233, loss 1.9638, acc 0.6073\n"
     ]
    },
    {
     "name": "stderr",
     "output_type": "stream",
     "text": [
      "100%|██████████| 466/466 [00:04<00:00, 114.33it/s]\n",
      "  3%|▎         | 12/466 [00:00<00:03, 113.92it/s]"
     ]
    },
    {
     "name": "stdout",
     "output_type": "stream",
     "text": [
      "epoch 234, loss 1.9719, acc 0.6035\n"
     ]
    },
    {
     "name": "stderr",
     "output_type": "stream",
     "text": [
      "100%|██████████| 466/466 [00:03<00:00, 118.81it/s]\n",
      "  3%|▎         | 13/466 [00:00<00:03, 124.13it/s]"
     ]
    },
    {
     "name": "stdout",
     "output_type": "stream",
     "text": [
      "epoch 235, loss 1.9399, acc 0.6132\n"
     ]
    },
    {
     "name": "stderr",
     "output_type": "stream",
     "text": [
      "100%|██████████| 466/466 [00:03<00:00, 124.57it/s]\n",
      "  3%|▎         | 13/466 [00:00<00:03, 125.02it/s]"
     ]
    },
    {
     "name": "stdout",
     "output_type": "stream",
     "text": [
      "epoch 236, loss 1.9426, acc 0.6106\n"
     ]
    },
    {
     "name": "stderr",
     "output_type": "stream",
     "text": [
      "100%|██████████| 466/466 [00:03<00:00, 119.57it/s]\n",
      "  2%|▏         | 10/466 [00:00<00:04, 96.15it/s]"
     ]
    },
    {
     "name": "stdout",
     "output_type": "stream",
     "text": [
      "epoch 237, loss 1.9460, acc 0.6089\n"
     ]
    },
    {
     "name": "stderr",
     "output_type": "stream",
     "text": [
      "100%|██████████| 466/466 [00:04<00:00, 113.78it/s]\n",
      "  3%|▎         | 13/466 [00:00<00:03, 125.19it/s]"
     ]
    },
    {
     "name": "stdout",
     "output_type": "stream",
     "text": [
      "epoch 238, loss 1.9274, acc 0.6150\n"
     ]
    },
    {
     "name": "stderr",
     "output_type": "stream",
     "text": [
      "100%|██████████| 466/466 [00:03<00:00, 120.92it/s]\n",
      "  3%|▎         | 13/466 [00:00<00:03, 124.97it/s]"
     ]
    },
    {
     "name": "stdout",
     "output_type": "stream",
     "text": [
      "epoch 239, loss 1.9057, acc 0.6191\n"
     ]
    },
    {
     "name": "stderr",
     "output_type": "stream",
     "text": [
      "100%|██████████| 466/466 [00:03<00:00, 121.96it/s]\n",
      "  3%|▎         | 13/466 [00:00<00:03, 125.33it/s]"
     ]
    },
    {
     "name": "stdout",
     "output_type": "stream",
     "text": [
      "epoch 240, loss 1.8927, acc 0.6217\n"
     ]
    },
    {
     "name": "stderr",
     "output_type": "stream",
     "text": [
      "100%|██████████| 466/466 [00:03<00:00, 118.74it/s]\n",
      "  3%|▎         | 13/466 [00:00<00:03, 124.68it/s]"
     ]
    },
    {
     "name": "stdout",
     "output_type": "stream",
     "text": [
      "epoch 241, loss 1.8999, acc 0.6201\n"
     ]
    },
    {
     "name": "stderr",
     "output_type": "stream",
     "text": [
      "100%|██████████| 466/466 [00:03<00:00, 119.78it/s]\n",
      "  2%|▏         | 11/466 [00:00<00:04, 108.44it/s]"
     ]
    },
    {
     "name": "stdout",
     "output_type": "stream",
     "text": [
      "epoch 242, loss 1.8747, acc 0.6257\n"
     ]
    },
    {
     "name": "stderr",
     "output_type": "stream",
     "text": [
      "100%|██████████| 466/466 [00:03<00:00, 118.71it/s]\n",
      "  3%|▎         | 12/466 [00:00<00:03, 118.20it/s]"
     ]
    },
    {
     "name": "stdout",
     "output_type": "stream",
     "text": [
      "epoch 243, loss 1.8619, acc 0.6275\n"
     ]
    },
    {
     "name": "stderr",
     "output_type": "stream",
     "text": [
      "100%|██████████| 466/466 [00:03<00:00, 117.78it/s]\n",
      "  3%|▎         | 13/466 [00:00<00:03, 123.03it/s]"
     ]
    },
    {
     "name": "stdout",
     "output_type": "stream",
     "text": [
      "epoch 244, loss 1.8559, acc 0.6296\n"
     ]
    },
    {
     "name": "stderr",
     "output_type": "stream",
     "text": [
      "100%|██████████| 466/466 [00:04<00:00, 115.37it/s]\n",
      "  3%|▎         | 13/466 [00:00<00:03, 124.98it/s]"
     ]
    },
    {
     "name": "stdout",
     "output_type": "stream",
     "text": [
      "epoch 245, loss 1.8352, acc 0.6351\n"
     ]
    },
    {
     "name": "stderr",
     "output_type": "stream",
     "text": [
      "100%|██████████| 466/466 [00:04<00:00, 115.15it/s]\n",
      "  3%|▎         | 13/466 [00:00<00:03, 120.17it/s]"
     ]
    },
    {
     "name": "stdout",
     "output_type": "stream",
     "text": [
      "epoch 246, loss 1.8255, acc 0.6371\n"
     ]
    },
    {
     "name": "stderr",
     "output_type": "stream",
     "text": [
      "100%|██████████| 466/466 [00:04<00:00, 109.58it/s]\n",
      "  3%|▎         | 13/466 [00:00<00:03, 124.15it/s]"
     ]
    },
    {
     "name": "stdout",
     "output_type": "stream",
     "text": [
      "epoch 247, loss 1.8187, acc 0.6385\n"
     ]
    },
    {
     "name": "stderr",
     "output_type": "stream",
     "text": [
      "100%|██████████| 466/466 [00:03<00:00, 122.84it/s]\n",
      "  3%|▎         | 13/466 [00:00<00:03, 122.42it/s]"
     ]
    },
    {
     "name": "stdout",
     "output_type": "stream",
     "text": [
      "epoch 248, loss 1.8095, acc 0.6412\n"
     ]
    },
    {
     "name": "stderr",
     "output_type": "stream",
     "text": [
      "100%|██████████| 466/466 [00:03<00:00, 124.40it/s]\n",
      "  3%|▎         | 13/466 [00:00<00:03, 125.55it/s]"
     ]
    },
    {
     "name": "stdout",
     "output_type": "stream",
     "text": [
      "epoch 249, loss 1.8102, acc 0.6391\n"
     ]
    },
    {
     "name": "stderr",
     "output_type": "stream",
     "text": [
      "100%|██████████| 466/466 [00:04<00:00, 112.61it/s]\n",
      "  3%|▎         | 12/466 [00:00<00:03, 113.76it/s]"
     ]
    },
    {
     "name": "stdout",
     "output_type": "stream",
     "text": [
      "epoch 250, loss 1.7805, acc 0.6481\n"
     ]
    },
    {
     "name": "stderr",
     "output_type": "stream",
     "text": [
      "100%|██████████| 466/466 [00:04<00:00, 116.48it/s]\n",
      "  3%|▎         | 12/466 [00:00<00:03, 114.24it/s]"
     ]
    },
    {
     "name": "stdout",
     "output_type": "stream",
     "text": [
      "epoch 251, loss 1.7875, acc 0.6436\n"
     ]
    },
    {
     "name": "stderr",
     "output_type": "stream",
     "text": [
      "100%|██████████| 466/466 [00:03<00:00, 119.36it/s]\n",
      "  3%|▎         | 13/466 [00:00<00:03, 126.33it/s]"
     ]
    },
    {
     "name": "stdout",
     "output_type": "stream",
     "text": [
      "epoch 252, loss 1.7623, acc 0.6516\n"
     ]
    },
    {
     "name": "stderr",
     "output_type": "stream",
     "text": [
      "100%|██████████| 466/466 [00:03<00:00, 124.96it/s]\n",
      "  3%|▎         | 13/466 [00:00<00:03, 124.12it/s]"
     ]
    },
    {
     "name": "stdout",
     "output_type": "stream",
     "text": [
      "epoch 253, loss 1.7559, acc 0.6522\n"
     ]
    },
    {
     "name": "stderr",
     "output_type": "stream",
     "text": [
      "100%|██████████| 466/466 [00:03<00:00, 120.68it/s]\n",
      "  3%|▎         | 13/466 [00:00<00:03, 125.08it/s]"
     ]
    },
    {
     "name": "stdout",
     "output_type": "stream",
     "text": [
      "epoch 254, loss 1.7434, acc 0.6558\n"
     ]
    },
    {
     "name": "stderr",
     "output_type": "stream",
     "text": [
      "100%|██████████| 466/466 [00:03<00:00, 124.75it/s]\n",
      "  3%|▎         | 13/466 [00:00<00:03, 123.76it/s]"
     ]
    },
    {
     "name": "stdout",
     "output_type": "stream",
     "text": [
      "epoch 255, loss 1.7360, acc 0.6569\n"
     ]
    },
    {
     "name": "stderr",
     "output_type": "stream",
     "text": [
      "100%|██████████| 466/466 [00:03<00:00, 117.02it/s]\n",
      "  3%|▎         | 13/466 [00:00<00:03, 125.63it/s]"
     ]
    },
    {
     "name": "stdout",
     "output_type": "stream",
     "text": [
      "epoch 256, loss 1.7905, acc 0.6405\n"
     ]
    },
    {
     "name": "stderr",
     "output_type": "stream",
     "text": [
      "100%|██████████| 466/466 [00:03<00:00, 121.10it/s]\n",
      "  3%|▎         | 12/466 [00:00<00:03, 113.85it/s]"
     ]
    },
    {
     "name": "stdout",
     "output_type": "stream",
     "text": [
      "epoch 257, loss 1.7197, acc 0.6601\n"
     ]
    },
    {
     "name": "stderr",
     "output_type": "stream",
     "text": [
      "100%|██████████| 466/466 [00:03<00:00, 120.23it/s]\n",
      "  3%|▎         | 13/466 [00:00<00:03, 121.01it/s]"
     ]
    },
    {
     "name": "stdout",
     "output_type": "stream",
     "text": [
      "epoch 258, loss 1.7194, acc 0.6596\n"
     ]
    },
    {
     "name": "stderr",
     "output_type": "stream",
     "text": [
      "100%|██████████| 466/466 [00:03<00:00, 119.18it/s]\n",
      "  3%|▎         | 13/466 [00:00<00:03, 120.52it/s]"
     ]
    },
    {
     "name": "stdout",
     "output_type": "stream",
     "text": [
      "epoch 259, loss 1.7056, acc 0.6625\n"
     ]
    },
    {
     "name": "stderr",
     "output_type": "stream",
     "text": [
      "100%|██████████| 466/466 [00:03<00:00, 118.49it/s]\n",
      "  3%|▎         | 12/466 [00:00<00:03, 119.73it/s]"
     ]
    },
    {
     "name": "stdout",
     "output_type": "stream",
     "text": [
      "epoch 260, loss 1.6886, acc 0.6678\n"
     ]
    },
    {
     "name": "stderr",
     "output_type": "stream",
     "text": [
      "100%|██████████| 466/466 [00:03<00:00, 119.40it/s]\n",
      "  3%|▎         | 13/466 [00:00<00:03, 124.29it/s]"
     ]
    },
    {
     "name": "stdout",
     "output_type": "stream",
     "text": [
      "epoch 261, loss 1.6812, acc 0.6690\n"
     ]
    },
    {
     "name": "stderr",
     "output_type": "stream",
     "text": [
      "100%|██████████| 466/466 [00:03<00:00, 125.15it/s]\n",
      "  3%|▎         | 13/466 [00:00<00:03, 126.10it/s]"
     ]
    },
    {
     "name": "stdout",
     "output_type": "stream",
     "text": [
      "epoch 262, loss 1.6622, acc 0.6743\n"
     ]
    },
    {
     "name": "stderr",
     "output_type": "stream",
     "text": [
      "100%|██████████| 466/466 [00:03<00:00, 119.32it/s]\n",
      "  3%|▎         | 12/466 [00:00<00:03, 116.77it/s]"
     ]
    },
    {
     "name": "stdout",
     "output_type": "stream",
     "text": [
      "epoch 263, loss 1.6553, acc 0.6746\n"
     ]
    },
    {
     "name": "stderr",
     "output_type": "stream",
     "text": [
      "100%|██████████| 466/466 [00:04<00:00, 116.13it/s]\n",
      "  3%|▎         | 12/466 [00:00<00:04, 113.28it/s]"
     ]
    },
    {
     "name": "stdout",
     "output_type": "stream",
     "text": [
      "epoch 264, loss 1.6495, acc 0.6763\n"
     ]
    },
    {
     "name": "stderr",
     "output_type": "stream",
     "text": [
      "100%|██████████| 466/466 [00:04<00:00, 114.41it/s]\n",
      "  3%|▎         | 13/466 [00:00<00:03, 124.08it/s]"
     ]
    },
    {
     "name": "stdout",
     "output_type": "stream",
     "text": [
      "epoch 265, loss 1.6339, acc 0.6800\n"
     ]
    },
    {
     "name": "stderr",
     "output_type": "stream",
     "text": [
      "100%|██████████| 466/466 [00:03<00:00, 121.21it/s]\n",
      "  3%|▎         | 13/466 [00:00<00:03, 124.93it/s]"
     ]
    },
    {
     "name": "stdout",
     "output_type": "stream",
     "text": [
      "epoch 266, loss 1.6313, acc 0.6802\n"
     ]
    },
    {
     "name": "stderr",
     "output_type": "stream",
     "text": [
      "100%|██████████| 466/466 [00:03<00:00, 123.09it/s]\n",
      "  3%|▎         | 13/466 [00:00<00:03, 121.31it/s]"
     ]
    },
    {
     "name": "stdout",
     "output_type": "stream",
     "text": [
      "epoch 267, loss 1.6203, acc 0.6826\n"
     ]
    },
    {
     "name": "stderr",
     "output_type": "stream",
     "text": [
      "100%|██████████| 466/466 [00:03<00:00, 119.07it/s]\n",
      "  3%|▎         | 13/466 [00:00<00:03, 124.94it/s]"
     ]
    },
    {
     "name": "stdout",
     "output_type": "stream",
     "text": [
      "epoch 268, loss 1.6060, acc 0.6857\n"
     ]
    },
    {
     "name": "stderr",
     "output_type": "stream",
     "text": [
      "100%|██████████| 466/466 [00:03<00:00, 119.80it/s]\n",
      "  2%|▏         | 11/466 [00:00<00:04, 101.95it/s]"
     ]
    },
    {
     "name": "stdout",
     "output_type": "stream",
     "text": [
      "epoch 269, loss 1.5939, acc 0.6901\n"
     ]
    },
    {
     "name": "stderr",
     "output_type": "stream",
     "text": [
      "100%|██████████| 466/466 [00:03<00:00, 118.22it/s]\n",
      "  3%|▎         | 13/466 [00:00<00:03, 120.85it/s]"
     ]
    },
    {
     "name": "stdout",
     "output_type": "stream",
     "text": [
      "epoch 270, loss 1.5906, acc 0.6895\n"
     ]
    },
    {
     "name": "stderr",
     "output_type": "stream",
     "text": [
      "100%|██████████| 466/466 [00:04<00:00, 115.80it/s]\n",
      "  3%|▎         | 13/466 [00:00<00:03, 122.26it/s]"
     ]
    },
    {
     "name": "stdout",
     "output_type": "stream",
     "text": [
      "epoch 271, loss 1.5818, acc 0.6913\n"
     ]
    },
    {
     "name": "stderr",
     "output_type": "stream",
     "text": [
      "100%|██████████| 466/466 [00:03<00:00, 119.79it/s]\n",
      "  3%|▎         | 13/466 [00:00<00:03, 123.34it/s]"
     ]
    },
    {
     "name": "stdout",
     "output_type": "stream",
     "text": [
      "epoch 272, loss 1.5702, acc 0.6943\n"
     ]
    },
    {
     "name": "stderr",
     "output_type": "stream",
     "text": [
      "100%|██████████| 466/466 [00:03<00:00, 118.64it/s]\n",
      "  3%|▎         | 13/466 [00:00<00:03, 124.85it/s]"
     ]
    },
    {
     "name": "stdout",
     "output_type": "stream",
     "text": [
      "epoch 273, loss 1.5671, acc 0.6946\n"
     ]
    },
    {
     "name": "stderr",
     "output_type": "stream",
     "text": [
      "100%|██████████| 466/466 [00:03<00:00, 117.20it/s]\n",
      "  3%|▎         | 13/466 [00:00<00:03, 123.64it/s]"
     ]
    },
    {
     "name": "stdout",
     "output_type": "stream",
     "text": [
      "epoch 274, loss 1.5536, acc 0.6987\n"
     ]
    },
    {
     "name": "stderr",
     "output_type": "stream",
     "text": [
      "100%|██████████| 466/466 [00:03<00:00, 121.43it/s]\n",
      "  3%|▎         | 13/466 [00:00<00:03, 122.89it/s]"
     ]
    },
    {
     "name": "stdout",
     "output_type": "stream",
     "text": [
      "epoch 275, loss 1.5487, acc 0.6998\n"
     ]
    },
    {
     "name": "stderr",
     "output_type": "stream",
     "text": [
      "100%|██████████| 466/466 [00:03<00:00, 118.13it/s]\n",
      "  3%|▎         | 13/466 [00:00<00:03, 125.85it/s]"
     ]
    },
    {
     "name": "stdout",
     "output_type": "stream",
     "text": [
      "epoch 276, loss 1.5250, acc 0.7057\n"
     ]
    },
    {
     "name": "stderr",
     "output_type": "stream",
     "text": [
      "100%|██████████| 466/466 [00:04<00:00, 116.13it/s]\n",
      "  3%|▎         | 13/466 [00:00<00:03, 122.14it/s]"
     ]
    },
    {
     "name": "stdout",
     "output_type": "stream",
     "text": [
      "epoch 277, loss 1.5289, acc 0.7047\n"
     ]
    },
    {
     "name": "stderr",
     "output_type": "stream",
     "text": [
      "100%|██████████| 466/466 [00:04<00:00, 116.25it/s]\n",
      "  3%|▎         | 13/466 [00:00<00:03, 125.42it/s]"
     ]
    },
    {
     "name": "stdout",
     "output_type": "stream",
     "text": [
      "epoch 278, loss 1.5276, acc 0.7036\n"
     ]
    },
    {
     "name": "stderr",
     "output_type": "stream",
     "text": [
      "100%|██████████| 466/466 [00:03<00:00, 120.51it/s]\n",
      "  2%|▏         | 11/466 [00:00<00:04, 107.85it/s]"
     ]
    },
    {
     "name": "stdout",
     "output_type": "stream",
     "text": [
      "epoch 279, loss 1.5165, acc 0.7060\n"
     ]
    },
    {
     "name": "stderr",
     "output_type": "stream",
     "text": [
      "100%|██████████| 466/466 [00:03<00:00, 119.71it/s]\n",
      "  3%|▎         | 13/466 [00:00<00:03, 123.60it/s]"
     ]
    },
    {
     "name": "stdout",
     "output_type": "stream",
     "text": [
      "epoch 280, loss 1.5139, acc 0.7060\n"
     ]
    },
    {
     "name": "stderr",
     "output_type": "stream",
     "text": [
      "100%|██████████| 466/466 [00:03<00:00, 120.05it/s]\n",
      "  2%|▏         | 9/466 [00:00<00:05, 82.51it/s]"
     ]
    },
    {
     "name": "stdout",
     "output_type": "stream",
     "text": [
      "epoch 281, loss 1.4949, acc 0.7111\n"
     ]
    },
    {
     "name": "stderr",
     "output_type": "stream",
     "text": [
      "100%|██████████| 466/466 [00:04<00:00, 112.04it/s]\n",
      "  3%|▎         | 12/466 [00:00<00:03, 119.27it/s]"
     ]
    },
    {
     "name": "stdout",
     "output_type": "stream",
     "text": [
      "epoch 282, loss 1.4697, acc 0.7193\n"
     ]
    },
    {
     "name": "stderr",
     "output_type": "stream",
     "text": [
      "100%|██████████| 466/466 [00:04<00:00, 112.62it/s]\n",
      "  3%|▎         | 12/466 [00:00<00:03, 119.66it/s]"
     ]
    },
    {
     "name": "stdout",
     "output_type": "stream",
     "text": [
      "epoch 283, loss 1.4684, acc 0.7178\n"
     ]
    },
    {
     "name": "stderr",
     "output_type": "stream",
     "text": [
      "100%|██████████| 466/466 [00:03<00:00, 119.01it/s]\n",
      "  3%|▎         | 13/466 [00:00<00:03, 121.17it/s]"
     ]
    },
    {
     "name": "stdout",
     "output_type": "stream",
     "text": [
      "epoch 284, loss 1.4580, acc 0.7198\n"
     ]
    },
    {
     "name": "stderr",
     "output_type": "stream",
     "text": [
      "100%|██████████| 466/466 [00:03<00:00, 124.42it/s]\n",
      "  2%|▏         | 10/466 [00:00<00:04, 98.82it/s]"
     ]
    },
    {
     "name": "stdout",
     "output_type": "stream",
     "text": [
      "epoch 285, loss 1.4454, acc 0.7237\n"
     ]
    },
    {
     "name": "stderr",
     "output_type": "stream",
     "text": [
      "100%|██████████| 466/466 [00:04<00:00, 113.80it/s]\n",
      "  3%|▎         | 13/466 [00:00<00:03, 124.53it/s]"
     ]
    },
    {
     "name": "stdout",
     "output_type": "stream",
     "text": [
      "epoch 286, loss 1.4460, acc 0.7225\n"
     ]
    },
    {
     "name": "stderr",
     "output_type": "stream",
     "text": [
      "100%|██████████| 466/466 [00:03<00:00, 119.30it/s]\n",
      "  3%|▎         | 12/466 [00:00<00:03, 115.59it/s]"
     ]
    },
    {
     "name": "stdout",
     "output_type": "stream",
     "text": [
      "epoch 287, loss 1.4272, acc 0.7276\n"
     ]
    },
    {
     "name": "stderr",
     "output_type": "stream",
     "text": [
      "100%|██████████| 466/466 [00:04<00:00, 114.82it/s]\n",
      "  3%|▎         | 12/466 [00:00<00:03, 114.38it/s]"
     ]
    },
    {
     "name": "stdout",
     "output_type": "stream",
     "text": [
      "epoch 288, loss 1.4302, acc 0.7282\n"
     ]
    },
    {
     "name": "stderr",
     "output_type": "stream",
     "text": [
      "100%|██████████| 466/466 [00:04<00:00, 113.38it/s]\n",
      "  3%|▎         | 13/466 [00:00<00:03, 125.16it/s]"
     ]
    },
    {
     "name": "stdout",
     "output_type": "stream",
     "text": [
      "epoch 289, loss 1.4276, acc 0.7260\n"
     ]
    },
    {
     "name": "stderr",
     "output_type": "stream",
     "text": [
      "100%|██████████| 466/466 [00:03<00:00, 116.89it/s]\n",
      "  3%|▎         | 13/466 [00:00<00:03, 125.69it/s]"
     ]
    },
    {
     "name": "stdout",
     "output_type": "stream",
     "text": [
      "epoch 290, loss 1.4163, acc 0.7297\n"
     ]
    },
    {
     "name": "stderr",
     "output_type": "stream",
     "text": [
      "100%|██████████| 466/466 [00:03<00:00, 119.29it/s]\n",
      "  3%|▎         | 12/466 [00:00<00:04, 111.33it/s]"
     ]
    },
    {
     "name": "stdout",
     "output_type": "stream",
     "text": [
      "epoch 291, loss 1.4281, acc 0.7244\n"
     ]
    },
    {
     "name": "stderr",
     "output_type": "stream",
     "text": [
      "100%|██████████| 466/466 [00:04<00:00, 113.33it/s]\n",
      "  3%|▎         | 13/466 [00:00<00:03, 123.64it/s]"
     ]
    },
    {
     "name": "stdout",
     "output_type": "stream",
     "text": [
      "epoch 292, loss 1.4140, acc 0.7293\n"
     ]
    },
    {
     "name": "stderr",
     "output_type": "stream",
     "text": [
      "100%|██████████| 466/466 [00:03<00:00, 117.33it/s]\n",
      "  3%|▎         | 12/466 [00:00<00:04, 112.54it/s]"
     ]
    },
    {
     "name": "stdout",
     "output_type": "stream",
     "text": [
      "epoch 293, loss 1.3990, acc 0.7333\n"
     ]
    },
    {
     "name": "stderr",
     "output_type": "stream",
     "text": [
      "100%|██████████| 466/466 [00:03<00:00, 118.67it/s]\n",
      "  3%|▎         | 13/466 [00:00<00:03, 126.09it/s]"
     ]
    },
    {
     "name": "stdout",
     "output_type": "stream",
     "text": [
      "epoch 294, loss 1.3857, acc 0.7357\n"
     ]
    },
    {
     "name": "stderr",
     "output_type": "stream",
     "text": [
      "100%|██████████| 466/466 [00:04<00:00, 114.18it/s]\n",
      "  3%|▎         | 12/466 [00:00<00:03, 114.09it/s]"
     ]
    },
    {
     "name": "stdout",
     "output_type": "stream",
     "text": [
      "epoch 295, loss 1.4031, acc 0.7310\n"
     ]
    },
    {
     "name": "stderr",
     "output_type": "stream",
     "text": [
      "100%|██████████| 466/466 [00:04<00:00, 111.35it/s]\n",
      "  3%|▎         | 13/466 [00:00<00:03, 120.70it/s]"
     ]
    },
    {
     "name": "stdout",
     "output_type": "stream",
     "text": [
      "epoch 296, loss 1.3805, acc 0.7360\n"
     ]
    },
    {
     "name": "stderr",
     "output_type": "stream",
     "text": [
      "100%|██████████| 466/466 [00:03<00:00, 118.11it/s]\n",
      "  3%|▎         | 12/466 [00:00<00:03, 114.04it/s]"
     ]
    },
    {
     "name": "stdout",
     "output_type": "stream",
     "text": [
      "epoch 297, loss 1.3515, acc 0.7456\n"
     ]
    },
    {
     "name": "stderr",
     "output_type": "stream",
     "text": [
      "100%|██████████| 466/466 [00:03<00:00, 123.88it/s]\n",
      "  3%|▎         | 13/466 [00:00<00:03, 125.40it/s]"
     ]
    },
    {
     "name": "stdout",
     "output_type": "stream",
     "text": [
      "epoch 298, loss 1.3401, acc 0.7490\n"
     ]
    },
    {
     "name": "stderr",
     "output_type": "stream",
     "text": [
      "100%|██████████| 466/466 [00:03<00:00, 124.78it/s]\n",
      "  3%|▎         | 13/466 [00:00<00:03, 126.16it/s]"
     ]
    },
    {
     "name": "stdout",
     "output_type": "stream",
     "text": [
      "epoch 299, loss 1.3468, acc 0.7445\n"
     ]
    },
    {
     "name": "stderr",
     "output_type": "stream",
     "text": [
      "100%|██████████| 466/466 [00:03<00:00, 119.38it/s]\n",
      "  3%|▎         | 13/466 [00:00<00:03, 124.73it/s]"
     ]
    },
    {
     "name": "stdout",
     "output_type": "stream",
     "text": [
      "epoch 300, loss 1.3483, acc 0.7438\n"
     ]
    },
    {
     "name": "stderr",
     "output_type": "stream",
     "text": [
      "100%|██████████| 466/466 [00:03<00:00, 121.91it/s]\n",
      "  3%|▎         | 13/466 [00:00<00:03, 123.83it/s]"
     ]
    },
    {
     "name": "stdout",
     "output_type": "stream",
     "text": [
      "epoch 301, loss 1.3269, acc 0.7501\n"
     ]
    },
    {
     "name": "stderr",
     "output_type": "stream",
     "text": [
      "100%|██████████| 466/466 [00:03<00:00, 118.12it/s]\n",
      "  3%|▎         | 13/466 [00:00<00:03, 125.05it/s]"
     ]
    },
    {
     "name": "stdout",
     "output_type": "stream",
     "text": [
      "epoch 302, loss 1.3178, acc 0.7513\n"
     ]
    },
    {
     "name": "stderr",
     "output_type": "stream",
     "text": [
      "100%|██████████| 466/466 [00:03<00:00, 124.40it/s]\n",
      "  3%|▎         | 13/466 [00:00<00:03, 124.32it/s]"
     ]
    },
    {
     "name": "stdout",
     "output_type": "stream",
     "text": [
      "epoch 303, loss 1.3091, acc 0.7544\n"
     ]
    },
    {
     "name": "stderr",
     "output_type": "stream",
     "text": [
      "100%|██████████| 466/466 [00:03<00:00, 124.88it/s]\n",
      "  3%|▎         | 13/466 [00:00<00:03, 125.11it/s]"
     ]
    },
    {
     "name": "stdout",
     "output_type": "stream",
     "text": [
      "epoch 304, loss 1.2994, acc 0.7569\n"
     ]
    },
    {
     "name": "stderr",
     "output_type": "stream",
     "text": [
      "100%|██████████| 466/466 [00:04<00:00, 113.10it/s]\n",
      "  2%|▏         | 11/466 [00:00<00:04, 102.69it/s]"
     ]
    },
    {
     "name": "stdout",
     "output_type": "stream",
     "text": [
      "epoch 305, loss 1.3065, acc 0.7529\n"
     ]
    },
    {
     "name": "stderr",
     "output_type": "stream",
     "text": [
      "100%|██████████| 466/466 [00:04<00:00, 113.47it/s]\n",
      "  3%|▎         | 13/466 [00:00<00:03, 125.62it/s]"
     ]
    },
    {
     "name": "stdout",
     "output_type": "stream",
     "text": [
      "epoch 306, loss 1.2984, acc 0.7543\n"
     ]
    },
    {
     "name": "stderr",
     "output_type": "stream",
     "text": [
      "100%|██████████| 466/466 [00:04<00:00, 111.67it/s]\n",
      "  3%|▎         | 13/466 [00:00<00:03, 120.63it/s]"
     ]
    },
    {
     "name": "stdout",
     "output_type": "stream",
     "text": [
      "epoch 307, loss 1.2789, acc 0.7620\n"
     ]
    },
    {
     "name": "stderr",
     "output_type": "stream",
     "text": [
      "100%|██████████| 466/466 [00:03<00:00, 124.54it/s]\n",
      "  3%|▎         | 13/466 [00:00<00:03, 124.96it/s]"
     ]
    },
    {
     "name": "stdout",
     "output_type": "stream",
     "text": [
      "epoch 308, loss 1.2641, acc 0.7658\n"
     ]
    },
    {
     "name": "stderr",
     "output_type": "stream",
     "text": [
      "100%|██████████| 466/466 [00:03<00:00, 119.28it/s]\n",
      "  3%|▎         | 13/466 [00:00<00:03, 124.43it/s]"
     ]
    },
    {
     "name": "stdout",
     "output_type": "stream",
     "text": [
      "epoch 309, loss 1.2610, acc 0.7645\n"
     ]
    },
    {
     "name": "stderr",
     "output_type": "stream",
     "text": [
      "100%|██████████| 466/466 [00:04<00:00, 116.30it/s]\n",
      "  3%|▎         | 13/466 [00:00<00:03, 124.61it/s]"
     ]
    },
    {
     "name": "stdout",
     "output_type": "stream",
     "text": [
      "epoch 310, loss 1.2514, acc 0.7681\n"
     ]
    },
    {
     "name": "stderr",
     "output_type": "stream",
     "text": [
      "100%|██████████| 466/466 [00:04<00:00, 107.50it/s]\n",
      "  3%|▎         | 13/466 [00:00<00:03, 126.55it/s]"
     ]
    },
    {
     "name": "stdout",
     "output_type": "stream",
     "text": [
      "epoch 311, loss 1.2481, acc 0.7689\n"
     ]
    },
    {
     "name": "stderr",
     "output_type": "stream",
     "text": [
      "100%|██████████| 466/466 [00:03<00:00, 117.84it/s]\n",
      "  2%|▏         | 11/466 [00:00<00:04, 108.40it/s]"
     ]
    },
    {
     "name": "stdout",
     "output_type": "stream",
     "text": [
      "epoch 312, loss 1.2407, acc 0.7699\n"
     ]
    },
    {
     "name": "stderr",
     "output_type": "stream",
     "text": [
      "100%|██████████| 466/466 [00:03<00:00, 119.15it/s]\n",
      "  3%|▎         | 13/466 [00:00<00:03, 124.36it/s]"
     ]
    },
    {
     "name": "stdout",
     "output_type": "stream",
     "text": [
      "epoch 313, loss 1.2346, acc 0.7705\n"
     ]
    },
    {
     "name": "stderr",
     "output_type": "stream",
     "text": [
      "100%|██████████| 466/466 [00:03<00:00, 116.67it/s]\n",
      "  3%|▎         | 13/466 [00:00<00:03, 124.96it/s]"
     ]
    },
    {
     "name": "stdout",
     "output_type": "stream",
     "text": [
      "epoch 314, loss 1.2282, acc 0.7727\n"
     ]
    },
    {
     "name": "stderr",
     "output_type": "stream",
     "text": [
      "100%|██████████| 466/466 [00:03<00:00, 121.56it/s]\n",
      "  3%|▎         | 12/466 [00:00<00:03, 116.86it/s]"
     ]
    },
    {
     "name": "stdout",
     "output_type": "stream",
     "text": [
      "epoch 315, loss 1.2171, acc 0.7759\n"
     ]
    },
    {
     "name": "stderr",
     "output_type": "stream",
     "text": [
      "100%|██████████| 466/466 [00:04<00:00, 110.98it/s]\n",
      "  3%|▎         | 12/466 [00:00<00:03, 114.24it/s]"
     ]
    },
    {
     "name": "stdout",
     "output_type": "stream",
     "text": [
      "epoch 316, loss 1.2212, acc 0.7728\n"
     ]
    },
    {
     "name": "stderr",
     "output_type": "stream",
     "text": [
      "100%|██████████| 466/466 [00:03<00:00, 117.72it/s]\n",
      "  3%|▎         | 12/466 [00:00<00:03, 119.40it/s]"
     ]
    },
    {
     "name": "stdout",
     "output_type": "stream",
     "text": [
      "epoch 317, loss 1.2054, acc 0.7785\n"
     ]
    },
    {
     "name": "stderr",
     "output_type": "stream",
     "text": [
      "100%|██████████| 466/466 [00:03<00:00, 116.79it/s]\n",
      "  3%|▎         | 13/466 [00:00<00:03, 123.69it/s]"
     ]
    },
    {
     "name": "stdout",
     "output_type": "stream",
     "text": [
      "epoch 318, loss 1.1911, acc 0.7821\n"
     ]
    },
    {
     "name": "stderr",
     "output_type": "stream",
     "text": [
      "100%|██████████| 466/466 [00:03<00:00, 117.63it/s]\n",
      "  3%|▎         | 13/466 [00:00<00:03, 120.33it/s]"
     ]
    },
    {
     "name": "stdout",
     "output_type": "stream",
     "text": [
      "epoch 319, loss 1.2346, acc 0.7673\n"
     ]
    },
    {
     "name": "stderr",
     "output_type": "stream",
     "text": [
      "100%|██████████| 466/466 [00:04<00:00, 115.14it/s]\n",
      "  3%|▎         | 13/466 [00:00<00:03, 121.99it/s]"
     ]
    },
    {
     "name": "stdout",
     "output_type": "stream",
     "text": [
      "epoch 320, loss 1.2276, acc 0.7684\n"
     ]
    },
    {
     "name": "stderr",
     "output_type": "stream",
     "text": [
      "100%|██████████| 466/466 [00:03<00:00, 116.85it/s]\n",
      "  2%|▏         | 11/466 [00:00<00:04, 109.09it/s]"
     ]
    },
    {
     "name": "stdout",
     "output_type": "stream",
     "text": [
      "epoch 321, loss 1.2032, acc 0.7760\n"
     ]
    },
    {
     "name": "stderr",
     "output_type": "stream",
     "text": [
      "100%|██████████| 466/466 [00:04<00:00, 110.47it/s]\n",
      "  2%|▏         | 11/466 [00:00<00:04, 100.65it/s]"
     ]
    },
    {
     "name": "stdout",
     "output_type": "stream",
     "text": [
      "epoch 322, loss 1.3311, acc 0.7338\n"
     ]
    },
    {
     "name": "stderr",
     "output_type": "stream",
     "text": [
      "100%|██████████| 466/466 [00:03<00:00, 118.04it/s]\n",
      "  3%|▎         | 12/466 [00:00<00:04, 113.39it/s]"
     ]
    },
    {
     "name": "stdout",
     "output_type": "stream",
     "text": [
      "epoch 323, loss 1.2513, acc 0.7573\n"
     ]
    },
    {
     "name": "stderr",
     "output_type": "stream",
     "text": [
      "100%|██████████| 466/466 [00:04<00:00, 114.53it/s]\n",
      "  3%|▎         | 13/466 [00:00<00:03, 123.79it/s]"
     ]
    },
    {
     "name": "stdout",
     "output_type": "stream",
     "text": [
      "epoch 324, loss 1.2384, acc 0.7623\n"
     ]
    },
    {
     "name": "stderr",
     "output_type": "stream",
     "text": [
      "100%|██████████| 466/466 [00:03<00:00, 123.99it/s]\n",
      "  3%|▎         | 13/466 [00:00<00:03, 124.79it/s]"
     ]
    },
    {
     "name": "stdout",
     "output_type": "stream",
     "text": [
      "epoch 325, loss 1.1960, acc 0.7751\n"
     ]
    },
    {
     "name": "stderr",
     "output_type": "stream",
     "text": [
      "100%|██████████| 466/466 [00:03<00:00, 122.78it/s]\n",
      "  3%|▎         | 13/466 [00:00<00:03, 124.65it/s]"
     ]
    },
    {
     "name": "stdout",
     "output_type": "stream",
     "text": [
      "epoch 326, loss 1.1703, acc 0.7835\n"
     ]
    },
    {
     "name": "stderr",
     "output_type": "stream",
     "text": [
      "100%|██████████| 466/466 [00:03<00:00, 117.70it/s]\n",
      "  3%|▎         | 13/466 [00:00<00:03, 126.06it/s]"
     ]
    },
    {
     "name": "stdout",
     "output_type": "stream",
     "text": [
      "epoch 327, loss 1.1653, acc 0.7846\n"
     ]
    },
    {
     "name": "stderr",
     "output_type": "stream",
     "text": [
      "100%|██████████| 466/466 [00:03<00:00, 117.68it/s]\n",
      "  3%|▎         | 13/466 [00:00<00:03, 125.85it/s]"
     ]
    },
    {
     "name": "stdout",
     "output_type": "stream",
     "text": [
      "epoch 328, loss 1.1614, acc 0.7850\n"
     ]
    },
    {
     "name": "stderr",
     "output_type": "stream",
     "text": [
      "100%|██████████| 466/466 [00:04<00:00, 102.68it/s]\n",
      "  3%|▎         | 13/466 [00:00<00:03, 121.32it/s]"
     ]
    },
    {
     "name": "stdout",
     "output_type": "stream",
     "text": [
      "epoch 329, loss 1.1847, acc 0.7764\n"
     ]
    },
    {
     "name": "stderr",
     "output_type": "stream",
     "text": [
      "100%|██████████| 466/466 [00:04<00:00, 109.64it/s]\n",
      "  3%|▎         | 13/466 [00:00<00:03, 124.16it/s]"
     ]
    },
    {
     "name": "stdout",
     "output_type": "stream",
     "text": [
      "epoch 330, loss 1.1771, acc 0.7795\n"
     ]
    },
    {
     "name": "stderr",
     "output_type": "stream",
     "text": [
      "100%|██████████| 466/466 [00:04<00:00, 115.21it/s]\n",
      "  3%|▎         | 13/466 [00:00<00:03, 124.36it/s]"
     ]
    },
    {
     "name": "stdout",
     "output_type": "stream",
     "text": [
      "epoch 331, loss 1.1315, acc 0.7932\n"
     ]
    },
    {
     "name": "stderr",
     "output_type": "stream",
     "text": [
      "100%|██████████| 466/466 [00:03<00:00, 117.73it/s]\n",
      "  3%|▎         | 12/466 [00:00<00:03, 115.82it/s]"
     ]
    },
    {
     "name": "stdout",
     "output_type": "stream",
     "text": [
      "epoch 332, loss 1.1285, acc 0.7949\n"
     ]
    },
    {
     "name": "stderr",
     "output_type": "stream",
     "text": [
      "100%|██████████| 466/466 [00:04<00:00, 115.06it/s]\n",
      "  3%|▎         | 13/466 [00:00<00:03, 125.77it/s]"
     ]
    },
    {
     "name": "stdout",
     "output_type": "stream",
     "text": [
      "epoch 333, loss 1.0917, acc 0.8047\n"
     ]
    },
    {
     "name": "stderr",
     "output_type": "stream",
     "text": [
      "100%|██████████| 466/466 [00:04<00:00, 112.27it/s]\n",
      "  3%|▎         | 12/466 [00:00<00:03, 113.68it/s]"
     ]
    },
    {
     "name": "stdout",
     "output_type": "stream",
     "text": [
      "epoch 334, loss 1.0858, acc 0.8050\n"
     ]
    },
    {
     "name": "stderr",
     "output_type": "stream",
     "text": [
      "100%|██████████| 466/466 [00:03<00:00, 122.26it/s]\n",
      "  2%|▏         | 11/466 [00:00<00:04, 108.93it/s]"
     ]
    },
    {
     "name": "stdout",
     "output_type": "stream",
     "text": [
      "epoch 335, loss 1.1019, acc 0.8002\n"
     ]
    },
    {
     "name": "stderr",
     "output_type": "stream",
     "text": [
      "100%|██████████| 466/466 [00:04<00:00, 113.60it/s]\n",
      "  3%|▎         | 12/466 [00:00<00:03, 117.61it/s]"
     ]
    },
    {
     "name": "stdout",
     "output_type": "stream",
     "text": [
      "epoch 336, loss 1.1071, acc 0.7979\n"
     ]
    },
    {
     "name": "stderr",
     "output_type": "stream",
     "text": [
      "100%|██████████| 466/466 [00:03<00:00, 119.12it/s]\n",
      "  3%|▎         | 12/466 [00:00<00:04, 113.09it/s]"
     ]
    },
    {
     "name": "stdout",
     "output_type": "stream",
     "text": [
      "epoch 337, loss 1.0858, acc 0.8035\n"
     ]
    },
    {
     "name": "stderr",
     "output_type": "stream",
     "text": [
      "100%|██████████| 466/466 [00:04<00:00, 112.83it/s]\n",
      "  3%|▎         | 13/466 [00:00<00:03, 122.46it/s]"
     ]
    },
    {
     "name": "stdout",
     "output_type": "stream",
     "text": [
      "epoch 338, loss 1.0776, acc 0.8060\n"
     ]
    },
    {
     "name": "stderr",
     "output_type": "stream",
     "text": [
      "100%|██████████| 466/466 [00:03<00:00, 116.61it/s]\n",
      "  3%|▎         | 13/466 [00:00<00:03, 126.29it/s]"
     ]
    },
    {
     "name": "stdout",
     "output_type": "stream",
     "text": [
      "epoch 339, loss 1.0727, acc 0.8061\n"
     ]
    },
    {
     "name": "stderr",
     "output_type": "stream",
     "text": [
      "100%|██████████| 466/466 [00:03<00:00, 120.81it/s]\n",
      "  3%|▎         | 12/466 [00:00<00:03, 113.74it/s]"
     ]
    },
    {
     "name": "stdout",
     "output_type": "stream",
     "text": [
      "epoch 340, loss 1.0789, acc 0.8051\n"
     ]
    },
    {
     "name": "stderr",
     "output_type": "stream",
     "text": [
      "100%|██████████| 466/466 [00:04<00:00, 115.79it/s]\n",
      "  3%|▎         | 12/466 [00:00<00:03, 114.18it/s]"
     ]
    },
    {
     "name": "stdout",
     "output_type": "stream",
     "text": [
      "epoch 341, loss 1.0839, acc 0.8013\n"
     ]
    },
    {
     "name": "stderr",
     "output_type": "stream",
     "text": [
      "100%|██████████| 466/466 [00:03<00:00, 117.36it/s]\n",
      "  3%|▎         | 12/466 [00:00<00:04, 112.35it/s]"
     ]
    },
    {
     "name": "stdout",
     "output_type": "stream",
     "text": [
      "epoch 342, loss 1.0996, acc 0.7976\n"
     ]
    },
    {
     "name": "stderr",
     "output_type": "stream",
     "text": [
      "100%|██████████| 466/466 [00:04<00:00, 112.55it/s]\n",
      "  3%|▎         | 12/466 [00:00<00:03, 113.81it/s]"
     ]
    },
    {
     "name": "stdout",
     "output_type": "stream",
     "text": [
      "epoch 343, loss 1.1197, acc 0.7904\n"
     ]
    },
    {
     "name": "stderr",
     "output_type": "stream",
     "text": [
      "100%|██████████| 466/466 [00:04<00:00, 113.51it/s]\n",
      "  3%|▎         | 12/466 [00:00<00:03, 114.03it/s]"
     ]
    },
    {
     "name": "stdout",
     "output_type": "stream",
     "text": [
      "epoch 344, loss 1.0672, acc 0.8056\n"
     ]
    },
    {
     "name": "stderr",
     "output_type": "stream",
     "text": [
      "100%|██████████| 466/466 [00:04<00:00, 114.16it/s]\n",
      "  3%|▎         | 13/466 [00:00<00:03, 122.97it/s]"
     ]
    },
    {
     "name": "stdout",
     "output_type": "stream",
     "text": [
      "epoch 345, loss 1.0475, acc 0.8109\n"
     ]
    },
    {
     "name": "stderr",
     "output_type": "stream",
     "text": [
      "100%|██████████| 466/466 [00:04<00:00, 114.11it/s]\n",
      "  3%|▎         | 13/466 [00:00<00:03, 124.90it/s]"
     ]
    },
    {
     "name": "stdout",
     "output_type": "stream",
     "text": [
      "epoch 346, loss 1.0342, acc 0.8147\n"
     ]
    },
    {
     "name": "stderr",
     "output_type": "stream",
     "text": [
      "100%|██████████| 466/466 [00:03<00:00, 118.29it/s]\n",
      "  3%|▎         | 13/466 [00:00<00:03, 126.29it/s]"
     ]
    },
    {
     "name": "stdout",
     "output_type": "stream",
     "text": [
      "epoch 347, loss 1.0240, acc 0.8184\n"
     ]
    },
    {
     "name": "stderr",
     "output_type": "stream",
     "text": [
      "100%|██████████| 466/466 [00:04<00:00, 115.94it/s]\n",
      "  2%|▏         | 11/466 [00:00<00:04, 103.54it/s]"
     ]
    },
    {
     "name": "stdout",
     "output_type": "stream",
     "text": [
      "epoch 348, loss 1.0396, acc 0.8122\n"
     ]
    },
    {
     "name": "stderr",
     "output_type": "stream",
     "text": [
      "100%|██████████| 466/466 [00:03<00:00, 119.86it/s]\n",
      "  3%|▎         | 13/466 [00:00<00:03, 125.69it/s]"
     ]
    },
    {
     "name": "stdout",
     "output_type": "stream",
     "text": [
      "epoch 349, loss 1.0132, acc 0.8209\n"
     ]
    },
    {
     "name": "stderr",
     "output_type": "stream",
     "text": [
      "100%|██████████| 466/466 [00:03<00:00, 120.01it/s]\n",
      "  3%|▎         | 13/466 [00:00<00:03, 123.17it/s]"
     ]
    },
    {
     "name": "stdout",
     "output_type": "stream",
     "text": [
      "epoch 350, loss 1.0231, acc 0.8165\n"
     ]
    },
    {
     "name": "stderr",
     "output_type": "stream",
     "text": [
      "100%|██████████| 466/466 [00:03<00:00, 124.83it/s]\n",
      "  3%|▎         | 13/466 [00:00<00:03, 124.14it/s]"
     ]
    },
    {
     "name": "stdout",
     "output_type": "stream",
     "text": [
      "epoch 351, loss 0.9931, acc 0.8260\n"
     ]
    },
    {
     "name": "stderr",
     "output_type": "stream",
     "text": [
      "100%|██████████| 466/466 [00:03<00:00, 121.23it/s]\n",
      "  3%|▎         | 13/466 [00:00<00:03, 124.89it/s]"
     ]
    },
    {
     "name": "stdout",
     "output_type": "stream",
     "text": [
      "epoch 352, loss 1.0067, acc 0.8209\n"
     ]
    },
    {
     "name": "stderr",
     "output_type": "stream",
     "text": [
      "100%|██████████| 466/466 [00:03<00:00, 123.65it/s]\n",
      "  3%|▎         | 13/466 [00:00<00:03, 122.55it/s]"
     ]
    },
    {
     "name": "stdout",
     "output_type": "stream",
     "text": [
      "epoch 353, loss 0.9855, acc 0.8277\n"
     ]
    },
    {
     "name": "stderr",
     "output_type": "stream",
     "text": [
      "100%|██████████| 466/466 [00:03<00:00, 122.32it/s]\n",
      "  3%|▎         | 12/466 [00:00<00:03, 113.91it/s]"
     ]
    },
    {
     "name": "stdout",
     "output_type": "stream",
     "text": [
      "epoch 354, loss 0.9813, acc 0.8281\n"
     ]
    },
    {
     "name": "stderr",
     "output_type": "stream",
     "text": [
      "100%|██████████| 466/466 [00:04<00:00, 116.18it/s]\n",
      "  3%|▎         | 13/466 [00:00<00:03, 123.43it/s]"
     ]
    },
    {
     "name": "stdout",
     "output_type": "stream",
     "text": [
      "epoch 355, loss 0.9931, acc 0.8228\n"
     ]
    },
    {
     "name": "stderr",
     "output_type": "stream",
     "text": [
      "100%|██████████| 466/466 [00:04<00:00, 113.73it/s]\n",
      "  2%|▏         | 10/466 [00:00<00:04, 93.76it/s]"
     ]
    },
    {
     "name": "stdout",
     "output_type": "stream",
     "text": [
      "epoch 356, loss 0.9770, acc 0.8281\n"
     ]
    },
    {
     "name": "stderr",
     "output_type": "stream",
     "text": [
      "100%|██████████| 466/466 [00:04<00:00, 114.40it/s]\n",
      "  3%|▎         | 13/466 [00:00<00:03, 124.76it/s]"
     ]
    },
    {
     "name": "stdout",
     "output_type": "stream",
     "text": [
      "epoch 357, loss 0.9752, acc 0.8279\n"
     ]
    },
    {
     "name": "stderr",
     "output_type": "stream",
     "text": [
      "100%|██████████| 466/466 [00:03<00:00, 124.40it/s]\n",
      "  3%|▎         | 13/466 [00:00<00:03, 124.92it/s]"
     ]
    },
    {
     "name": "stdout",
     "output_type": "stream",
     "text": [
      "epoch 358, loss 0.9763, acc 0.8278\n"
     ]
    },
    {
     "name": "stderr",
     "output_type": "stream",
     "text": [
      "100%|██████████| 466/466 [00:03<00:00, 124.83it/s]\n",
      "  3%|▎         | 13/466 [00:00<00:03, 124.26it/s]"
     ]
    },
    {
     "name": "stdout",
     "output_type": "stream",
     "text": [
      "epoch 359, loss 0.9652, acc 0.8301\n"
     ]
    },
    {
     "name": "stderr",
     "output_type": "stream",
     "text": [
      "100%|██████████| 466/466 [00:03<00:00, 124.18it/s]\n",
      "  3%|▎         | 13/466 [00:00<00:03, 124.01it/s]"
     ]
    },
    {
     "name": "stdout",
     "output_type": "stream",
     "text": [
      "epoch 360, loss 0.9491, acc 0.8355\n"
     ]
    },
    {
     "name": "stderr",
     "output_type": "stream",
     "text": [
      "100%|██████████| 466/466 [00:03<00:00, 125.11it/s]\n",
      "  3%|▎         | 13/466 [00:00<00:03, 124.52it/s]"
     ]
    },
    {
     "name": "stdout",
     "output_type": "stream",
     "text": [
      "epoch 361, loss 0.9543, acc 0.8317\n"
     ]
    },
    {
     "name": "stderr",
     "output_type": "stream",
     "text": [
      "100%|██████████| 466/466 [00:03<00:00, 125.12it/s]\n",
      "  3%|▎         | 13/466 [00:00<00:03, 123.80it/s]"
     ]
    },
    {
     "name": "stdout",
     "output_type": "stream",
     "text": [
      "epoch 362, loss 0.9375, acc 0.8374\n"
     ]
    },
    {
     "name": "stderr",
     "output_type": "stream",
     "text": [
      "100%|██████████| 466/466 [00:04<00:00, 116.27it/s]\n",
      "  3%|▎         | 12/466 [00:00<00:03, 116.83it/s]"
     ]
    },
    {
     "name": "stdout",
     "output_type": "stream",
     "text": [
      "epoch 363, loss 0.9522, acc 0.8320\n"
     ]
    },
    {
     "name": "stderr",
     "output_type": "stream",
     "text": [
      "100%|██████████| 466/466 [00:04<00:00, 112.94it/s]\n",
      "  3%|▎         | 13/466 [00:00<00:03, 124.68it/s]"
     ]
    },
    {
     "name": "stdout",
     "output_type": "stream",
     "text": [
      "epoch 364, loss 0.9887, acc 0.8208\n"
     ]
    },
    {
     "name": "stderr",
     "output_type": "stream",
     "text": [
      "100%|██████████| 466/466 [00:03<00:00, 124.82it/s]\n",
      "  3%|▎         | 13/466 [00:00<00:03, 124.66it/s]"
     ]
    },
    {
     "name": "stdout",
     "output_type": "stream",
     "text": [
      "epoch 365, loss 0.9580, acc 0.8291\n"
     ]
    },
    {
     "name": "stderr",
     "output_type": "stream",
     "text": [
      "100%|██████████| 466/466 [00:04<00:00, 109.07it/s]\n",
      "  3%|▎         | 12/466 [00:00<00:03, 119.15it/s]"
     ]
    },
    {
     "name": "stdout",
     "output_type": "stream",
     "text": [
      "epoch 366, loss 0.9514, acc 0.8298\n"
     ]
    },
    {
     "name": "stderr",
     "output_type": "stream",
     "text": [
      "100%|██████████| 466/466 [00:03<00:00, 123.01it/s]\n",
      "  3%|▎         | 13/466 [00:00<00:03, 125.77it/s]"
     ]
    },
    {
     "name": "stdout",
     "output_type": "stream",
     "text": [
      "epoch 367, loss 0.9881, acc 0.8193\n"
     ]
    },
    {
     "name": "stderr",
     "output_type": "stream",
     "text": [
      "100%|██████████| 466/466 [00:03<00:00, 122.14it/s]\n",
      "  3%|▎         | 13/466 [00:00<00:03, 123.86it/s]"
     ]
    },
    {
     "name": "stdout",
     "output_type": "stream",
     "text": [
      "epoch 368, loss 0.9660, acc 0.8253\n"
     ]
    },
    {
     "name": "stderr",
     "output_type": "stream",
     "text": [
      "100%|██████████| 466/466 [00:03<00:00, 117.92it/s]\n",
      "  3%|▎         | 12/466 [00:00<00:03, 114.12it/s]"
     ]
    },
    {
     "name": "stdout",
     "output_type": "stream",
     "text": [
      "epoch 369, loss 0.9332, acc 0.8354\n"
     ]
    },
    {
     "name": "stderr",
     "output_type": "stream",
     "text": [
      "100%|██████████| 466/466 [00:03<00:00, 117.11it/s]\n",
      "  2%|▏         | 10/466 [00:00<00:05, 91.09it/s]"
     ]
    },
    {
     "name": "stdout",
     "output_type": "stream",
     "text": [
      "epoch 370, loss 0.9195, acc 0.8390\n"
     ]
    },
    {
     "name": "stderr",
     "output_type": "stream",
     "text": [
      "100%|██████████| 466/466 [00:04<00:00, 109.28it/s]\n",
      "  3%|▎         | 13/466 [00:00<00:03, 120.68it/s]"
     ]
    },
    {
     "name": "stdout",
     "output_type": "stream",
     "text": [
      "epoch 371, loss 0.9608, acc 0.8256\n"
     ]
    },
    {
     "name": "stderr",
     "output_type": "stream",
     "text": [
      "100%|██████████| 466/466 [00:03<00:00, 121.77it/s]\n",
      "  3%|▎         | 13/466 [00:00<00:03, 124.10it/s]"
     ]
    },
    {
     "name": "stdout",
     "output_type": "stream",
     "text": [
      "epoch 372, loss 0.9230, acc 0.8375\n"
     ]
    },
    {
     "name": "stderr",
     "output_type": "stream",
     "text": [
      "100%|██████████| 466/466 [00:03<00:00, 124.87it/s]\n",
      "  3%|▎         | 13/466 [00:00<00:03, 120.05it/s]"
     ]
    },
    {
     "name": "stdout",
     "output_type": "stream",
     "text": [
      "epoch 373, loss 0.9203, acc 0.8383\n"
     ]
    },
    {
     "name": "stderr",
     "output_type": "stream",
     "text": [
      "100%|██████████| 466/466 [00:03<00:00, 123.41it/s]\n",
      "  3%|▎         | 13/466 [00:00<00:03, 124.63it/s]"
     ]
    },
    {
     "name": "stdout",
     "output_type": "stream",
     "text": [
      "epoch 374, loss 0.9119, acc 0.8397\n"
     ]
    },
    {
     "name": "stderr",
     "output_type": "stream",
     "text": [
      "100%|██████████| 466/466 [00:04<00:00, 107.99it/s]\n",
      "  3%|▎         | 13/466 [00:00<00:03, 121.76it/s]"
     ]
    },
    {
     "name": "stdout",
     "output_type": "stream",
     "text": [
      "epoch 375, loss 0.8914, acc 0.8457\n"
     ]
    },
    {
     "name": "stderr",
     "output_type": "stream",
     "text": [
      "100%|██████████| 466/466 [00:04<00:00, 114.39it/s]\n",
      "  3%|▎         | 13/466 [00:00<00:03, 124.41it/s]"
     ]
    },
    {
     "name": "stdout",
     "output_type": "stream",
     "text": [
      "epoch 376, loss 0.8749, acc 0.8504\n"
     ]
    },
    {
     "name": "stderr",
     "output_type": "stream",
     "text": [
      "100%|██████████| 466/466 [00:04<00:00, 109.90it/s]\n",
      "  3%|▎         | 13/466 [00:00<00:03, 126.64it/s]"
     ]
    },
    {
     "name": "stdout",
     "output_type": "stream",
     "text": [
      "epoch 377, loss 0.8605, acc 0.8561\n"
     ]
    },
    {
     "name": "stderr",
     "output_type": "stream",
     "text": [
      "100%|██████████| 466/466 [00:03<00:00, 121.40it/s]\n",
      "  2%|▏         | 10/466 [00:00<00:04, 92.34it/s]"
     ]
    },
    {
     "name": "stdout",
     "output_type": "stream",
     "text": [
      "epoch 378, loss 0.8601, acc 0.8550\n"
     ]
    },
    {
     "name": "stderr",
     "output_type": "stream",
     "text": [
      "100%|██████████| 466/466 [00:04<00:00, 107.28it/s]\n",
      "  3%|▎         | 13/466 [00:00<00:03, 120.28it/s]"
     ]
    },
    {
     "name": "stdout",
     "output_type": "stream",
     "text": [
      "epoch 379, loss 0.8351, acc 0.8634\n"
     ]
    },
    {
     "name": "stderr",
     "output_type": "stream",
     "text": [
      "100%|██████████| 466/466 [00:04<00:00, 115.63it/s]\n",
      "  2%|▏         | 11/466 [00:00<00:04, 108.56it/s]"
     ]
    },
    {
     "name": "stdout",
     "output_type": "stream",
     "text": [
      "epoch 380, loss 0.8464, acc 0.8589\n"
     ]
    },
    {
     "name": "stderr",
     "output_type": "stream",
     "text": [
      "100%|██████████| 466/466 [00:03<00:00, 118.28it/s]\n",
      "  2%|▏         | 10/466 [00:00<00:04, 96.01it/s]"
     ]
    },
    {
     "name": "stdout",
     "output_type": "stream",
     "text": [
      "epoch 381, loss 0.8420, acc 0.8587\n"
     ]
    },
    {
     "name": "stderr",
     "output_type": "stream",
     "text": [
      "100%|██████████| 466/466 [00:04<00:00, 113.35it/s]\n",
      "  3%|▎         | 13/466 [00:00<00:03, 123.40it/s]"
     ]
    },
    {
     "name": "stdout",
     "output_type": "stream",
     "text": [
      "epoch 382, loss 0.8313, acc 0.8632\n"
     ]
    },
    {
     "name": "stderr",
     "output_type": "stream",
     "text": [
      "100%|██████████| 466/466 [00:03<00:00, 124.03it/s]\n",
      "  3%|▎         | 13/466 [00:00<00:03, 123.89it/s]"
     ]
    },
    {
     "name": "stdout",
     "output_type": "stream",
     "text": [
      "epoch 383, loss 0.8310, acc 0.8622\n"
     ]
    },
    {
     "name": "stderr",
     "output_type": "stream",
     "text": [
      "100%|██████████| 466/466 [00:04<00:00, 115.62it/s]\n",
      "  3%|▎         | 13/466 [00:00<00:03, 123.74it/s]"
     ]
    },
    {
     "name": "stdout",
     "output_type": "stream",
     "text": [
      "epoch 384, loss 0.8051, acc 0.8702\n"
     ]
    },
    {
     "name": "stderr",
     "output_type": "stream",
     "text": [
      "100%|██████████| 466/466 [00:03<00:00, 120.43it/s]\n",
      "  3%|▎         | 13/466 [00:00<00:03, 120.33it/s]"
     ]
    },
    {
     "name": "stdout",
     "output_type": "stream",
     "text": [
      "epoch 385, loss 0.8051, acc 0.8700\n"
     ]
    },
    {
     "name": "stderr",
     "output_type": "stream",
     "text": [
      "100%|██████████| 466/466 [00:03<00:00, 119.35it/s]\n",
      "  3%|▎         | 13/466 [00:00<00:03, 124.10it/s]"
     ]
    },
    {
     "name": "stdout",
     "output_type": "stream",
     "text": [
      "epoch 386, loss 0.8013, acc 0.8708\n"
     ]
    },
    {
     "name": "stderr",
     "output_type": "stream",
     "text": [
      "100%|██████████| 466/466 [00:03<00:00, 119.27it/s]\n",
      "  3%|▎         | 13/466 [00:00<00:03, 120.79it/s]"
     ]
    },
    {
     "name": "stdout",
     "output_type": "stream",
     "text": [
      "epoch 387, loss 0.8003, acc 0.8702\n"
     ]
    },
    {
     "name": "stderr",
     "output_type": "stream",
     "text": [
      "100%|██████████| 466/466 [00:03<00:00, 120.15it/s]\n",
      "  3%|▎         | 13/466 [00:00<00:03, 124.33it/s]"
     ]
    },
    {
     "name": "stdout",
     "output_type": "stream",
     "text": [
      "epoch 388, loss 0.7922, acc 0.8719\n"
     ]
    },
    {
     "name": "stderr",
     "output_type": "stream",
     "text": [
      "100%|██████████| 466/466 [00:04<00:00, 115.72it/s]\n",
      "  2%|▏         | 10/466 [00:00<00:04, 96.60it/s]"
     ]
    },
    {
     "name": "stdout",
     "output_type": "stream",
     "text": [
      "epoch 389, loss 0.7840, acc 0.8747\n"
     ]
    },
    {
     "name": "stderr",
     "output_type": "stream",
     "text": [
      "100%|██████████| 466/466 [00:04<00:00, 112.28it/s]\n",
      "  3%|▎         | 13/466 [00:00<00:03, 120.18it/s]"
     ]
    },
    {
     "name": "stdout",
     "output_type": "stream",
     "text": [
      "epoch 390, loss 0.7800, acc 0.8756\n"
     ]
    },
    {
     "name": "stderr",
     "output_type": "stream",
     "text": [
      "100%|██████████| 466/466 [00:03<00:00, 116.90it/s]\n",
      "  3%|▎         | 12/466 [00:00<00:03, 117.55it/s]"
     ]
    },
    {
     "name": "stdout",
     "output_type": "stream",
     "text": [
      "epoch 391, loss 1.2952, acc 0.7236\n"
     ]
    },
    {
     "name": "stderr",
     "output_type": "stream",
     "text": [
      "100%|██████████| 466/466 [00:03<00:00, 118.90it/s]\n",
      "  2%|▏         | 11/466 [00:00<00:04, 101.88it/s]"
     ]
    },
    {
     "name": "stdout",
     "output_type": "stream",
     "text": [
      "epoch 392, loss 1.0630, acc 0.7842\n"
     ]
    },
    {
     "name": "stderr",
     "output_type": "stream",
     "text": [
      "100%|██████████| 466/466 [00:04<00:00, 109.08it/s]\n",
      "  2%|▏         | 11/466 [00:00<00:04, 109.52it/s]"
     ]
    },
    {
     "name": "stdout",
     "output_type": "stream",
     "text": [
      "epoch 393, loss 1.0108, acc 0.8006\n"
     ]
    },
    {
     "name": "stderr",
     "output_type": "stream",
     "text": [
      "100%|██████████| 466/466 [00:04<00:00, 115.66it/s]\n",
      "  3%|▎         | 12/466 [00:00<00:03, 119.20it/s]"
     ]
    },
    {
     "name": "stdout",
     "output_type": "stream",
     "text": [
      "epoch 394, loss 0.9481, acc 0.8197\n"
     ]
    },
    {
     "name": "stderr",
     "output_type": "stream",
     "text": [
      "100%|██████████| 466/466 [00:03<00:00, 117.08it/s]\n",
      "  3%|▎         | 12/466 [00:00<00:03, 119.81it/s]"
     ]
    },
    {
     "name": "stdout",
     "output_type": "stream",
     "text": [
      "epoch 395, loss 0.9172, acc 0.8275\n"
     ]
    },
    {
     "name": "stderr",
     "output_type": "stream",
     "text": [
      "100%|██████████| 466/466 [00:03<00:00, 120.49it/s]\n",
      "  3%|▎         | 13/466 [00:00<00:03, 124.39it/s]"
     ]
    },
    {
     "name": "stdout",
     "output_type": "stream",
     "text": [
      "epoch 396, loss 0.8960, acc 0.8360\n"
     ]
    },
    {
     "name": "stderr",
     "output_type": "stream",
     "text": [
      "100%|██████████| 466/466 [00:03<00:00, 117.49it/s]\n",
      "  3%|▎         | 13/466 [00:00<00:03, 123.14it/s]"
     ]
    },
    {
     "name": "stdout",
     "output_type": "stream",
     "text": [
      "epoch 397, loss 0.8617, acc 0.8459\n"
     ]
    },
    {
     "name": "stderr",
     "output_type": "stream",
     "text": [
      "100%|██████████| 466/466 [00:04<00:00, 114.59it/s]\n",
      "  3%|▎         | 13/466 [00:00<00:03, 125.75it/s]"
     ]
    },
    {
     "name": "stdout",
     "output_type": "stream",
     "text": [
      "epoch 398, loss 0.8271, acc 0.8566\n"
     ]
    },
    {
     "name": "stderr",
     "output_type": "stream",
     "text": [
      "100%|██████████| 466/466 [00:03<00:00, 124.86it/s]\n",
      "  3%|▎         | 13/466 [00:00<00:03, 126.17it/s]"
     ]
    },
    {
     "name": "stdout",
     "output_type": "stream",
     "text": [
      "epoch 399, loss 0.8766, acc 0.8407\n"
     ]
    },
    {
     "name": "stderr",
     "output_type": "stream",
     "text": [
      "100%|██████████| 466/466 [00:04<00:00, 113.93it/s]\n",
      "  2%|▏         | 11/466 [00:00<00:04, 108.91it/s]"
     ]
    },
    {
     "name": "stdout",
     "output_type": "stream",
     "text": [
      "epoch 400, loss 0.8932, acc 0.8350\n"
     ]
    },
    {
     "name": "stderr",
     "output_type": "stream",
     "text": [
      "100%|██████████| 466/466 [00:04<00:00, 108.55it/s]\n",
      "  3%|▎         | 12/466 [00:00<00:03, 113.60it/s]"
     ]
    },
    {
     "name": "stdout",
     "output_type": "stream",
     "text": [
      "epoch 401, loss 0.8396, acc 0.8509\n"
     ]
    },
    {
     "name": "stderr",
     "output_type": "stream",
     "text": [
      "100%|██████████| 466/466 [00:04<00:00, 106.79it/s]\n",
      "  3%|▎         | 13/466 [00:00<00:03, 121.16it/s]"
     ]
    },
    {
     "name": "stdout",
     "output_type": "stream",
     "text": [
      "epoch 402, loss 0.8227, acc 0.8568\n"
     ]
    },
    {
     "name": "stderr",
     "output_type": "stream",
     "text": [
      "100%|██████████| 466/466 [00:04<00:00, 110.41it/s]\n",
      "  3%|▎         | 12/466 [00:00<00:03, 114.18it/s]"
     ]
    },
    {
     "name": "stdout",
     "output_type": "stream",
     "text": [
      "epoch 403, loss 0.7986, acc 0.8643\n"
     ]
    },
    {
     "name": "stderr",
     "output_type": "stream",
     "text": [
      "100%|██████████| 466/466 [00:04<00:00, 109.22it/s]\n",
      "  3%|▎         | 12/466 [00:00<00:03, 118.16it/s]"
     ]
    },
    {
     "name": "stdout",
     "output_type": "stream",
     "text": [
      "epoch 404, loss 0.8019, acc 0.8630\n"
     ]
    },
    {
     "name": "stderr",
     "output_type": "stream",
     "text": [
      "100%|██████████| 466/466 [00:04<00:00, 113.73it/s]\n",
      "  3%|▎         | 12/466 [00:00<00:03, 117.68it/s]"
     ]
    },
    {
     "name": "stdout",
     "output_type": "stream",
     "text": [
      "epoch 405, loss 0.7773, acc 0.8703\n"
     ]
    },
    {
     "name": "stderr",
     "output_type": "stream",
     "text": [
      "100%|██████████| 466/466 [00:03<00:00, 118.33it/s]\n",
      "  3%|▎         | 13/466 [00:00<00:03, 122.47it/s]"
     ]
    },
    {
     "name": "stdout",
     "output_type": "stream",
     "text": [
      "epoch 406, loss 0.7793, acc 0.8698\n"
     ]
    },
    {
     "name": "stderr",
     "output_type": "stream",
     "text": [
      "100%|██████████| 466/466 [00:03<00:00, 123.83it/s]\n",
      "  3%|▎         | 13/466 [00:00<00:03, 123.69it/s]"
     ]
    },
    {
     "name": "stdout",
     "output_type": "stream",
     "text": [
      "epoch 407, loss 0.7636, acc 0.8750\n"
     ]
    },
    {
     "name": "stderr",
     "output_type": "stream",
     "text": [
      "100%|██████████| 466/466 [00:03<00:00, 123.66it/s]\n",
      "  3%|▎         | 13/466 [00:00<00:03, 126.18it/s]"
     ]
    },
    {
     "name": "stdout",
     "output_type": "stream",
     "text": [
      "epoch 408, loss 0.7487, acc 0.8788\n"
     ]
    },
    {
     "name": "stderr",
     "output_type": "stream",
     "text": [
      "100%|██████████| 466/466 [00:04<00:00, 116.43it/s]\n",
      "  3%|▎         | 12/466 [00:00<00:04, 113.14it/s]"
     ]
    },
    {
     "name": "stdout",
     "output_type": "stream",
     "text": [
      "epoch 409, loss 0.7385, acc 0.8816\n"
     ]
    },
    {
     "name": "stderr",
     "output_type": "stream",
     "text": [
      "100%|██████████| 466/466 [00:03<00:00, 121.09it/s]\n",
      "  3%|▎         | 13/466 [00:00<00:03, 124.55it/s]"
     ]
    },
    {
     "name": "stdout",
     "output_type": "stream",
     "text": [
      "epoch 410, loss 0.7284, acc 0.8844\n"
     ]
    },
    {
     "name": "stderr",
     "output_type": "stream",
     "text": [
      "100%|██████████| 466/466 [00:03<00:00, 117.40it/s]\n",
      "  3%|▎         | 13/466 [00:00<00:03, 123.93it/s]"
     ]
    },
    {
     "name": "stdout",
     "output_type": "stream",
     "text": [
      "epoch 411, loss 0.7601, acc 0.8735\n"
     ]
    },
    {
     "name": "stderr",
     "output_type": "stream",
     "text": [
      "100%|██████████| 466/466 [00:03<00:00, 122.11it/s]\n",
      "  3%|▎         | 13/466 [00:00<00:03, 124.27it/s]"
     ]
    },
    {
     "name": "stdout",
     "output_type": "stream",
     "text": [
      "epoch 412, loss 0.7527, acc 0.8761\n"
     ]
    },
    {
     "name": "stderr",
     "output_type": "stream",
     "text": [
      "100%|██████████| 466/466 [00:03<00:00, 123.36it/s]\n",
      "  3%|▎         | 13/466 [00:00<00:03, 123.46it/s]"
     ]
    },
    {
     "name": "stdout",
     "output_type": "stream",
     "text": [
      "epoch 413, loss 0.7814, acc 0.8653\n"
     ]
    },
    {
     "name": "stderr",
     "output_type": "stream",
     "text": [
      "100%|██████████| 466/466 [00:03<00:00, 117.31it/s]\n",
      "  3%|▎         | 13/466 [00:00<00:03, 122.58it/s]"
     ]
    },
    {
     "name": "stdout",
     "output_type": "stream",
     "text": [
      "epoch 414, loss 0.7390, acc 0.8784\n"
     ]
    },
    {
     "name": "stderr",
     "output_type": "stream",
     "text": [
      "100%|██████████| 466/466 [00:03<00:00, 120.65it/s]\n",
      "  3%|▎         | 13/466 [00:00<00:03, 120.83it/s]"
     ]
    },
    {
     "name": "stdout",
     "output_type": "stream",
     "text": [
      "epoch 415, loss 0.9439, acc 0.8226\n"
     ]
    },
    {
     "name": "stderr",
     "output_type": "stream",
     "text": [
      "100%|██████████| 466/466 [00:04<00:00, 113.77it/s]\n",
      "  2%|▏         | 11/466 [00:00<00:04, 108.71it/s]"
     ]
    },
    {
     "name": "stdout",
     "output_type": "stream",
     "text": [
      "epoch 416, loss 0.8906, acc 0.8291\n"
     ]
    },
    {
     "name": "stderr",
     "output_type": "stream",
     "text": [
      "100%|██████████| 466/466 [00:04<00:00, 109.69it/s]\n",
      "  3%|▎         | 13/466 [00:00<00:03, 123.81it/s]"
     ]
    },
    {
     "name": "stdout",
     "output_type": "stream",
     "text": [
      "epoch 417, loss 0.7846, acc 0.8627\n"
     ]
    },
    {
     "name": "stderr",
     "output_type": "stream",
     "text": [
      "100%|██████████| 466/466 [00:03<00:00, 118.73it/s]\n",
      "  3%|▎         | 13/466 [00:00<00:03, 126.21it/s]"
     ]
    },
    {
     "name": "stdout",
     "output_type": "stream",
     "text": [
      "epoch 418, loss 0.7463, acc 0.8761\n"
     ]
    },
    {
     "name": "stderr",
     "output_type": "stream",
     "text": [
      "100%|██████████| 466/466 [00:03<00:00, 121.24it/s]\n",
      "  3%|▎         | 12/466 [00:00<00:03, 114.76it/s]"
     ]
    },
    {
     "name": "stdout",
     "output_type": "stream",
     "text": [
      "epoch 419, loss 0.7180, acc 0.8847\n"
     ]
    },
    {
     "name": "stderr",
     "output_type": "stream",
     "text": [
      "100%|██████████| 466/466 [00:04<00:00, 115.93it/s]\n",
      "  3%|▎         | 13/466 [00:00<00:03, 124.63it/s]"
     ]
    },
    {
     "name": "stdout",
     "output_type": "stream",
     "text": [
      "epoch 420, loss 0.6954, acc 0.8907\n"
     ]
    },
    {
     "name": "stderr",
     "output_type": "stream",
     "text": [
      "100%|██████████| 466/466 [00:04<00:00, 114.49it/s]\n",
      "  3%|▎         | 13/466 [00:00<00:03, 124.31it/s]"
     ]
    },
    {
     "name": "stdout",
     "output_type": "stream",
     "text": [
      "epoch 421, loss 0.7061, acc 0.8875\n"
     ]
    },
    {
     "name": "stderr",
     "output_type": "stream",
     "text": [
      "100%|██████████| 466/466 [00:03<00:00, 121.37it/s]\n",
      "  3%|▎         | 13/466 [00:00<00:03, 124.26it/s]"
     ]
    },
    {
     "name": "stdout",
     "output_type": "stream",
     "text": [
      "epoch 422, loss 0.6803, acc 0.8963\n"
     ]
    },
    {
     "name": "stderr",
     "output_type": "stream",
     "text": [
      "100%|██████████| 466/466 [00:03<00:00, 121.11it/s]\n",
      "  3%|▎         | 12/466 [00:00<00:03, 119.32it/s]"
     ]
    },
    {
     "name": "stdout",
     "output_type": "stream",
     "text": [
      "epoch 423, loss 0.6591, acc 0.9026\n"
     ]
    },
    {
     "name": "stderr",
     "output_type": "stream",
     "text": [
      "100%|██████████| 466/466 [00:04<00:00, 115.60it/s]\n",
      "  3%|▎         | 13/466 [00:00<00:03, 125.55it/s]"
     ]
    },
    {
     "name": "stdout",
     "output_type": "stream",
     "text": [
      "epoch 424, loss 0.6794, acc 0.8958\n"
     ]
    },
    {
     "name": "stderr",
     "output_type": "stream",
     "text": [
      "100%|██████████| 466/466 [00:04<00:00, 112.40it/s]\n",
      "  2%|▏         | 10/466 [00:00<00:04, 98.94it/s]"
     ]
    },
    {
     "name": "stdout",
     "output_type": "stream",
     "text": [
      "epoch 425, loss 0.6527, acc 0.9041\n"
     ]
    },
    {
     "name": "stderr",
     "output_type": "stream",
     "text": [
      "100%|██████████| 466/466 [00:04<00:00, 109.38it/s]\n",
      "  3%|▎         | 12/466 [00:00<00:04, 113.18it/s]"
     ]
    },
    {
     "name": "stdout",
     "output_type": "stream",
     "text": [
      "epoch 426, loss 0.6652, acc 0.8987\n"
     ]
    },
    {
     "name": "stderr",
     "output_type": "stream",
     "text": [
      "100%|██████████| 466/466 [00:03<00:00, 123.24it/s]\n",
      "  3%|▎         | 13/466 [00:00<00:03, 123.28it/s]"
     ]
    },
    {
     "name": "stdout",
     "output_type": "stream",
     "text": [
      "epoch 427, loss 0.6820, acc 0.8926\n"
     ]
    },
    {
     "name": "stderr",
     "output_type": "stream",
     "text": [
      "100%|██████████| 466/466 [00:03<00:00, 123.02it/s]\n",
      "  3%|▎         | 13/466 [00:00<00:03, 123.42it/s]"
     ]
    },
    {
     "name": "stdout",
     "output_type": "stream",
     "text": [
      "epoch 428, loss 0.6539, acc 0.9021\n"
     ]
    },
    {
     "name": "stderr",
     "output_type": "stream",
     "text": [
      "100%|██████████| 466/466 [00:03<00:00, 118.72it/s]\n",
      "  3%|▎         | 13/466 [00:00<00:03, 123.94it/s]"
     ]
    },
    {
     "name": "stdout",
     "output_type": "stream",
     "text": [
      "epoch 429, loss 0.6464, acc 0.9051\n"
     ]
    },
    {
     "name": "stderr",
     "output_type": "stream",
     "text": [
      "100%|██████████| 466/466 [00:04<00:00, 115.76it/s]\n",
      "  3%|▎         | 13/466 [00:00<00:03, 120.02it/s]"
     ]
    },
    {
     "name": "stdout",
     "output_type": "stream",
     "text": [
      "epoch 430, loss 0.6286, acc 0.9099\n"
     ]
    },
    {
     "name": "stderr",
     "output_type": "stream",
     "text": [
      "100%|██████████| 466/466 [00:03<00:00, 121.68it/s]\n",
      "  3%|▎         | 13/466 [00:00<00:03, 126.12it/s]"
     ]
    },
    {
     "name": "stdout",
     "output_type": "stream",
     "text": [
      "epoch 431, loss 0.6246, acc 0.9109\n"
     ]
    },
    {
     "name": "stderr",
     "output_type": "stream",
     "text": [
      "100%|██████████| 466/466 [00:03<00:00, 124.57it/s]\n",
      "  3%|▎         | 13/466 [00:00<00:03, 124.30it/s]"
     ]
    },
    {
     "name": "stdout",
     "output_type": "stream",
     "text": [
      "epoch 432, loss 0.6092, acc 0.9160\n"
     ]
    },
    {
     "name": "stderr",
     "output_type": "stream",
     "text": [
      "100%|██████████| 466/466 [00:03<00:00, 121.16it/s]\n",
      "  3%|▎         | 12/466 [00:00<00:03, 114.18it/s]"
     ]
    },
    {
     "name": "stdout",
     "output_type": "stream",
     "text": [
      "epoch 433, loss 0.6083, acc 0.9148\n"
     ]
    },
    {
     "name": "stderr",
     "output_type": "stream",
     "text": [
      "100%|██████████| 466/466 [00:04<00:00, 113.70it/s]\n",
      "  3%|▎         | 12/466 [00:00<00:04, 113.22it/s]"
     ]
    },
    {
     "name": "stdout",
     "output_type": "stream",
     "text": [
      "epoch 434, loss 0.6321, acc 0.9065\n"
     ]
    },
    {
     "name": "stderr",
     "output_type": "stream",
     "text": [
      "100%|██████████| 466/466 [00:03<00:00, 117.57it/s]\n",
      "  3%|▎         | 12/466 [00:00<00:03, 115.91it/s]"
     ]
    },
    {
     "name": "stdout",
     "output_type": "stream",
     "text": [
      "epoch 435, loss 0.6169, acc 0.9107\n"
     ]
    },
    {
     "name": "stderr",
     "output_type": "stream",
     "text": [
      "100%|██████████| 466/466 [00:03<00:00, 120.91it/s]\n",
      "  2%|▏         | 11/466 [00:00<00:04, 109.01it/s]"
     ]
    },
    {
     "name": "stdout",
     "output_type": "stream",
     "text": [
      "epoch 436, loss 0.7102, acc 0.8802\n"
     ]
    },
    {
     "name": "stderr",
     "output_type": "stream",
     "text": [
      "100%|██████████| 466/466 [00:03<00:00, 123.22it/s]\n",
      "  3%|▎         | 13/466 [00:00<00:03, 123.66it/s]"
     ]
    },
    {
     "name": "stdout",
     "output_type": "stream",
     "text": [
      "epoch 437, loss 0.6933, acc 0.8849\n"
     ]
    },
    {
     "name": "stderr",
     "output_type": "stream",
     "text": [
      "100%|██████████| 466/466 [00:03<00:00, 125.31it/s]\n",
      "  3%|▎         | 13/466 [00:00<00:03, 124.40it/s]"
     ]
    },
    {
     "name": "stdout",
     "output_type": "stream",
     "text": [
      "epoch 438, loss 0.6683, acc 0.8927\n"
     ]
    },
    {
     "name": "stderr",
     "output_type": "stream",
     "text": [
      "100%|██████████| 466/466 [00:04<00:00, 111.09it/s]\n",
      "  3%|▎         | 12/466 [00:00<00:03, 119.13it/s]"
     ]
    },
    {
     "name": "stdout",
     "output_type": "stream",
     "text": [
      "epoch 439, loss 0.6351, acc 0.9031\n"
     ]
    },
    {
     "name": "stderr",
     "output_type": "stream",
     "text": [
      "100%|██████████| 466/466 [00:03<00:00, 119.03it/s]\n",
      "  3%|▎         | 13/466 [00:00<00:03, 124.24it/s]"
     ]
    },
    {
     "name": "stdout",
     "output_type": "stream",
     "text": [
      "epoch 440, loss 0.6349, acc 0.9025\n"
     ]
    },
    {
     "name": "stderr",
     "output_type": "stream",
     "text": [
      "100%|██████████| 466/466 [00:03<00:00, 120.00it/s]\n",
      "  3%|▎         | 13/466 [00:00<00:03, 120.24it/s]"
     ]
    },
    {
     "name": "stdout",
     "output_type": "stream",
     "text": [
      "epoch 441, loss 0.6261, acc 0.9059\n"
     ]
    },
    {
     "name": "stderr",
     "output_type": "stream",
     "text": [
      "100%|██████████| 466/466 [00:03<00:00, 117.92it/s]\n",
      "  3%|▎         | 12/466 [00:00<00:03, 114.00it/s]"
     ]
    },
    {
     "name": "stdout",
     "output_type": "stream",
     "text": [
      "epoch 442, loss 0.6247, acc 0.9064\n"
     ]
    },
    {
     "name": "stderr",
     "output_type": "stream",
     "text": [
      "100%|██████████| 466/466 [00:03<00:00, 121.00it/s]\n",
      "  3%|▎         | 13/466 [00:00<00:03, 124.33it/s]"
     ]
    },
    {
     "name": "stdout",
     "output_type": "stream",
     "text": [
      "epoch 443, loss 0.6124, acc 0.9096\n"
     ]
    },
    {
     "name": "stderr",
     "output_type": "stream",
     "text": [
      "100%|██████████| 466/466 [00:03<00:00, 119.02it/s]\n",
      "  3%|▎         | 13/466 [00:00<00:03, 120.34it/s]"
     ]
    },
    {
     "name": "stdout",
     "output_type": "stream",
     "text": [
      "epoch 444, loss 0.5996, acc 0.9136\n"
     ]
    },
    {
     "name": "stderr",
     "output_type": "stream",
     "text": [
      "100%|██████████| 466/466 [00:03<00:00, 118.12it/s]\n",
      "  2%|▏         | 11/466 [00:00<00:04, 105.26it/s]"
     ]
    },
    {
     "name": "stdout",
     "output_type": "stream",
     "text": [
      "epoch 445, loss 0.6098, acc 0.9098\n"
     ]
    },
    {
     "name": "stderr",
     "output_type": "stream",
     "text": [
      "100%|██████████| 466/466 [00:03<00:00, 118.02it/s]\n",
      "  3%|▎         | 13/466 [00:00<00:03, 123.79it/s]"
     ]
    },
    {
     "name": "stdout",
     "output_type": "stream",
     "text": [
      "epoch 446, loss 0.6452, acc 0.8988\n"
     ]
    },
    {
     "name": "stderr",
     "output_type": "stream",
     "text": [
      "100%|██████████| 466/466 [00:03<00:00, 121.78it/s]\n",
      "  3%|▎         | 13/466 [00:00<00:03, 125.64it/s]"
     ]
    },
    {
     "name": "stdout",
     "output_type": "stream",
     "text": [
      "epoch 447, loss 0.6740, acc 0.8876\n"
     ]
    },
    {
     "name": "stderr",
     "output_type": "stream",
     "text": [
      "100%|██████████| 466/466 [00:04<00:00, 109.18it/s]\n",
      "  3%|▎         | 13/466 [00:00<00:03, 126.38it/s]"
     ]
    },
    {
     "name": "stdout",
     "output_type": "stream",
     "text": [
      "epoch 448, loss 0.6652, acc 0.8908\n"
     ]
    },
    {
     "name": "stderr",
     "output_type": "stream",
     "text": [
      "100%|██████████| 466/466 [00:04<00:00, 116.02it/s]\n",
      "  3%|▎         | 13/466 [00:00<00:03, 125.78it/s]"
     ]
    },
    {
     "name": "stdout",
     "output_type": "stream",
     "text": [
      "epoch 449, loss 0.6423, acc 0.8976\n"
     ]
    },
    {
     "name": "stderr",
     "output_type": "stream",
     "text": [
      "100%|██████████| 466/466 [00:03<00:00, 123.35it/s]\n",
      "  3%|▎         | 13/466 [00:00<00:03, 124.73it/s]"
     ]
    },
    {
     "name": "stdout",
     "output_type": "stream",
     "text": [
      "epoch 450, loss 0.5977, acc 0.9115\n"
     ]
    },
    {
     "name": "stderr",
     "output_type": "stream",
     "text": [
      "100%|██████████| 466/466 [00:03<00:00, 120.34it/s]\n",
      "  3%|▎         | 12/466 [00:00<00:03, 119.84it/s]"
     ]
    },
    {
     "name": "stdout",
     "output_type": "stream",
     "text": [
      "epoch 451, loss 0.5886, acc 0.9149\n"
     ]
    },
    {
     "name": "stderr",
     "output_type": "stream",
     "text": [
      "100%|██████████| 466/466 [00:03<00:00, 120.03it/s]\n",
      "  3%|▎         | 13/466 [00:00<00:03, 123.93it/s]"
     ]
    },
    {
     "name": "stdout",
     "output_type": "stream",
     "text": [
      "epoch 452, loss 0.6006, acc 0.9105\n"
     ]
    },
    {
     "name": "stderr",
     "output_type": "stream",
     "text": [
      "100%|██████████| 466/466 [00:04<00:00, 116.09it/s]\n",
      "  3%|▎         | 13/466 [00:00<00:03, 125.19it/s]"
     ]
    },
    {
     "name": "stdout",
     "output_type": "stream",
     "text": [
      "epoch 453, loss 0.5909, acc 0.9130\n"
     ]
    },
    {
     "name": "stderr",
     "output_type": "stream",
     "text": [
      "100%|██████████| 466/466 [00:03<00:00, 122.46it/s]\n",
      "  3%|▎         | 13/466 [00:00<00:03, 125.90it/s]"
     ]
    },
    {
     "name": "stdout",
     "output_type": "stream",
     "text": [
      "epoch 454, loss 0.5795, acc 0.9167\n"
     ]
    },
    {
     "name": "stderr",
     "output_type": "stream",
     "text": [
      "100%|██████████| 466/466 [00:03<00:00, 116.75it/s]\n",
      "  3%|▎         | 13/466 [00:00<00:03, 124.65it/s]"
     ]
    },
    {
     "name": "stdout",
     "output_type": "stream",
     "text": [
      "epoch 455, loss 0.5627, acc 0.9222\n"
     ]
    },
    {
     "name": "stderr",
     "output_type": "stream",
     "text": [
      "100%|██████████| 466/466 [00:04<00:00, 116.10it/s]\n",
      "  3%|▎         | 12/466 [00:00<00:03, 114.31it/s]"
     ]
    },
    {
     "name": "stdout",
     "output_type": "stream",
     "text": [
      "epoch 456, loss 0.5792, acc 0.9157\n"
     ]
    },
    {
     "name": "stderr",
     "output_type": "stream",
     "text": [
      "100%|██████████| 466/466 [00:04<00:00, 113.13it/s]\n",
      "  2%|▏         | 11/466 [00:00<00:04, 102.57it/s]"
     ]
    },
    {
     "name": "stdout",
     "output_type": "stream",
     "text": [
      "epoch 457, loss 0.5959, acc 0.9100\n"
     ]
    },
    {
     "name": "stderr",
     "output_type": "stream",
     "text": [
      "100%|██████████| 466/466 [00:03<00:00, 118.14it/s]\n",
      "  3%|▎         | 13/466 [00:00<00:03, 125.01it/s]"
     ]
    },
    {
     "name": "stdout",
     "output_type": "stream",
     "text": [
      "epoch 458, loss 0.6020, acc 0.9076\n"
     ]
    },
    {
     "name": "stderr",
     "output_type": "stream",
     "text": [
      "100%|██████████| 466/466 [00:04<00:00, 112.89it/s]\n",
      "  3%|▎         | 13/466 [00:00<00:03, 126.40it/s]"
     ]
    },
    {
     "name": "stdout",
     "output_type": "stream",
     "text": [
      "epoch 459, loss 0.5720, acc 0.9174\n"
     ]
    },
    {
     "name": "stderr",
     "output_type": "stream",
     "text": [
      "100%|██████████| 466/466 [00:04<00:00, 114.07it/s]\n",
      "  2%|▏         | 11/466 [00:00<00:04, 107.19it/s]"
     ]
    },
    {
     "name": "stdout",
     "output_type": "stream",
     "text": [
      "epoch 460, loss 0.5963, acc 0.9083\n"
     ]
    },
    {
     "name": "stderr",
     "output_type": "stream",
     "text": [
      "100%|██████████| 466/466 [00:04<00:00, 112.33it/s]\n",
      "  3%|▎         | 13/466 [00:00<00:03, 121.57it/s]"
     ]
    },
    {
     "name": "stdout",
     "output_type": "stream",
     "text": [
      "epoch 461, loss 0.5676, acc 0.9178\n"
     ]
    },
    {
     "name": "stderr",
     "output_type": "stream",
     "text": [
      "100%|██████████| 466/466 [00:04<00:00, 104.54it/s]\n",
      "  3%|▎         | 12/466 [00:00<00:03, 115.36it/s]"
     ]
    },
    {
     "name": "stdout",
     "output_type": "stream",
     "text": [
      "epoch 462, loss 0.5577, acc 0.9218\n"
     ]
    },
    {
     "name": "stderr",
     "output_type": "stream",
     "text": [
      "100%|██████████| 466/466 [00:03<00:00, 117.36it/s]\n",
      "  3%|▎         | 13/466 [00:00<00:03, 124.14it/s]"
     ]
    },
    {
     "name": "stdout",
     "output_type": "stream",
     "text": [
      "epoch 463, loss 0.5615, acc 0.9200\n"
     ]
    },
    {
     "name": "stderr",
     "output_type": "stream",
     "text": [
      "100%|██████████| 466/466 [00:04<00:00, 116.06it/s]\n",
      "  2%|▏         | 11/466 [00:00<00:04, 107.66it/s]"
     ]
    },
    {
     "name": "stdout",
     "output_type": "stream",
     "text": [
      "epoch 464, loss 0.5397, acc 0.9267\n"
     ]
    },
    {
     "name": "stderr",
     "output_type": "stream",
     "text": [
      "100%|██████████| 466/466 [00:04<00:00, 114.39it/s]\n",
      "  2%|▏         | 11/466 [00:00<00:04, 104.22it/s]"
     ]
    },
    {
     "name": "stdout",
     "output_type": "stream",
     "text": [
      "epoch 465, loss 0.5386, acc 0.9265\n"
     ]
    },
    {
     "name": "stderr",
     "output_type": "stream",
     "text": [
      "100%|██████████| 466/466 [00:04<00:00, 114.36it/s]\n",
      "  3%|▎         | 12/466 [00:00<00:03, 117.24it/s]"
     ]
    },
    {
     "name": "stdout",
     "output_type": "stream",
     "text": [
      "epoch 466, loss 0.5587, acc 0.9185\n"
     ]
    },
    {
     "name": "stderr",
     "output_type": "stream",
     "text": [
      "100%|██████████| 466/466 [00:04<00:00, 115.76it/s]\n",
      "  3%|▎         | 13/466 [00:00<00:03, 122.33it/s]"
     ]
    },
    {
     "name": "stdout",
     "output_type": "stream",
     "text": [
      "epoch 467, loss 0.5705, acc 0.9144\n"
     ]
    },
    {
     "name": "stderr",
     "output_type": "stream",
     "text": [
      "100%|██████████| 466/466 [00:03<00:00, 122.98it/s]\n",
      "  3%|▎         | 13/466 [00:00<00:03, 123.64it/s]"
     ]
    },
    {
     "name": "stdout",
     "output_type": "stream",
     "text": [
      "epoch 468, loss 0.5727, acc 0.9144\n"
     ]
    },
    {
     "name": "stderr",
     "output_type": "stream",
     "text": [
      "100%|██████████| 466/466 [00:03<00:00, 120.83it/s]\n",
      "  3%|▎         | 13/466 [00:00<00:03, 124.64it/s]"
     ]
    },
    {
     "name": "stdout",
     "output_type": "stream",
     "text": [
      "epoch 469, loss 0.5731, acc 0.9126\n"
     ]
    },
    {
     "name": "stderr",
     "output_type": "stream",
     "text": [
      "100%|██████████| 466/466 [00:03<00:00, 125.03it/s]\n",
      "  3%|▎         | 13/466 [00:00<00:03, 125.70it/s]"
     ]
    },
    {
     "name": "stdout",
     "output_type": "stream",
     "text": [
      "epoch 470, loss 0.5684, acc 0.9151\n"
     ]
    },
    {
     "name": "stderr",
     "output_type": "stream",
     "text": [
      "100%|██████████| 466/466 [00:03<00:00, 124.64it/s]\n",
      "  3%|▎         | 13/466 [00:00<00:03, 123.73it/s]"
     ]
    },
    {
     "name": "stdout",
     "output_type": "stream",
     "text": [
      "epoch 471, loss 0.5595, acc 0.9172\n"
     ]
    },
    {
     "name": "stderr",
     "output_type": "stream",
     "text": [
      "100%|██████████| 466/466 [00:03<00:00, 124.90it/s]\n",
      "  3%|▎         | 13/466 [00:00<00:03, 124.75it/s]"
     ]
    },
    {
     "name": "stdout",
     "output_type": "stream",
     "text": [
      "epoch 472, loss 0.5213, acc 0.9303\n"
     ]
    },
    {
     "name": "stderr",
     "output_type": "stream",
     "text": [
      "100%|██████████| 466/466 [00:03<00:00, 117.65it/s]\n",
      "  3%|▎         | 13/466 [00:00<00:03, 124.88it/s]"
     ]
    },
    {
     "name": "stdout",
     "output_type": "stream",
     "text": [
      "epoch 473, loss 0.5251, acc 0.9284\n"
     ]
    },
    {
     "name": "stderr",
     "output_type": "stream",
     "text": [
      "100%|██████████| 466/466 [00:03<00:00, 123.34it/s]\n",
      "  3%|▎         | 13/466 [00:00<00:03, 125.40it/s]"
     ]
    },
    {
     "name": "stdout",
     "output_type": "stream",
     "text": [
      "epoch 474, loss 0.5800, acc 0.9089\n"
     ]
    },
    {
     "name": "stderr",
     "output_type": "stream",
     "text": [
      "100%|██████████| 466/466 [00:04<00:00, 115.53it/s]\n",
      "  2%|▏         | 11/466 [00:00<00:04, 103.37it/s]"
     ]
    },
    {
     "name": "stdout",
     "output_type": "stream",
     "text": [
      "epoch 475, loss 0.5638, acc 0.9134\n"
     ]
    },
    {
     "name": "stderr",
     "output_type": "stream",
     "text": [
      "100%|██████████| 466/466 [00:04<00:00, 109.60it/s]\n",
      "  2%|▏         | 11/466 [00:00<00:04, 108.80it/s]"
     ]
    },
    {
     "name": "stdout",
     "output_type": "stream",
     "text": [
      "epoch 476, loss 0.5607, acc 0.9144\n"
     ]
    },
    {
     "name": "stderr",
     "output_type": "stream",
     "text": [
      "100%|██████████| 466/466 [00:04<00:00, 115.69it/s]\n",
      "  3%|▎         | 12/466 [00:00<00:03, 114.42it/s]"
     ]
    },
    {
     "name": "stdout",
     "output_type": "stream",
     "text": [
      "epoch 477, loss 0.5065, acc 0.9324\n"
     ]
    },
    {
     "name": "stderr",
     "output_type": "stream",
     "text": [
      "100%|██████████| 466/466 [00:03<00:00, 124.80it/s]\n",
      "  3%|▎         | 13/466 [00:00<00:03, 123.21it/s]"
     ]
    },
    {
     "name": "stdout",
     "output_type": "stream",
     "text": [
      "epoch 478, loss 0.5125, acc 0.9302\n"
     ]
    },
    {
     "name": "stderr",
     "output_type": "stream",
     "text": [
      "100%|██████████| 466/466 [00:04<00:00, 116.50it/s]\n",
      "  3%|▎         | 12/466 [00:00<00:03, 113.63it/s]"
     ]
    },
    {
     "name": "stdout",
     "output_type": "stream",
     "text": [
      "epoch 479, loss 0.5006, acc 0.9337\n"
     ]
    },
    {
     "name": "stderr",
     "output_type": "stream",
     "text": [
      "100%|██████████| 466/466 [00:04<00:00, 113.96it/s]\n",
      "  3%|▎         | 13/466 [00:00<00:03, 123.22it/s]"
     ]
    },
    {
     "name": "stdout",
     "output_type": "stream",
     "text": [
      "epoch 480, loss 0.4781, acc 0.9408\n"
     ]
    },
    {
     "name": "stderr",
     "output_type": "stream",
     "text": [
      "100%|██████████| 466/466 [00:03<00:00, 118.48it/s]\n",
      "  3%|▎         | 13/466 [00:00<00:03, 124.95it/s]"
     ]
    },
    {
     "name": "stdout",
     "output_type": "stream",
     "text": [
      "epoch 481, loss 0.4859, acc 0.9383\n"
     ]
    },
    {
     "name": "stderr",
     "output_type": "stream",
     "text": [
      "100%|██████████| 466/466 [00:03<00:00, 124.87it/s]\n",
      "  3%|▎         | 13/466 [00:00<00:03, 124.82it/s]"
     ]
    },
    {
     "name": "stdout",
     "output_type": "stream",
     "text": [
      "epoch 482, loss 0.4888, acc 0.9364\n"
     ]
    },
    {
     "name": "stderr",
     "output_type": "stream",
     "text": [
      "100%|██████████| 466/466 [00:04<00:00, 112.06it/s]\n",
      "  2%|▏         | 11/466 [00:00<00:04, 108.27it/s]"
     ]
    },
    {
     "name": "stdout",
     "output_type": "stream",
     "text": [
      "epoch 483, loss 0.4809, acc 0.9397\n"
     ]
    },
    {
     "name": "stderr",
     "output_type": "stream",
     "text": [
      "100%|██████████| 466/466 [00:03<00:00, 122.89it/s]\n",
      "  3%|▎         | 13/466 [00:00<00:03, 124.21it/s]"
     ]
    },
    {
     "name": "stdout",
     "output_type": "stream",
     "text": [
      "epoch 484, loss 0.5609, acc 0.9129\n"
     ]
    },
    {
     "name": "stderr",
     "output_type": "stream",
     "text": [
      "100%|██████████| 466/466 [00:04<00:00, 109.45it/s]\n",
      "  3%|▎         | 13/466 [00:00<00:03, 122.96it/s]"
     ]
    },
    {
     "name": "stdout",
     "output_type": "stream",
     "text": [
      "epoch 485, loss 0.5293, acc 0.9224\n"
     ]
    },
    {
     "name": "stderr",
     "output_type": "stream",
     "text": [
      "100%|██████████| 466/466 [00:03<00:00, 116.50it/s]\n",
      "  3%|▎         | 13/466 [00:00<00:03, 125.75it/s]"
     ]
    },
    {
     "name": "stdout",
     "output_type": "stream",
     "text": [
      "epoch 486, loss 0.4975, acc 0.9321\n"
     ]
    },
    {
     "name": "stderr",
     "output_type": "stream",
     "text": [
      "100%|██████████| 466/466 [00:03<00:00, 119.25it/s]\n",
      "  3%|▎         | 12/466 [00:00<00:03, 119.27it/s]"
     ]
    },
    {
     "name": "stdout",
     "output_type": "stream",
     "text": [
      "epoch 487, loss 0.4793, acc 0.9386\n"
     ]
    },
    {
     "name": "stderr",
     "output_type": "stream",
     "text": [
      "100%|██████████| 466/466 [00:03<00:00, 117.03it/s]\n",
      "  3%|▎         | 13/466 [00:00<00:03, 126.93it/s]"
     ]
    },
    {
     "name": "stdout",
     "output_type": "stream",
     "text": [
      "epoch 488, loss 0.4617, acc 0.9435\n"
     ]
    },
    {
     "name": "stderr",
     "output_type": "stream",
     "text": [
      "100%|██████████| 466/466 [00:04<00:00, 111.97it/s]\n",
      "  3%|▎         | 13/466 [00:00<00:03, 124.81it/s]"
     ]
    },
    {
     "name": "stdout",
     "output_type": "stream",
     "text": [
      "epoch 489, loss 0.4509, acc 0.9470\n"
     ]
    },
    {
     "name": "stderr",
     "output_type": "stream",
     "text": [
      "100%|██████████| 466/466 [00:03<00:00, 116.71it/s]\n",
      "  2%|▏         | 11/466 [00:00<00:04, 105.67it/s]"
     ]
    },
    {
     "name": "stdout",
     "output_type": "stream",
     "text": [
      "epoch 490, loss 0.4389, acc 0.9504\n"
     ]
    },
    {
     "name": "stderr",
     "output_type": "stream",
     "text": [
      "100%|██████████| 466/466 [00:03<00:00, 119.12it/s]\n",
      "  5%|▌         | 24/466 [00:00<00:03, 119.87it/s]"
     ]
    },
    {
     "name": "stdout",
     "output_type": "stream",
     "text": [
      "epoch 491, loss 0.4301, acc 0.9526\n"
     ]
    },
    {
     "name": "stderr",
     "output_type": "stream",
     "text": [
      "100%|██████████| 466/466 [00:04<00:00, 112.36it/s]\n",
      "  3%|▎         | 12/466 [00:00<00:04, 112.30it/s]"
     ]
    },
    {
     "name": "stdout",
     "output_type": "stream",
     "text": [
      "epoch 492, loss 0.4507, acc 0.9463\n"
     ]
    },
    {
     "name": "stderr",
     "output_type": "stream",
     "text": [
      "100%|██████████| 466/466 [00:03<00:00, 123.44it/s]\n",
      "  3%|▎         | 13/466 [00:00<00:03, 124.49it/s]"
     ]
    },
    {
     "name": "stdout",
     "output_type": "stream",
     "text": [
      "epoch 493, loss 0.4597, acc 0.9426\n"
     ]
    },
    {
     "name": "stderr",
     "output_type": "stream",
     "text": [
      "100%|██████████| 466/466 [00:04<00:00, 108.53it/s]\n",
      "  3%|▎         | 13/466 [00:00<00:03, 120.96it/s]"
     ]
    },
    {
     "name": "stdout",
     "output_type": "stream",
     "text": [
      "epoch 494, loss 0.4392, acc 0.9485\n"
     ]
    },
    {
     "name": "stderr",
     "output_type": "stream",
     "text": [
      "100%|██████████| 466/466 [00:03<00:00, 120.72it/s]\n",
      "  2%|▏         | 11/466 [00:00<00:04, 100.62it/s]"
     ]
    },
    {
     "name": "stdout",
     "output_type": "stream",
     "text": [
      "epoch 495, loss 0.4397, acc 0.9482\n"
     ]
    },
    {
     "name": "stderr",
     "output_type": "stream",
     "text": [
      "100%|██████████| 466/466 [00:03<00:00, 117.48it/s]\n",
      "  3%|▎         | 12/466 [00:00<00:03, 118.96it/s]"
     ]
    },
    {
     "name": "stdout",
     "output_type": "stream",
     "text": [
      "epoch 496, loss 0.4382, acc 0.9484\n"
     ]
    },
    {
     "name": "stderr",
     "output_type": "stream",
     "text": [
      "100%|██████████| 466/466 [00:03<00:00, 118.49it/s]\n",
      "  2%|▏         | 10/466 [00:00<00:05, 91.16it/s]"
     ]
    },
    {
     "name": "stdout",
     "output_type": "stream",
     "text": [
      "epoch 497, loss 0.4353, acc 0.9493\n"
     ]
    },
    {
     "name": "stderr",
     "output_type": "stream",
     "text": [
      "100%|██████████| 466/466 [00:04<00:00, 113.31it/s]\n",
      "  3%|▎         | 12/466 [00:00<00:03, 116.99it/s]"
     ]
    },
    {
     "name": "stdout",
     "output_type": "stream",
     "text": [
      "epoch 498, loss 0.4886, acc 0.9313\n"
     ]
    },
    {
     "name": "stderr",
     "output_type": "stream",
     "text": [
      "100%|██████████| 466/466 [00:03<00:00, 116.91it/s]"
     ]
    },
    {
     "name": "stdout",
     "output_type": "stream",
     "text": [
      "epoch 499, loss 0.4671, acc 0.9380\n"
     ]
    },
    {
     "name": "stderr",
     "output_type": "stream",
     "text": [
      "\n"
     ]
    }
   ],
   "source": [
    "for epoch in range(num_epoch):\n",
    "    total_loss = torch.Tensor([0])\n",
    "    num = 0\n",
    "    train_acc = 0\n",
    "    for context, target in tqdm(data_iter):\n",
    "        num += 1\n",
    "        context[0] = torch.stack(context[0]).permute((1, 0))\n",
    "        context[1] = torch.stack(context[1]).permute((1, 0))\n",
    "        context = torch.stack(context)\n",
    "        target = torch.tensor(target)\n",
    "        if use_gpu:\n",
    "            context = context.to(device)\n",
    "            target = target.to(device)\n",
    "        model.zero_grad()\n",
    "        log_probs = model(context)\n",
    "        loss = loss_function(log_probs, target)\n",
    "        loss.backward()\n",
    "        optimizer.step()\n",
    "        total_loss += loss.item()\n",
    "        train_acc += eval_acc(log_probs, target)\n",
    "    print('epoch %d, loss %.4f, acc %.4f' %(epoch, total_loss / num, train_acc / num))"
   ]
  },
  {
   "cell_type": "code",
   "execution_count": 22,
   "metadata": {
    "ExecuteTime": {
     "end_time": "2018-08-28T09:57:53.842610Z",
     "start_time": "2018-08-28T09:57:53.833559Z"
    }
   },
   "outputs": [
    {
     "data": {
      "text/plain": [
       "'of'"
      ]
     },
     "execution_count": 22,
     "metadata": {},
     "output_type": "execute_result"
    }
   ],
   "source": [
    "idx_to_word[int(torch.argmax(model(test.to(device)), dim=1).cpu().data)]"
   ]
  }
 ],
 "metadata": {
  "kernelspec": {
   "display_name": "Python 3",
   "language": "python",
   "name": "python3"
  },
  "language_info": {
   "codemirror_mode": {
    "name": "ipython",
    "version": 3
   },
   "file_extension": ".py",
   "mimetype": "text/x-python",
   "name": "python",
   "nbconvert_exporter": "python",
   "pygments_lexer": "ipython3",
   "version": "3.6.6"
  }
 },
 "nbformat": 4,
 "nbformat_minor": 2
}
