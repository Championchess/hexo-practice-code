{
 "cells": [
  {
   "cell_type": "code",
   "execution_count": 1,
   "metadata": {
    "ExecuteTime": {
     "end_time": "2018-11-06T02:39:14.123750Z",
     "start_time": "2018-11-06T02:39:13.417103Z"
    }
   },
   "outputs": [],
   "source": [
    "import gensim\n",
    "from gensim.models import KeyedVectors\n",
    "import numpy as np\n",
    "import torch\n",
    "from torch import nn, autograd, optim\n",
    "import torch.nn.functional as F\n",
    "import time\n",
    "import math\n",
    "from tqdm import tqdm"
   ]
  },
  {
   "cell_type": "code",
   "execution_count": 2,
   "metadata": {
    "ExecuteTime": {
     "end_time": "2018-11-06T02:39:33.128344Z",
     "start_time": "2018-11-06T02:39:14.127104Z"
    }
   },
   "outputs": [],
   "source": [
    "fvec = KeyedVectors.load_word2vec_format('vec_100d.txt', binary=False)\n",
    "word_vec = fvec.vectors\n",
    "vocab = ['<PAD>', '<BOS>', '<EOS>', '<UNK>']\n",
    "vocab.extend(list(fvec.vocab.keys()))\n",
    "word_vec = np.concatenate((np.array([[0]*word_vec.shape[1]] * 4), word_vec))\n",
    "word_vec = torch.tensor(word_vec)"
   ]
  },
  {
   "cell_type": "code",
   "execution_count": 3,
   "metadata": {
    "ExecuteTime": {
     "end_time": "2018-11-06T02:39:33.212586Z",
     "start_time": "2018-11-06T02:39:33.131642Z"
    }
   },
   "outputs": [],
   "source": [
    "word_to_idx = {ch: i for i, ch in enumerate(vocab)}\n",
    "idx_to_word = {i: ch for i, ch in enumerate(vocab)}"
   ]
  },
  {
   "cell_type": "code",
   "execution_count": 4,
   "metadata": {
    "ExecuteTime": {
     "end_time": "2018-11-06T02:39:39.879609Z",
     "start_time": "2018-11-06T02:39:33.214327Z"
    }
   },
   "outputs": [],
   "source": [
    "essays = []\n",
    "topics = []\n",
    "with open('composition.txt', 'r') as f:\n",
    "    for line in f:\n",
    "        essay, topic = line.replace('\\n', '').split(' </d> ')\n",
    "        essays.append(essay.split(' '))\n",
    "        topics.append(topic.split(' '))"
   ]
  },
  {
   "cell_type": "code",
   "execution_count": 5,
   "metadata": {
    "ExecuteTime": {
     "end_time": "2018-11-06T02:39:39.984841Z",
     "start_time": "2018-11-06T02:39:39.881639Z"
    }
   },
   "outputs": [],
   "source": [
    "corpus_indice = list(map(lambda x: [word_to_idx[w] for w in x], essays[:8000]))\n",
    "topics_indice = list(map(lambda x: [word_to_idx[w] for w in x], topics[:8000]))"
   ]
  },
  {
   "cell_type": "code",
   "execution_count": 6,
   "metadata": {
    "ExecuteTime": {
     "end_time": "2018-11-06T02:39:39.995715Z",
     "start_time": "2018-11-06T02:39:39.987026Z"
    }
   },
   "outputs": [],
   "source": [
    "length = list(map(lambda x: len(x), corpus_indice))"
   ]
  },
  {
   "cell_type": "code",
   "execution_count": 7,
   "metadata": {
    "ExecuteTime": {
     "end_time": "2018-11-06T02:39:40.062969Z",
     "start_time": "2018-11-06T02:39:39.998049Z"
    }
   },
   "outputs": [],
   "source": [
    "def tav_data_iterator(corpus_indice, topics_indice, batch_size, num_steps):\n",
    "    epoch_size = len(corpus_indice) // batch_size\n",
    "    for i in range(epoch_size):\n",
    "        raw_data = corpus_indice[i*batch_size: (i+1)*batch_size]\n",
    "        key_words = topics_indice[i*batch_size: (i+1)*batch_size]\n",
    "        data = np.zeros((len(raw_data), num_steps+1), dtype=np.int64)\n",
    "        for i in range(batch_size):\n",
    "            doc = raw_data[i]\n",
    "            tmp = [1]\n",
    "            tmp.extend(doc)\n",
    "            tmp.extend([2])\n",
    "            tmp = np.array(tmp, dtype=np.int64)\n",
    "            _size = tmp.shape[0]\n",
    "            data[i][:_size] = tmp\n",
    "        key_words = np.array(key_words, dtype=np.int64)\n",
    "        x = data[:, 0:num_steps]\n",
    "        y = data[:, 1:]\n",
    "        mask = np.float32(x != 0)\n",
    "        x = torch.tensor(x)\n",
    "        y = torch.tensor(y)\n",
    "        mask = torch.tensor(mask)\n",
    "        key_words = torch.tensor(key_words)\n",
    "        yield(x, y, mask, key_words)"
   ]
  },
  {
   "cell_type": "code",
   "execution_count": 8,
   "metadata": {
    "ExecuteTime": {
     "end_time": "2018-11-06T02:39:40.129594Z",
     "start_time": "2018-11-06T02:39:40.065215Z"
    }
   },
   "outputs": [],
   "source": [
    "class TATLSTM(nn.Module):\n",
    "    def __init__(self, hidden_dim, embed_dim, num_layers, weight,\n",
    "                 num_labels, bidirectional, dropout=0.5, **kwargs):\n",
    "        super(TATLSTM, self).__init__(**kwargs)\n",
    "        self.hidden_dim = hidden_dim\n",
    "        self.embed_dim = embed_dim\n",
    "        self.num_layers = num_layers\n",
    "        self.num_labels = num_labels\n",
    "        self.bidirectional = bidirectional\n",
    "        if num_layers <= 1:\n",
    "            self.dropout = 0\n",
    "        else:\n",
    "            self.dropout = dropout\n",
    "        self.embedding = nn.Embedding.from_pretrained(weight)\n",
    "        self.embedding.weight.requires_grad = False\n",
    "        self.rnn = nn.GRU(input_size=self.embed_dim, hidden_size=self.hidden_dim,\n",
    "                          num_layers=self.num_layers, bidirectional=self.bidirectional,\n",
    "                          dropout=self.dropout)\n",
    "        if self.bidirectional:\n",
    "            self.decoder = nn.Linear(hidden_dim * 2 + self.embed_dim, self.num_labels)\n",
    "        else:\n",
    "            self.decoder = nn.Linear(hidden_dim + self.embed_dim, self.num_labels)\n",
    "        self.attn = nn.Linear(self.embed_dim * 5, self.embed_dim)\n",
    "        \n",
    "        \n",
    "    def forward(self, inputs, topics, hidden=None):\n",
    "        embeddings = self.embedding(inputs)\n",
    "        topics_embed = self.embedding(topics).float()\n",
    "        topics_attn = self.attn(topics_embed.reshape((topics_embed.shape[0], -1)))\n",
    "        topics_attn.unsqueeze_(-1)\n",
    "#         for i in range(embeddings.shape[0]):\n",
    "#             embeddings[i][0] = topics_embed[i]\n",
    "        states, hidden = self.rnn(embeddings.permute([1, 0, 2]).float(), hidden)\n",
    "        topics_attn = topics_attn.expand(topics_attn.shape[0], topics_attn.shape[1], states.shape[0])\n",
    "        topics_attn = topics_attn.permute([2, 0, 1])\n",
    "        states_with_topic = torch.cat([states, topics_attn], dim=2)\n",
    "        outputs = self.decoder(states_with_topic.reshape((-1, states_with_topic.shape[-1])))\n",
    "        return(outputs, hidden)\n",
    "    \n",
    "    def init_hidden(self, num_layers, batch_size, hidden_dim, **kwargs):\n",
    "        hidden = torch.zeros(num_layers, batch_size, hidden_dim)\n",
    "        return hidden"
   ]
  },
  {
   "cell_type": "code",
   "execution_count": 9,
   "metadata": {
    "ExecuteTime": {
     "end_time": "2018-11-06T02:39:40.218398Z",
     "start_time": "2018-11-06T02:39:40.131990Z"
    }
   },
   "outputs": [],
   "source": [
    "def predict_rnn(topics, num_chars, model, device, idx_to_word, word_to_idx):\n",
    "    output = [1]\n",
    "    topics = [word_to_idx[x] for x in topics]\n",
    "    topics = torch.tensor(topics)\n",
    "    topics = topics.reshape((1, topics.shape[0], -1))\n",
    "    hidden = torch.zeros(num_layers, 1, hidden_dim)\n",
    "    if use_gpu:\n",
    "        hidden = hidden.to(device)\n",
    "        topics = topics.to(device)\n",
    "    for t in range(num_chars):\n",
    "        X = torch.tensor(output[-1]).reshape((1, 1))\n",
    "#         X = torch.tensor(output).reshape((1, len(output)))\n",
    "        if use_gpu:\n",
    "            X = X.to(device)\n",
    "        pred, hidden = model(X, topics, hidden)\n",
    "        if pred.argmax(dim=1)[-1] == 2:\n",
    "            break\n",
    "        else:\n",
    "            output.append(int(pred.argmax(dim=1)))\n",
    "#             output.append(int(pred.argmax(dim=1)[-1]))\n",
    "    return(''.join([idx_to_word[i] for i in output[1:]]))"
   ]
  },
  {
   "cell_type": "code",
   "execution_count": 10,
   "metadata": {
    "ExecuteTime": {
     "end_time": "2018-11-06T02:39:40.310750Z",
     "start_time": "2018-11-06T02:39:40.221861Z"
    }
   },
   "outputs": [],
   "source": [
    "embedding_dim = 100\n",
    "hidden_dim = 256\n",
    "lr = 1e2\n",
    "momentum = 0.0\n",
    "num_epoch = 100\n",
    "use_gpu = True\n",
    "num_layers = 1\n",
    "bidirectional = False\n",
    "batch_size = 8\n",
    "device = torch.device('cuda:1')\n",
    "loss_function = nn.CrossEntropyLoss()"
   ]
  },
  {
   "cell_type": "code",
   "execution_count": 11,
   "metadata": {
    "ExecuteTime": {
     "end_time": "2018-11-06T02:39:43.651743Z",
     "start_time": "2018-11-06T02:39:40.313663Z"
    }
   },
   "outputs": [],
   "source": [
    "model = TATLSTM(hidden_dim=hidden_dim, embed_dim=embedding_dim, num_layers=num_layers,\n",
    "                num_labels=len(vocab), weight=word_vec, bidirectional=bidirectional)\n",
    "optimizer = optim.SGD(model.parameters(), lr=lr, momentum=momentum)\n",
    "if use_gpu:\n",
    "#     model = nn.DataParallel(model)\n",
    "    model.to(device)"
   ]
  },
  {
   "cell_type": "code",
   "execution_count": 12,
   "metadata": {
    "ExecuteTime": {
     "end_time": "2018-11-06T02:39:47.919896Z",
     "start_time": "2018-11-06T02:39:43.653749Z"
    },
    "scrolled": true
   },
   "outputs": [
    {
     "data": {
      "text/plain": [
       "'楚唐晓彤求子求子分肉智战子牙河楚唐晓彤求子求子分肉智战子牙河楚唐晓彤求子求子分肉智战子牙河楚唐晓彤求子求子分肉智战子牙河楚唐晓彤求子求子分肉智战子牙河楚唐晓彤求子求子分肉智战子牙河楚唐晓彤求子求子分肉智战子牙河楚唐晓彤求子求子分肉智战子牙河楚唐晓彤求子求子分肉智战子牙河楚唐晓彤求子求子分肉智战子牙河楚唐晓彤求子求子分肉智战子牙河楚唐晓彤求子求子分肉智战子牙河楚唐晓彤求子求子分肉智战子牙河楚唐晓彤求子求子分肉智战子牙河楚唐晓彤'"
      ]
     },
     "execution_count": 12,
     "metadata": {},
     "output_type": "execute_result"
    }
   ],
   "source": [
    "predict_rnn(['妈妈', '希望', '长大', '孩子', '母爱'], 100, model, device, idx_to_word, word_to_idx)"
   ]
  },
  {
   "cell_type": "code",
   "execution_count": 14,
   "metadata": {
    "ExecuteTime": {
     "end_time": "2018-11-06T04:24:19.821272Z",
     "start_time": "2018-11-06T02:40:11.172951Z"
    },
    "scrolled": true
   },
   "outputs": [
    {
     "name": "stderr",
     "output_type": "stream",
     "text": [
      "1000it [01:27, 11.47it/s]\n"
     ]
    },
    {
     "name": "stdout",
     "output_type": "stream",
     "text": [
      "epoch 1/100, loss 7.8779, norm 0.9309, time 87.067s, since 0h 1m 27s\n"
     ]
    },
    {
     "name": "stderr",
     "output_type": "stream",
     "text": [
      "2it [00:00, 11.41it/s]"
     ]
    },
    {
     "name": "stdout",
     "output_type": "stream",
     "text": [
      "妈妈，我，我，我，我，我，我，我，我，我，我，我，我，我，我，我，我，我，我，我，我，我，我，我，我，我，我，我，我，我，我，我，我，我，我，我，我，我，我，我，我，我，我，我，我，我，我，我，我，我，\n"
     ]
    },
    {
     "name": "stderr",
     "output_type": "stream",
     "text": [
      "1000it [01:27, 11.40it/s]\n",
      "1000it [01:27, 11.45it/s]\n",
      "1000it [01:27, 11.44it/s]\n",
      "1000it [01:27, 11.39it/s]\n",
      "1000it [01:27, 11.39it/s]\n",
      "1000it [01:27, 11.41it/s]\n",
      "1000it [01:27, 11.39it/s]\n",
      "1000it [01:27, 11.42it/s]\n",
      "1000it [01:27, 11.41it/s]\n",
      "1000it [01:27, 11.41it/s]\n"
     ]
    },
    {
     "name": "stdout",
     "output_type": "stream",
     "text": [
      "epoch 11/100, loss 4.8643, norm 0.9836, time 87.790s, since 0h 16m 5s\n"
     ]
    },
    {
     "name": "stderr",
     "output_type": "stream",
     "text": [
      "2it [00:00, 11.41it/s]"
     ]
    },
    {
     "name": "stdout",
     "output_type": "stream",
     "text": [
      "妈妈长大了，妈妈长大了，妈妈长大了，妈妈长大了，妈妈长大了，妈妈长大了，妈妈长大了，妈妈长大了，妈妈长大了，妈妈长大了，妈妈长大了，妈妈长大了，妈妈长大了，妈妈长大了，妈妈长大了，妈妈长大了，妈妈长大了，妈妈长大了，妈妈长大了，妈妈长大了，妈妈长大了，妈妈长大了，妈妈长大了，妈妈长大了，妈妈长大了，\n"
     ]
    },
    {
     "name": "stderr",
     "output_type": "stream",
     "text": [
      "1000it [01:27, 11.41it/s]\n",
      "1000it [01:27, 11.40it/s]\n",
      "1000it [01:27, 11.36it/s]\n",
      "1000it [01:27, 11.40it/s]\n",
      "1000it [01:27, 11.41it/s]\n",
      "1000it [01:27, 11.44it/s]\n",
      "1000it [01:27, 11.40it/s]\n",
      "1000it [01:27, 11.39it/s]\n",
      "1000it [01:27, 11.41it/s]\n",
      "1000it [01:27, 11.43it/s]\n",
      "0it [00:00, ?it/s]"
     ]
    },
    {
     "name": "stdout",
     "output_type": "stream",
     "text": [
      "epoch 21/100, loss 3.7387, norm 1.9177, time 87.828s, since 0h 30m 43s\n",
      "女儿的孩子。\n"
     ]
    },
    {
     "name": "stderr",
     "output_type": "stream",
     "text": [
      "1000it [01:27, 11.39it/s]\n",
      "1000it [01:27, 11.36it/s]\n",
      "1000it [01:27, 11.38it/s]\n",
      "1000it [01:27, 11.39it/s]\n",
      "1000it [01:27, 11.38it/s]\n",
      "1000it [01:27, 11.42it/s]\n",
      "1000it [01:27, 11.37it/s]\n",
      "1000it [01:27, 11.44it/s]\n",
      "1000it [01:27, 11.39it/s]\n",
      "1000it [01:27, 11.41it/s]\n",
      "0it [00:00, ?it/s]"
     ]
    },
    {
     "name": "stdout",
     "output_type": "stream",
     "text": [
      "epoch 31/100, loss 3.0952, norm 1.3256, time 87.847s, since 0h 45m 22s\n",
      "女儿的孩子，伴着妈妈成长。\n"
     ]
    },
    {
     "name": "stderr",
     "output_type": "stream",
     "text": [
      "1000it [01:27, 11.38it/s]\n",
      "1000it [01:27, 11.41it/s]\n",
      "1000it [01:27, 11.38it/s]\n",
      "1000it [01:27, 11.36it/s]\n",
      "1000it [01:27, 11.41it/s]\n",
      "1000it [01:27, 11.36it/s]\n",
      "1000it [01:27, 11.40it/s]\n",
      "1000it [01:27, 11.41it/s]\n",
      "1000it [01:27, 11.41it/s]\n",
      "1000it [01:27, 11.40it/s]\n",
      "2it [00:00, 11.16it/s]"
     ]
    },
    {
     "name": "stdout",
     "output_type": "stream",
     "text": [
      "epoch 41/100, loss 2.8016, norm 1.4361, time 87.807s, since 1h 0m 0s\n",
      "。\n"
     ]
    },
    {
     "name": "stderr",
     "output_type": "stream",
     "text": [
      "1000it [01:27, 11.40it/s]\n",
      "1000it [01:27, 11.43it/s]\n",
      "1000it [01:27, 11.42it/s]\n",
      "1000it [01:27, 11.42it/s]\n",
      "1000it [01:27, 11.41it/s]\n",
      "1000it [01:27, 11.37it/s]\n",
      "1000it [01:27, 11.42it/s]\n",
      "1000it [01:27, 11.42it/s]\n",
      "1000it [01:27, 11.35it/s]\n",
      "1000it [01:27, 11.39it/s]\n",
      "2it [00:00, 11.23it/s]"
     ]
    },
    {
     "name": "stdout",
     "output_type": "stream",
     "text": [
      "epoch 51/100, loss 2.6531, norm 1.8964, time 87.787s, since 1h 14m 38s\n",
      "。\n"
     ]
    },
    {
     "name": "stderr",
     "output_type": "stream",
     "text": [
      "1000it [01:27, 11.34it/s]\n",
      "1000it [01:27, 11.38it/s]\n",
      "1000it [01:27, 11.39it/s]\n",
      "1000it [01:27, 11.35it/s]\n",
      "1000it [01:27, 11.33it/s]\n",
      "1000it [01:27, 11.37it/s]\n",
      "1000it [01:27, 11.38it/s]\n",
      "1000it [01:27, 11.39it/s]\n",
      "1000it [01:27, 11.40it/s]\n",
      "1000it [01:27, 11.41it/s]\n",
      "2it [00:00, 11.31it/s]"
     ]
    },
    {
     "name": "stdout",
     "output_type": "stream",
     "text": [
      "epoch 61/100, loss 2.5722, norm 1.4983, time 87.836s, since 1h 29m 16s\n",
      "。\n"
     ]
    },
    {
     "name": "stderr",
     "output_type": "stream",
     "text": [
      "1000it [01:27, 11.41it/s]\n",
      "1000it [01:27, 11.42it/s]\n",
      "1000it [01:27, 11.33it/s]\n",
      "1000it [01:27, 11.40it/s]\n",
      "1000it [01:27, 11.36it/s]\n",
      "1000it [01:27, 11.40it/s]\n",
      "1000it [01:27, 11.35it/s]\n",
      "1000it [01:27, 11.40it/s]\n",
      "1000it [01:27, 11.41it/s]\n",
      "1000it [01:27, 11.38it/s]\n",
      "2it [00:00, 11.19it/s]"
     ]
    },
    {
     "name": "stdout",
     "output_type": "stream",
     "text": [
      "epoch 71/100, loss 2.5280, norm 1.5241, time 87.761s, since 1h 43m 54s\n",
      "。\n"
     ]
    },
    {
     "name": "stderr",
     "output_type": "stream",
     "text": [
      "160it [00:14, 11.36it/s]"
     ]
    },
    {
     "ename": "KeyboardInterrupt",
     "evalue": "",
     "output_type": "error",
     "traceback": [
      "\u001b[0;31m---------------------------------------------------------------------------\u001b[0m",
      "\u001b[0;31mKeyboardInterrupt\u001b[0m                         Traceback (most recent call last)",
      "\u001b[0;32m<ipython-input-14-5f1ba0b181fd>\u001b[0m in \u001b[0;36m<module>\u001b[0;34m\u001b[0m\n\u001b[1;32m     23\u001b[0m         \u001b[0ml\u001b[0m \u001b[0;34m=\u001b[0m \u001b[0mF\u001b[0m\u001b[0;34m.\u001b[0m\u001b[0mcross_entropy\u001b[0m\u001b[0;34m(\u001b[0m\u001b[0moutput\u001b[0m\u001b[0;34m,\u001b[0m \u001b[0mY\u001b[0m\u001b[0;34m.\u001b[0m\u001b[0mt\u001b[0m\u001b[0;34m(\u001b[0m\u001b[0;34m)\u001b[0m\u001b[0;34m.\u001b[0m\u001b[0mreshape\u001b[0m\u001b[0;34m(\u001b[0m\u001b[0;34m(\u001b[0m\u001b[0;34m-\u001b[0m\u001b[0;36m1\u001b[0m\u001b[0;34m,\u001b[0m\u001b[0;34m)\u001b[0m\u001b[0;34m)\u001b[0m\u001b[0;34m,\u001b[0m \u001b[0mweight\u001b[0m\u001b[0;34m)\u001b[0m\u001b[0;34m\u001b[0m\u001b[0m\n\u001b[1;32m     24\u001b[0m         \u001b[0ml\u001b[0m\u001b[0;34m.\u001b[0m\u001b[0mbackward\u001b[0m\u001b[0;34m(\u001b[0m\u001b[0;34m)\u001b[0m\u001b[0;34m\u001b[0m\u001b[0m\n\u001b[0;32m---> 25\u001b[0;31m         \u001b[0mnorm\u001b[0m \u001b[0;34m=\u001b[0m \u001b[0mnn\u001b[0m\u001b[0;34m.\u001b[0m\u001b[0mutils\u001b[0m\u001b[0;34m.\u001b[0m\u001b[0mclip_grad_norm_\u001b[0m\u001b[0;34m(\u001b[0m\u001b[0mmodel\u001b[0m\u001b[0;34m.\u001b[0m\u001b[0mparameters\u001b[0m\u001b[0;34m(\u001b[0m\u001b[0;34m)\u001b[0m\u001b[0;34m,\u001b[0m \u001b[0;36m1e-2\u001b[0m\u001b[0;34m)\u001b[0m\u001b[0;34m\u001b[0m\u001b[0m\n\u001b[0m\u001b[1;32m     26\u001b[0m         \u001b[0moptimizer\u001b[0m\u001b[0;34m.\u001b[0m\u001b[0mstep\u001b[0m\u001b[0;34m(\u001b[0m\u001b[0;34m)\u001b[0m\u001b[0;34m\u001b[0m\u001b[0m\n\u001b[1;32m     27\u001b[0m         \u001b[0mtotal_loss\u001b[0m \u001b[0;34m+=\u001b[0m \u001b[0ml\u001b[0m\u001b[0;34m.\u001b[0m\u001b[0mitem\u001b[0m\u001b[0;34m(\u001b[0m\u001b[0;34m)\u001b[0m\u001b[0;34m\u001b[0m\u001b[0m\n",
      "\u001b[0;32m~/anaconda3/lib/python3.6/site-packages/torch/nn/utils/clip_grad.py\u001b[0m in \u001b[0;36mclip_grad_norm_\u001b[0;34m(parameters, max_norm, norm_type)\u001b[0m\n\u001b[1;32m     30\u001b[0m         \u001b[0mtotal_norm\u001b[0m \u001b[0;34m=\u001b[0m \u001b[0;36m0\u001b[0m\u001b[0;34m\u001b[0m\u001b[0m\n\u001b[1;32m     31\u001b[0m         \u001b[0;32mfor\u001b[0m \u001b[0mp\u001b[0m \u001b[0;32min\u001b[0m \u001b[0mparameters\u001b[0m\u001b[0;34m:\u001b[0m\u001b[0;34m\u001b[0m\u001b[0m\n\u001b[0;32m---> 32\u001b[0;31m             \u001b[0mparam_norm\u001b[0m \u001b[0;34m=\u001b[0m \u001b[0mp\u001b[0m\u001b[0;34m.\u001b[0m\u001b[0mgrad\u001b[0m\u001b[0;34m.\u001b[0m\u001b[0mdata\u001b[0m\u001b[0;34m.\u001b[0m\u001b[0mnorm\u001b[0m\u001b[0;34m(\u001b[0m\u001b[0mnorm_type\u001b[0m\u001b[0;34m)\u001b[0m\u001b[0;34m\u001b[0m\u001b[0m\n\u001b[0m\u001b[1;32m     33\u001b[0m             \u001b[0mtotal_norm\u001b[0m \u001b[0;34m+=\u001b[0m \u001b[0mparam_norm\u001b[0m\u001b[0;34m.\u001b[0m\u001b[0mitem\u001b[0m\u001b[0;34m(\u001b[0m\u001b[0;34m)\u001b[0m \u001b[0;34m**\u001b[0m \u001b[0mnorm_type\u001b[0m\u001b[0;34m\u001b[0m\u001b[0m\n\u001b[1;32m     34\u001b[0m         \u001b[0mtotal_norm\u001b[0m \u001b[0;34m=\u001b[0m \u001b[0mtotal_norm\u001b[0m \u001b[0;34m**\u001b[0m \u001b[0;34m(\u001b[0m\u001b[0;36m1.\u001b[0m \u001b[0;34m/\u001b[0m \u001b[0mnorm_type\u001b[0m\u001b[0;34m)\u001b[0m\u001b[0;34m\u001b[0m\u001b[0m\n",
      "\u001b[0;31mKeyboardInterrupt\u001b[0m: "
     ]
    }
   ],
   "source": [
    "since = time.time()\n",
    "for epoch in range(num_epoch):\n",
    "    start = time.time()\n",
    "    num, total_loss = 0, 0\n",
    "#     if epoch == 5000:\n",
    "#         optimizer.param_groups[0]['lr'] = lr * 0.1\n",
    "    data = tav_data_iterator(corpus_indice, topics_indice, batch_size, max(length)+1)\n",
    "    hidden = model.init_hidden(num_layers, batch_size, hidden_dim)\n",
    "    weight = torch.ones(len(vocab))\n",
    "    weight[0] = 0\n",
    "    for X, Y, mask, topics in tqdm(data):\n",
    "        num += 1\n",
    "        hidden.detach_()\n",
    "        if use_gpu:\n",
    "            X = X.to(device)\n",
    "            Y = Y.to(device)\n",
    "            mask = mask.to(device)\n",
    "            topics = topics.to(device)\n",
    "            hidden = hidden.to(device)\n",
    "            weight = weight.to(device)\n",
    "        optimizer.zero_grad()\n",
    "        output, hidden = model(X, topics, hidden)\n",
    "        l = F.cross_entropy(output, Y.t().reshape((-1,)), weight)\n",
    "        l.backward()\n",
    "        norm = nn.utils.clip_grad_norm_(model.parameters(), 1e-2)\n",
    "        optimizer.step()\n",
    "        total_loss += l.item()\n",
    "    end = time.time()\n",
    "    s = end - since\n",
    "    h = math.floor(s / 3600)\n",
    "    m = s - h * 3600\n",
    "    m = math.floor(m / 60)\n",
    "    s -= (m * 60 + h * 3600)\n",
    "    if(epoch % 10 == 0) or (epoch == (num_epoch - 1)):\n",
    "        print('epoch %d/%d, loss %.4f, norm %.4f, time %.3fs, since %dh %dm %ds'\n",
    "              %(epoch+1, num_epoch, total_loss / num, norm, end-start, h, m, s))\n",
    "        print(predict_rnn(['妈妈', '希望', '长大', '孩子', '母爱'], 100, model, device, idx_to_word, word_to_idx))"
   ]
  }
 ],
 "metadata": {
  "kernelspec": {
   "display_name": "Python 3",
   "language": "python",
   "name": "python3"
  },
  "language_info": {
   "codemirror_mode": {
    "name": "ipython",
    "version": 3
   },
   "file_extension": ".py",
   "mimetype": "text/x-python",
   "name": "python",
   "nbconvert_exporter": "python",
   "pygments_lexer": "ipython3",
   "version": "3.6.6"
  }
 },
 "nbformat": 4,
 "nbformat_minor": 2
}
