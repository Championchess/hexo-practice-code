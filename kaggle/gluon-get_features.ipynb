{
 "cells": [
  {
   "cell_type": "code",
   "execution_count": 1,
   "metadata": {
    "ExecuteTime": {
     "end_time": "2018-01-26T08:40:55.691987Z",
     "start_time": "2018-01-26T08:40:54.431171Z"
    }
   },
   "outputs": [],
   "source": [
    "%matplotlib inline\n",
    "import os\n",
    "import shutil\n",
    "import sys\n",
    "import numpy as np\n",
    "import pandas as pd\n",
    "import mxnet as mx\n",
    "from mxnet import gluon\n",
    "from mxnet import image\n",
    "from mxnet import nd\n",
    "from mxnet import init\n",
    "from mxnet import autograd\n",
    "from mxnet.gluon.data import vision\n",
    "from mxnet.gluon import nn\n",
    "from mxnet.gluon.model_zoo import vision as models\n",
    "from PIL import Image\n",
    "from time import time\n",
    "from tqdm import tqdm\n",
    "import h5py"
   ]
  },
  {
   "cell_type": "code",
   "execution_count": 2,
   "metadata": {
    "ExecuteTime": {
     "end_time": "2018-01-26T08:40:55.712868Z",
     "start_time": "2018-01-26T08:40:55.695552Z"
    }
   },
   "outputs": [],
   "source": [
    "def get_features(net, data):\n",
    "    features = []\n",
    "    labels = []\n",
    "\n",
    "    for X, y in tqdm(data):\n",
    "        feature = net.features(X.as_in_context(ctx))\n",
    "        features.append(feature.asnumpy())\n",
    "        labels.append(y.asnumpy())\n",
    "    \n",
    "    features = np.concatenate(features, axis=0)\n",
    "    labels = np.concatenate(labels, axis=0)\n",
    "    return features, labels"
   ]
  },
  {
   "cell_type": "code",
   "execution_count": 3,
   "metadata": {
    "ExecuteTime": {
     "end_time": "2018-01-24T06:43:48.552158Z",
     "start_time": "2018-01-24T06:43:48.433746Z"
    }
   },
   "outputs": [],
   "source": [
    "def mkdir_if_not_exist(path):\n",
    "    if not os.path.exists(os.path.join(*path)):\n",
    "        os.makedirs(os.path.join(*path))\n",
    "\n",
    "\n",
    "def reorg_data(label_file, train_dir, test_dir, input_dir, valid_ratio):\n",
    "    labels = pd.read_csv(label_file)\n",
    "    labels = labels.sort_values('id')\n",
    "    files = os.listdir(train_dir)\n",
    "    files.sort()\n",
    "    count = 0\n",
    "    idx = np.arange(len(files))\n",
    "    np.random.shuffle(idx)\n",
    "    shutil.rmtree(os.path.join(input_dir, 'train'))\n",
    "#     shutil.rmtree(os.path.join(input_dir, 'valid'))\n",
    "    for i in idx:\n",
    "        if count < valid_ratio * len(files):\n",
    "            mkdir_if_not_exist([input_dir, 'train', labels['breed'][i]])\n",
    "            shutil.copy(os.path.join(train_dir, files[i]), os.path.join(input_dir, 'train', labels['breed'][i]))\n",
    "        else:\n",
    "            mkdir_if_not_exist([input_dir, 'valid', labels['breed'][i]])\n",
    "            shutil.copy(os.path.join(train_dir, files[i]), os.path.join(input_dir, 'valid', labels['breed'][i]))\n",
    "        count += 1\n",
    "    for file in os.listdir(test_dir):\n",
    "        mkdir_if_not_exist([input_dir, 'test', 'unknown'])\n",
    "        shutil.copy(os.path.join(test_dir, file), os.path.join(input_dir, 'test', 'unknown'))"
   ]
  },
  {
   "cell_type": "code",
   "execution_count": 4,
   "metadata": {
    "ExecuteTime": {
     "end_time": "2018-01-24T06:43:48.668708Z",
     "start_time": "2018-01-24T06:43:48.554711Z"
    }
   },
   "outputs": [],
   "source": [
    "label_file = '/home/samael/kaggle/dogs/labels.csv'\n",
    "train_dir = '/home/samael/kaggle/dogs/train/'\n",
    "test_dir = '/home/samael/kaggle/dogs/test/'\n",
    "input_dir = '/home/samael/kaggle/dogs/data2/'"
   ]
  },
  {
   "cell_type": "code",
   "execution_count": 5,
   "metadata": {
    "ExecuteTime": {
     "end_time": "2018-01-24T06:45:09.255414Z",
     "start_time": "2018-01-24T06:43:48.671209Z"
    }
   },
   "outputs": [],
   "source": [
    "reorg_data(label_file, train_dir, test_dir, input_dir, valid_ratio=1)"
   ]
  },
  {
   "cell_type": "code",
   "execution_count": 6,
   "metadata": {
    "ExecuteTime": {
     "end_time": "2018-01-24T06:45:41.555635Z",
     "start_time": "2018-01-24T06:45:09.260632Z"
    }
   },
   "outputs": [
    {
     "name": "stderr",
     "output_type": "stream",
     "text": [
      "100%|██████████| 120/120 [00:32<00:00,  3.72it/s]\n"
     ]
    }
   ],
   "source": [
    "import re\n",
    "extra_dir = '/home/samael/kaggle/dogs/Images'\n",
    "for i in tqdm(os.listdir(extra_dir), total=len(os.listdir(extra_dir))):\n",
    "    directory = re.sub('n[0-9]+-', '', i)\n",
    "    directory = directory.lower()\n",
    "    for file in os.listdir(os.path.join(extra_dir, i)):\n",
    "        shutil.copy(os.path.join(extra_dir, i, file), os.path.join(input_dir, 'train', directory))"
   ]
  },
  {
   "cell_type": "code",
   "execution_count": 7,
   "metadata": {
    "ExecuteTime": {
     "end_time": "2018-01-24T06:45:41.582830Z",
     "start_time": "2018-01-24T06:45:41.559299Z"
    }
   },
   "outputs": [],
   "source": [
    "preprocessing = [\n",
    "    image.ForceResizeAug((224,224)),\n",
    "    image.ColorNormalizeAug(mean=nd.array([0.485, 0.456, 0.406]), std=nd.array([0.229, 0.224, 0.225]))\n",
    "]\n",
    "\n",
    "def transform(data, label):\n",
    "    data = data.astype('float32') / 255\n",
    "    for pre in preprocessing:\n",
    "        data = pre(data)\n",
    "    \n",
    "    data = nd.transpose(data, (2,0,1))\n",
    "    return data, nd.array([label]).asscalar().astype('float32')"
   ]
  },
  {
   "cell_type": "code",
   "execution_count": 8,
   "metadata": {
    "ExecuteTime": {
     "end_time": "2018-01-24T07:05:02.106437Z",
     "start_time": "2018-01-24T06:45:41.586054Z"
    }
   },
   "outputs": [
    {
     "name": "stderr",
     "output_type": "stream",
     "text": [
      "100%|██████████| 482/482 [05:08<00:00,  1.56it/s]\n",
      "100%|██████████| 482/482 [05:45<00:00,  1.39it/s]\n",
      "100%|██████████| 482/482 [08:14<00:00,  1.03s/it]\n"
     ]
    }
   ],
   "source": [
    "ctx = mx.gpu(0)\n",
    "preprocessing[0] = image.ForceResizeAug((224,224))\n",
    "imgs = vision.ImageFolderDataset('/home/samael/kaggle/dogs/data2/train', transform=transform)\n",
    "data = gluon.data.DataLoader(imgs, 64)\n",
    "\n",
    "features_vgg, labels = get_features(models.vgg16_bn(pretrained=True, ctx=ctx), data)\n",
    "features_resnet, _ = get_features(models.resnet152_v1(pretrained=True, ctx=ctx), data)\n",
    "features_densenet, _ = get_features(models.densenet201(pretrained=True, ctx=ctx), data)"
   ]
  },
  {
   "cell_type": "code",
   "execution_count": 9,
   "metadata": {
    "ExecuteTime": {
     "end_time": "2018-01-24T07:10:07.786727Z",
     "start_time": "2018-01-24T07:05:02.109962Z"
    }
   },
   "outputs": [
    {
     "name": "stderr",
     "output_type": "stream",
     "text": [
      "100%|██████████| 482/482 [05:04<00:00,  1.58it/s]\n"
     ]
    }
   ],
   "source": [
    "preprocessing[0] = image.ForceResizeAug((299,299))\n",
    "imgs_299 = vision.ImageFolderDataset('/home/samael/kaggle/dogs/data2/train', transform=transform)\n",
    "data_299 = gluon.data.DataLoader(imgs_299, 64)\n",
    "\n",
    "features_inception, _ = get_features(models.inception_v3(pretrained=True, ctx=ctx), data)"
   ]
  },
  {
   "cell_type": "code",
   "execution_count": 10,
   "metadata": {
    "ExecuteTime": {
     "end_time": "2018-01-24T07:10:16.596851Z",
     "start_time": "2018-01-24T07:10:07.789318Z"
    }
   },
   "outputs": [],
   "source": [
    "with h5py.File('features.h5', 'w') as f:\n",
    "    f['vgg'] = features_vgg\n",
    "    f['resnet'] = features_resnet\n",
    "    f['densenet'] = features_densenet\n",
    "    f['inception'] = features_inception\n",
    "    f['labels'] = labels"
   ]
  },
  {
   "cell_type": "code",
   "execution_count": 11,
   "metadata": {
    "ExecuteTime": {
     "end_time": "2018-01-24T07:16:50.901938Z",
     "start_time": "2018-01-24T07:10:16.599951Z"
    }
   },
   "outputs": [
    {
     "name": "stderr",
     "output_type": "stream",
     "text": [
      "100%|██████████| 162/162 [01:48<00:00,  1.49it/s]\n",
      "100%|██████████| 162/162 [02:02<00:00,  1.32it/s]\n",
      "100%|██████████| 162/162 [02:39<00:00,  1.02it/s]\n"
     ]
    }
   ],
   "source": [
    "preprocessing[0] = image.ForceResizeAug((224,224))\n",
    "imgs = vision.ImageFolderDataset('/home/samael/kaggle/dogs/data2/test', transform=transform)\n",
    "data = gluon.data.DataLoader(imgs, 64)\n",
    "\n",
    "features_vgg, _ = get_features(models.vgg16_bn(pretrained=True, ctx=ctx), data)\n",
    "features_resnet, _ = get_features(models.resnet152_v1(pretrained=True, ctx=ctx), data)\n",
    "features_densenet, _ = get_features(models.densenet201(pretrained=True, ctx=ctx), data)"
   ]
  },
  {
   "cell_type": "code",
   "execution_count": 12,
   "metadata": {
    "ExecuteTime": {
     "end_time": "2018-01-24T07:18:32.180721Z",
     "start_time": "2018-01-24T07:16:50.905936Z"
    }
   },
   "outputs": [
    {
     "name": "stderr",
     "output_type": "stream",
     "text": [
      "100%|██████████| 162/162 [01:40<00:00,  1.61it/s]\n"
     ]
    }
   ],
   "source": [
    "preprocessing[0] = image.ForceResizeAug((299,299))\n",
    "imgs_299 = vision.ImageFolderDataset('/home/samael/kaggle/dogs/data2/test', transform=transform)\n",
    "data_299 = gluon.data.DataLoader(imgs_299, 64)\n",
    "\n",
    "features_inception, _ = get_features(models.inception_v3(pretrained=True, ctx=ctx), data)"
   ]
  },
  {
   "cell_type": "code",
   "execution_count": 13,
   "metadata": {
    "ExecuteTime": {
     "end_time": "2018-01-24T07:18:34.632104Z",
     "start_time": "2018-01-24T07:18:32.183362Z"
    }
   },
   "outputs": [],
   "source": [
    "with h5py.File('features_test.h5', 'w') as f:\n",
    "    f['vgg'] = features_vgg\n",
    "    f['resnet'] = features_resnet\n",
    "    f['densenet'] = features_densenet\n",
    "    f['inception'] = features_inception"
   ]
  }
 ],
 "metadata": {
  "kernelspec": {
   "display_name": "Python 3",
   "language": "python",
   "name": "python3"
  },
  "language_info": {
   "codemirror_mode": {
    "name": "ipython",
    "version": 3
   },
   "file_extension": ".py",
   "mimetype": "text/x-python",
   "name": "python",
   "nbconvert_exporter": "python",
   "pygments_lexer": "ipython3",
   "version": "3.6.4"
  }
 },
 "nbformat": 4,
 "nbformat_minor": 2
}
