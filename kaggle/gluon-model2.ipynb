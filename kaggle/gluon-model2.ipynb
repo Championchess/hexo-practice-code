{
 "cells": [
  {
   "cell_type": "code",
   "execution_count": 1,
   "metadata": {
    "ExecuteTime": {
     "end_time": "2018-01-29T02:11:05.494654Z",
     "start_time": "2018-01-29T02:11:04.212776Z"
    }
   },
   "outputs": [],
   "source": [
    "%matplotlib inline\n",
    "import os\n",
    "import shutil\n",
    "import sys\n",
    "import numpy as np\n",
    "import pandas as pd\n",
    "import mxnet as mx\n",
    "from mxnet import gluon\n",
    "from mxnet import image\n",
    "from mxnet import nd\n",
    "from mxnet import init\n",
    "from mxnet import autograd\n",
    "from mxnet.gluon.data import vision\n",
    "from mxnet.gluon import nn\n",
    "from mxnet.gluon.model_zoo import vision as models\n",
    "from PIL import Image\n",
    "from time import time\n",
    "from tqdm import tqdm\n",
    "import h5py\n",
    "from sklearn.model_selection import train_test_split"
   ]
  },
  {
   "cell_type": "code",
   "execution_count": 2,
   "metadata": {
    "ExecuteTime": {
     "end_time": "2018-01-29T02:11:05.504837Z",
     "start_time": "2018-01-29T02:11:05.496755Z"
    }
   },
   "outputs": [],
   "source": [
    "def get_features(net, data):\n",
    "    features = []\n",
    "    labels = []\n",
    "\n",
    "    for X, y in tqdm(data):\n",
    "        feature = net.features(X.as_in_context(ctx))\n",
    "        features.append(feature.asnumpy())\n",
    "        labels.append(y.asnumpy())\n",
    "    \n",
    "    features = np.concatenate(features, axis=0)\n",
    "    labels = np.concatenate(labels, axis=0)\n",
    "    return features, labels"
   ]
  },
  {
   "cell_type": "code",
   "execution_count": 3,
   "metadata": {
    "ExecuteTime": {
     "end_time": "2018-01-29T02:11:19.829647Z",
     "start_time": "2018-01-29T02:11:05.506318Z"
    }
   },
   "outputs": [
    {
     "name": "stderr",
     "output_type": "stream",
     "text": [
      "100%|██████████| 120/120 [00:14<00:00,  8.46it/s]\n"
     ]
    }
   ],
   "source": [
    "for doc in tqdm(os.listdir('/home/samael/kaggle/dogs/data2/train')):\n",
    "    if not os.path.exists(os.path.join('/home/samael/kaggle/dogs/data3', doc)):\n",
    "        os.makedirs(os.path.join('/home/samael/kaggle/dogs/data3', doc))\n",
    "    for img in os.listdir(os.path.join('/home/samael/kaggle/dogs/data2/train', doc)):\n",
    "        shutil.copy(os.path.join('/home/samael/kaggle/dogs/data2/train', doc, img), os.path.join('/home/samael/kaggle/dogs/data3', doc))"
   ]
  },
  {
   "cell_type": "code",
   "execution_count": 4,
   "metadata": {
    "ExecuteTime": {
     "end_time": "2018-01-29T02:11:24.287683Z",
     "start_time": "2018-01-29T02:11:19.832092Z"
    }
   },
   "outputs": [
    {
     "name": "stderr",
     "output_type": "stream",
     "text": [
      "100%|██████████| 120/120 [00:04<00:00, 27.00it/s]\n"
     ]
    }
   ],
   "source": [
    "for doc in tqdm(os.listdir('/home/samael/kaggle/dogs/data2/train2')):\n",
    "    if not os.path.exists(os.path.join('/home/samael/kaggle/dogs/data3', doc)):\n",
    "        os.makedirs(os.path.join('/home/samael/kaggle/dogs/data3', doc))\n",
    "    for img in os.listdir(os.path.join('/home/samael/kaggle/dogs/data2/train2', doc)):\n",
    "        shutil.copy(os.path.join('/home/samael/kaggle/dogs/data2/train2', doc, img), os.path.join('/home/samael/kaggle/dogs/data3', doc))"
   ]
  },
  {
   "cell_type": "code",
   "execution_count": 5,
   "metadata": {
    "ExecuteTime": {
     "end_time": "2018-01-29T02:11:24.306833Z",
     "start_time": "2018-01-29T02:11:24.290257Z"
    }
   },
   "outputs": [],
   "source": [
    "preprocessing = [\n",
    "    image.ForceResizeAug((224,224)),\n",
    "    image.ColorNormalizeAug(mean=nd.array([0.485, 0.456, 0.406]), std=nd.array([0.229, 0.224, 0.225]))\n",
    "]\n",
    "\n",
    "def transform(data, label):\n",
    "    data = data.astype('float32') / 255\n",
    "    for pre in preprocessing:\n",
    "        data = pre(data)\n",
    "    \n",
    "    data = nd.transpose(data, (2,0,1))\n",
    "    return data, nd.array([label]).asscalar().astype('float32')"
   ]
  },
  {
   "cell_type": "code",
   "execution_count": 6,
   "metadata": {
    "ExecuteTime": {
     "end_time": "2018-01-29T02:18:15.678169Z",
     "start_time": "2018-01-29T02:11:24.309767Z"
    }
   },
   "outputs": [
    {
     "name": "stderr",
     "output_type": "stream",
     "text": [
      "100%|██████████| 162/162 [01:49<00:00,  1.48it/s]\n",
      "100%|██████████| 162/162 [02:02<00:00,  1.32it/s]\n",
      "100%|██████████| 162/162 [02:54<00:00,  1.08s/it]\n"
     ]
    }
   ],
   "source": [
    "ctx = mx.gpu(0)\n",
    "preprocessing[0] = image.ForceResizeAug((224,224))\n",
    "imgs = vision.ImageFolderDataset('/home/samael/kaggle/dogs/data2/train2', transform=transform)\n",
    "data = gluon.data.DataLoader(imgs, 64)\n",
    "\n",
    "features_vgg_train, labels_train = get_features(models.vgg16_bn(pretrained=True, ctx=ctx), data)\n",
    "features_resnet_train, _ = get_features(models.resnet152_v1(pretrained=True, ctx=ctx), data)\n",
    "features_densenet_train, _ = get_features(models.densenet201(pretrained=True, ctx=ctx), data)"
   ]
  },
  {
   "cell_type": "code",
   "execution_count": 7,
   "metadata": {
    "ExecuteTime": {
     "end_time": "2018-01-29T02:20:01.752775Z",
     "start_time": "2018-01-29T02:18:15.681737Z"
    }
   },
   "outputs": [
    {
     "name": "stderr",
     "output_type": "stream",
     "text": [
      "100%|██████████| 162/162 [01:45<00:00,  1.53it/s]\n"
     ]
    }
   ],
   "source": [
    "preprocessing[0] = image.ForceResizeAug((299,299))\n",
    "imgs_299 = vision.ImageFolderDataset('/home/samael/kaggle/dogs/data2/train2', transform=transform)\n",
    "data_299 = gluon.data.DataLoader(imgs_299, 64)\n",
    "\n",
    "features_inception_train, _ = get_features(models.inception_v3(pretrained=True, ctx=ctx), data)"
   ]
  },
  {
   "cell_type": "code",
   "execution_count": 8,
   "metadata": {
    "ExecuteTime": {
     "end_time": "2018-01-29T02:20:01.773456Z",
     "start_time": "2018-01-29T02:20:01.755744Z"
    }
   },
   "outputs": [],
   "source": [
    "def accuracy(output, labels):\n",
    "    return nd.mean(nd.argmax(output, axis=1) == labels).asscalar()\n",
    "\n",
    "def evaluate(net, data_iter):\n",
    "    loss, acc, n = 0., 0., 0.\n",
    "    steps = len(data_iter)\n",
    "    for data, label in data_iter:\n",
    "        data, label = data.as_in_context(ctx), label.as_in_context(ctx)\n",
    "        output = net(data)\n",
    "        acc += accuracy(output, label)\n",
    "        loss += nd.mean(softmax_cross_entropy(output, label)).asscalar()\n",
    "    return loss/steps, acc/steps"
   ]
  },
  {
   "cell_type": "code",
   "execution_count": 9,
   "metadata": {
    "ExecuteTime": {
     "end_time": "2018-01-29T02:20:02.311382Z",
     "start_time": "2018-01-29T02:20:01.776085Z"
    }
   },
   "outputs": [],
   "source": [
    "with h5py.File('features_test.h5', 'r') as f:\n",
    "    features_vgg_test = np.array(f['vgg'])\n",
    "    features_resnet_test = np.array(f['resnet'])\n",
    "    features_densenet_test = np.array(f['densenet'])\n",
    "    features_inception_test = np.array(f['inception'])"
   ]
  },
  {
   "cell_type": "code",
   "execution_count": 10,
   "metadata": {
    "ExecuteTime": {
     "end_time": "2018-01-29T02:20:02.437384Z",
     "start_time": "2018-01-29T02:20:02.313580Z"
    }
   },
   "outputs": [],
   "source": [
    "features_resnet_train = features_resnet_train.reshape(features_resnet_train.shape[:2])\n",
    "features_inception_train = features_inception_train.reshape(features_inception_train.shape[:2])\n",
    "\n",
    "features_train = np.concatenate([features_resnet_train, features_densenet_train, features_inception_train], axis=-1)"
   ]
  },
  {
   "cell_type": "code",
   "execution_count": 11,
   "metadata": {
    "ExecuteTime": {
     "end_time": "2018-01-29T02:20:02.657833Z",
     "start_time": "2018-01-29T02:20:02.439395Z"
    }
   },
   "outputs": [],
   "source": [
    "X_train, X_val, y_train, y_val = train_test_split(features_train, labels_train, test_size=0.1)\n",
    "\n",
    "# dataset_train = gluon.data.ArrayDataset(nd.array(X_train), nd.array(y_train))\n",
    "dataset_train = gluon.data.ArrayDataset(nd.array(features_train), nd.array(labels_train))\n",
    "dataset_val = gluon.data.ArrayDataset(nd.array(X_val), nd.array(y_val))\n",
    "\n",
    "batch_size = 256\n",
    "data_iter_train = gluon.data.DataLoader(dataset_train, batch_size, shuffle=True)\n",
    "data_iter_val = gluon.data.DataLoader(dataset_val, batch_size)"
   ]
  },
  {
   "cell_type": "code",
   "execution_count": 12,
   "metadata": {
    "ExecuteTime": {
     "end_time": "2018-01-29T02:20:02.664325Z",
     "start_time": "2018-01-29T02:20:02.659768Z"
    }
   },
   "outputs": [
    {
     "data": {
      "text/plain": [
       "(9322, 6016)"
      ]
     },
     "execution_count": 12,
     "metadata": {},
     "output_type": "execute_result"
    }
   ],
   "source": [
    "X_train.shape"
   ]
  },
  {
   "cell_type": "code",
   "execution_count": 13,
   "metadata": {
    "ExecuteTime": {
     "end_time": "2018-01-29T02:20:02.778396Z",
     "start_time": "2018-01-29T02:20:02.665756Z"
    }
   },
   "outputs": [
    {
     "data": {
      "text/plain": [
       "Sequential(\n",
       "  (0): BatchNorm(axis=1, eps=1e-05, momentum=0.9, fix_gamma=False, in_channels=None)\n",
       "  (1): Dense(None -> 1024, linear)\n",
       "  (2): BatchNorm(axis=1, eps=1e-05, momentum=0.9, fix_gamma=False, in_channels=None)\n",
       "  (3): Activation(relu)\n",
       "  (4): Dropout(p = 0.5)\n",
       "  (5): Dense(None -> 120, linear)\n",
       ")"
      ]
     },
     "execution_count": 13,
     "metadata": {},
     "output_type": "execute_result"
    }
   ],
   "source": [
    "ctx = mx.gpu(0)\n",
    "net = nn.Sequential()\n",
    "with net.name_scope():\n",
    "    net.add(nn.BatchNorm())\n",
    "    net.add(nn.Dense(1024))\n",
    "    net.add(nn.BatchNorm())\n",
    "    net.add(nn.Activation('relu'))\n",
    "    net.add(nn.Dropout(0.5))\n",
    "    net.add(nn.Dense(120))\n",
    "\n",
    "net.initialize(ctx=ctx)\n",
    "softmax_cross_entropy = gluon.loss.SoftmaxCrossEntropyLoss()\n",
    "lr_sch = mx.lr_scheduler.FactorScheduler(step=1500, factor=0.5, stop_factor_lr=1e-11)\n",
    "trainer = gluon.Trainer(net.collect_params(), 'adam', \n",
    "                        {'learning_rate': 1e-3, 'lr_scheduler': lr_sch})\n",
    "net"
   ]
  },
  {
   "cell_type": "code",
   "execution_count": 14,
   "metadata": {
    "ExecuteTime": {
     "end_time": "2018-01-29T02:20:59.801824Z",
     "start_time": "2018-01-29T02:20:02.780698Z"
    },
    "scrolled": true
   },
   "outputs": [
    {
     "name": "stdout",
     "output_type": "stream",
     "text": [
      "Epoch 1. loss: 1.0348, acc: 75.11%, val_loss 0.1965, val_acc 93.96%, times 0.66s, lr 0.001\n",
      "Epoch 2. loss: 0.2352, acc: 92.72%, val_loss 0.0939, val_acc 97.66%, times 0.58s, lr 0.001\n",
      "Epoch 3. loss: 0.1452, acc: 95.58%, val_loss 0.0641, val_acc 98.28%, times 0.53s, lr 0.001\n",
      "Epoch 4. loss: 0.1024, acc: 96.90%, val_loss 0.0390, val_acc 98.98%, times 0.54s, lr 0.001\n",
      "Epoch 5. loss: 0.0655, acc: 98.31%, val_loss 0.0236, val_acc 99.77%, times 0.55s, lr 0.001\n",
      "Epoch 6. loss: 0.0537, acc: 98.66%, val_loss 0.0176, val_acc 100.00%, times 0.64s, lr 0.001\n",
      "Epoch 7. loss: 0.0405, acc: 99.14%, val_loss 0.0158, val_acc 99.77%, times 0.55s, lr 0.001\n",
      "Epoch 8. loss: 0.0331, acc: 99.31%, val_loss 0.0104, val_acc 99.92%, times 0.49s, lr 0.001\n",
      "Epoch 9. loss: 0.0264, acc: 99.42%, val_loss 0.0086, val_acc 100.00%, times 0.56s, lr 0.001\n",
      "Epoch 10. loss: 0.0238, acc: 99.46%, val_loss 0.0071, val_acc 99.92%, times 0.59s, lr 0.001\n",
      "Epoch 11. loss: 0.0167, acc: 99.69%, val_loss 0.0078, val_acc 99.84%, times 0.60s, lr 0.001\n",
      "Epoch 12. loss: 0.0155, acc: 99.79%, val_loss 0.0120, val_acc 99.69%, times 0.54s, lr 0.001\n",
      "Epoch 13. loss: 0.0145, acc: 99.76%, val_loss 0.0039, val_acc 100.00%, times 0.59s, lr 0.001\n",
      "Epoch 14. loss: 0.0098, acc: 99.89%, val_loss 0.0033, val_acc 100.00%, times 0.62s, lr 0.001\n",
      "Epoch 15. loss: 0.0096, acc: 99.85%, val_loss 0.0036, val_acc 99.92%, times 0.58s, lr 0.001\n",
      "Epoch 16. loss: 0.0092, acc: 99.87%, val_loss 0.0021, val_acc 100.00%, times 0.56s, lr 0.001\n",
      "Epoch 17. loss: 0.0082, acc: 99.87%, val_loss 0.0017, val_acc 100.00%, times 0.49s, lr 0.001\n",
      "Epoch 18. loss: 0.0072, acc: 99.89%, val_loss 0.0044, val_acc 99.84%, times 0.62s, lr 0.001\n",
      "Epoch 19. loss: 0.0058, acc: 99.97%, val_loss 0.0012, val_acc 100.00%, times 0.59s, lr 0.001\n",
      "Epoch 20. loss: 0.0052, acc: 99.96%, val_loss 0.0008, val_acc 100.00%, times 0.59s, lr 0.001\n",
      "Epoch 21. loss: 0.0057, acc: 99.90%, val_loss 0.0009, val_acc 100.00%, times 0.54s, lr 0.001\n",
      "Epoch 22. loss: 0.0058, acc: 99.88%, val_loss 0.0008, val_acc 100.00%, times 0.59s, lr 0.001\n",
      "Epoch 23. loss: 0.0053, acc: 99.94%, val_loss 0.0007, val_acc 100.00%, times 0.53s, lr 0.001\n",
      "Epoch 24. loss: 0.0037, acc: 99.99%, val_loss 0.0007, val_acc 100.00%, times 0.67s, lr 0.001\n",
      "Epoch 25. loss: 0.0038, acc: 99.94%, val_loss 0.0010, val_acc 100.00%, times 0.55s, lr 0.001\n",
      "Epoch 26. loss: 0.0040, acc: 99.95%, val_loss 0.0006, val_acc 100.00%, times 0.57s, lr 0.001\n",
      "Epoch 27. loss: 0.0038, acc: 99.97%, val_loss 0.0005, val_acc 100.00%, times 0.54s, lr 0.001\n",
      "Epoch 28. loss: 0.0045, acc: 99.96%, val_loss 0.0005, val_acc 100.00%, times 0.50s, lr 0.001\n",
      "Epoch 29. loss: 0.0024, acc: 99.98%, val_loss 0.0005, val_acc 100.00%, times 0.49s, lr 0.001\n",
      "Epoch 30. loss: 0.0027, acc: 99.95%, val_loss 0.0004, val_acc 100.00%, times 0.56s, lr 0.001\n",
      "Epoch 31. loss: 0.0034, acc: 99.98%, val_loss 0.0004, val_acc 100.00%, times 0.57s, lr 0.001\n",
      "Epoch 32. loss: 0.0032, acc: 99.97%, val_loss 0.0004, val_acc 100.00%, times 0.57s, lr 0.001\n",
      "Epoch 33. loss: 0.0020, acc: 99.98%, val_loss 0.0003, val_acc 100.00%, times 0.56s, lr 0.001\n",
      "Epoch 34. loss: 0.0033, acc: 99.96%, val_loss 0.0004, val_acc 100.00%, times 0.56s, lr 0.001\n",
      "Epoch 35. loss: 0.0043, acc: 99.92%, val_loss 0.0003, val_acc 100.00%, times 0.61s, lr 0.001\n",
      "Epoch 36. loss: 0.0051, acc: 99.90%, val_loss 0.0005, val_acc 100.00%, times 0.57s, lr 0.001\n",
      "Epoch 37. loss: 0.0062, acc: 99.90%, val_loss 0.0004, val_acc 100.00%, times 0.58s, lr 0.0005\n",
      "Epoch 38. loss: 0.0056, acc: 99.88%, val_loss 0.0003, val_acc 100.00%, times 0.56s, lr 0.0005\n",
      "Epoch 39. loss: 0.0031, acc: 99.95%, val_loss 0.0003, val_acc 100.00%, times 0.58s, lr 0.0005\n",
      "Epoch 40. loss: 0.0033, acc: 99.94%, val_loss 0.0004, val_acc 100.00%, times 0.56s, lr 0.0005\n",
      "Epoch 41. loss: 0.0019, acc: 99.98%, val_loss 0.0003, val_acc 100.00%, times 0.46s, lr 0.0005\n",
      "Epoch 42. loss: 0.0019, acc: 99.99%, val_loss 0.0002, val_acc 100.00%, times 0.54s, lr 0.0005\n",
      "Epoch 43. loss: 0.0021, acc: 99.99%, val_loss 0.0002, val_acc 100.00%, times 0.59s, lr 0.0005\n",
      "Epoch 44. loss: 0.0035, acc: 99.97%, val_loss 0.0002, val_acc 100.00%, times 0.53s, lr 0.0005\n",
      "Epoch 45. loss: 0.0014, acc: 99.99%, val_loss 0.0002, val_acc 100.00%, times 0.59s, lr 0.0005\n",
      "Epoch 46. loss: 0.0019, acc: 99.99%, val_loss 0.0001, val_acc 100.00%, times 0.57s, lr 0.0005\n",
      "Epoch 47. loss: 0.0017, acc: 99.99%, val_loss 0.0001, val_acc 100.00%, times 0.58s, lr 0.0005\n",
      "Epoch 48. loss: 0.0015, acc: 99.98%, val_loss 0.0001, val_acc 100.00%, times 0.59s, lr 0.0005\n",
      "Epoch 49. loss: 0.0019, acc: 99.99%, val_loss 0.0001, val_acc 100.00%, times 0.56s, lr 0.0005\n",
      "Epoch 50. loss: 0.0008, acc: 100.00%, val_loss 0.0001, val_acc 100.00%, times 0.61s, lr 0.0005\n",
      "Epoch 51. loss: 0.0010, acc: 99.99%, val_loss 0.0001, val_acc 100.00%, times 0.54s, lr 0.0005\n",
      "Epoch 52. loss: 0.0008, acc: 100.00%, val_loss 0.0001, val_acc 100.00%, times 0.52s, lr 0.0005\n",
      "Epoch 53. loss: 0.0017, acc: 99.99%, val_loss 0.0001, val_acc 100.00%, times 0.54s, lr 0.0005\n",
      "Epoch 54. loss: 0.0021, acc: 99.98%, val_loss 0.0001, val_acc 100.00%, times 0.54s, lr 0.0005\n",
      "Epoch 55. loss: 0.0020, acc: 99.98%, val_loss 0.0001, val_acc 100.00%, times 0.59s, lr 0.0005\n",
      "Epoch 56. loss: 0.0007, acc: 99.99%, val_loss 0.0001, val_acc 100.00%, times 0.57s, lr 0.0005\n",
      "Epoch 57. loss: 0.0008, acc: 99.99%, val_loss 0.0001, val_acc 100.00%, times 0.61s, lr 0.0005\n",
      "Epoch 58. loss: 0.0027, acc: 99.98%, val_loss 0.0001, val_acc 100.00%, times 0.56s, lr 0.0005\n",
      "Epoch 59. loss: 0.0006, acc: 100.00%, val_loss 0.0001, val_acc 100.00%, times 0.53s, lr 0.0005\n",
      "Epoch 60. loss: 0.0007, acc: 100.00%, val_loss 0.0001, val_acc 100.00%, times 0.60s, lr 0.0005\n",
      "Epoch 61. loss: 0.0006, acc: 100.00%, val_loss 0.0001, val_acc 100.00%, times 0.69s, lr 0.0005\n",
      "Epoch 62. loss: 0.0005, acc: 100.00%, val_loss 0.0001, val_acc 100.00%, times 0.56s, lr 0.0005\n",
      "Epoch 63. loss: 0.0006, acc: 99.99%, val_loss 0.0001, val_acc 100.00%, times 0.57s, lr 0.0005\n",
      "Epoch 64. loss: 0.0006, acc: 99.99%, val_loss 0.0001, val_acc 100.00%, times 0.54s, lr 0.0005\n",
      "Epoch 65. loss: 0.0012, acc: 99.98%, val_loss 0.0001, val_acc 100.00%, times 0.60s, lr 0.0005\n",
      "Epoch 66. loss: 0.0004, acc: 100.00%, val_loss 0.0001, val_acc 100.00%, times 0.62s, lr 0.0005\n",
      "Epoch 67. loss: 0.0005, acc: 100.00%, val_loss 0.0001, val_acc 100.00%, times 0.54s, lr 0.0005\n",
      "Epoch 68. loss: 0.0006, acc: 99.99%, val_loss 0.0001, val_acc 100.00%, times 0.56s, lr 0.0005\n",
      "Epoch 69. loss: 0.0013, acc: 99.98%, val_loss 0.0001, val_acc 100.00%, times 0.58s, lr 0.0005\n",
      "Epoch 70. loss: 0.0010, acc: 99.99%, val_loss 0.0001, val_acc 100.00%, times 0.59s, lr 0.0005\n",
      "Epoch 71. loss: 0.0005, acc: 100.00%, val_loss 0.0001, val_acc 100.00%, times 0.54s, lr 0.0005\n",
      "Epoch 72. loss: 0.0004, acc: 100.00%, val_loss 0.0001, val_acc 100.00%, times 0.58s, lr 0.0005\n",
      "Epoch 73. loss: 0.0009, acc: 99.99%, val_loss 0.0000, val_acc 100.00%, times 0.59s, lr 0.0005\n",
      "Epoch 74. loss: 0.0008, acc: 99.99%, val_loss 0.0000, val_acc 100.00%, times 0.65s, lr 0.00025\n",
      "Epoch 75. loss: 0.0006, acc: 99.99%, val_loss 0.0000, val_acc 100.00%, times 0.56s, lr 0.00025\n",
      "Epoch 76. loss: 0.0005, acc: 99.99%, val_loss 0.0000, val_acc 100.00%, times 0.52s, lr 0.00025\n",
      "Epoch 77. loss: 0.0004, acc: 100.00%, val_loss 0.0000, val_acc 100.00%, times 0.51s, lr 0.00025\n",
      "Epoch 78. loss: 0.0004, acc: 99.99%, val_loss 0.0000, val_acc 100.00%, times 0.53s, lr 0.00025\n",
      "Epoch 79. loss: 0.0010, acc: 99.98%, val_loss 0.0000, val_acc 100.00%, times 0.69s, lr 0.00025\n",
      "Epoch 80. loss: 0.0004, acc: 100.00%, val_loss 0.0000, val_acc 100.00%, times 0.61s, lr 0.00025\n",
      "Epoch 81. loss: 0.0006, acc: 99.99%, val_loss 0.0000, val_acc 100.00%, times 0.59s, lr 0.00025\n",
      "Epoch 82. loss: 0.0011, acc: 99.98%, val_loss 0.0000, val_acc 100.00%, times 0.57s, lr 0.00025\n",
      "Epoch 83. loss: 0.0010, acc: 99.99%, val_loss 0.0000, val_acc 100.00%, times 0.57s, lr 0.00025\n",
      "Epoch 84. loss: 0.0007, acc: 99.99%, val_loss 0.0000, val_acc 100.00%, times 0.58s, lr 0.00025\n",
      "Epoch 85. loss: 0.0003, acc: 100.00%, val_loss 0.0000, val_acc 100.00%, times 0.58s, lr 0.00025\n",
      "Epoch 86. loss: 0.0015, acc: 99.99%, val_loss 0.0000, val_acc 100.00%, times 0.55s, lr 0.00025\n",
      "Epoch 87. loss: 0.0007, acc: 99.99%, val_loss 0.0000, val_acc 100.00%, times 0.52s, lr 0.00025\n",
      "Epoch 88. loss: 0.0010, acc: 99.98%, val_loss 0.0000, val_acc 100.00%, times 0.52s, lr 0.00025\n"
     ]
    },
    {
     "name": "stdout",
     "output_type": "stream",
     "text": [
      "Epoch 89. loss: 0.0007, acc: 99.99%, val_loss 0.0000, val_acc 100.00%, times 0.57s, lr 0.00025\n",
      "Epoch 90. loss: 0.0008, acc: 99.99%, val_loss 0.0000, val_acc 100.00%, times 0.57s, lr 0.00025\n",
      "Epoch 91. loss: 0.0004, acc: 99.99%, val_loss 0.0000, val_acc 100.00%, times 0.61s, lr 0.00025\n",
      "Epoch 92. loss: 0.0006, acc: 99.99%, val_loss 0.0000, val_acc 100.00%, times 0.58s, lr 0.00025\n",
      "Epoch 93. loss: 0.0009, acc: 99.98%, val_loss 0.0000, val_acc 100.00%, times 0.54s, lr 0.00025\n",
      "Epoch 94. loss: 0.0006, acc: 99.99%, val_loss 0.0000, val_acc 100.00%, times 0.53s, lr 0.00025\n",
      "Epoch 95. loss: 0.0009, acc: 99.98%, val_loss 0.0000, val_acc 100.00%, times 0.54s, lr 0.00025\n",
      "Epoch 96. loss: 0.0010, acc: 99.98%, val_loss 0.0000, val_acc 100.00%, times 0.51s, lr 0.00025\n",
      "Epoch 97. loss: 0.0022, acc: 99.98%, val_loss 0.0000, val_acc 100.00%, times 0.58s, lr 0.00025\n",
      "Epoch 98. loss: 0.0002, acc: 100.00%, val_loss 0.0000, val_acc 100.00%, times 0.66s, lr 0.00025\n",
      "Epoch 99. loss: 0.0008, acc: 99.98%, val_loss 0.0000, val_acc 100.00%, times 0.57s, lr 0.00025\n",
      "Epoch 100. loss: 0.0010, acc: 99.98%, val_loss 0.0000, val_acc 100.00%, times 0.59s, lr 0.00025\n"
     ]
    }
   ],
   "source": [
    "from time import time\n",
    "for epoch in range(100):\n",
    "    start = time()\n",
    "    train_loss = 0.\n",
    "    train_acc = 0.\n",
    "    steps = len(data_iter_train)\n",
    "    for data, label in data_iter_train:\n",
    "        data, label = data.as_in_context(ctx), label.as_in_context(ctx)\n",
    "        \n",
    "        with autograd.record():\n",
    "            output = net(data)\n",
    "            loss = softmax_cross_entropy(output, label)\n",
    "        \n",
    "        loss.backward()\n",
    "        trainer.step(batch_size)\n",
    "        \n",
    "        train_loss += nd.mean(loss).asscalar()\n",
    "        train_acc += accuracy(output, label)\n",
    "    \n",
    "    val_loss, val_acc = evaluate(net, data_iter_val)\n",
    "    end = time() - start\n",
    "    print(\"Epoch %d. loss: %.4f, acc: %.2f%%, val_loss %.4f, val_acc %.2f%%, times %.2fs, lr %s\" % (\n",
    "        epoch+1, train_loss/steps, train_acc/steps*100, val_loss, val_acc*100, end, str(trainer.learning_rate)))"
   ]
  },
  {
   "cell_type": "code",
   "execution_count": 15,
   "metadata": {
    "ExecuteTime": {
     "end_time": "2018-01-29T02:20:59.928412Z",
     "start_time": "2018-01-29T02:20:59.803985Z"
    }
   },
   "outputs": [],
   "source": [
    "features_resnet_test = features_resnet_test.reshape(features_resnet_test.shape[:2])\n",
    "features_inception_test = features_inception_test.reshape(features_inception_test.shape[:2])\n",
    "\n",
    "features_test = np.concatenate([features_resnet_test, features_densenet_test, features_inception_test], axis=-1)"
   ]
  },
  {
   "cell_type": "code",
   "execution_count": 16,
   "metadata": {
    "ExecuteTime": {
     "end_time": "2018-01-29T02:21:00.250586Z",
     "start_time": "2018-01-29T02:20:59.930529Z"
    }
   },
   "outputs": [],
   "source": [
    "output = nd.softmax(net(nd.array(features_test).as_in_context(ctx))).asnumpy()"
   ]
  },
  {
   "cell_type": "code",
   "execution_count": 17,
   "metadata": {
    "ExecuteTime": {
     "end_time": "2018-01-29T02:21:02.934066Z",
     "start_time": "2018-01-29T02:21:00.253337Z"
    }
   },
   "outputs": [],
   "source": [
    "df = pd.read_csv('sample_submission.csv')\n",
    "\n",
    "for i, c in enumerate(df.columns[1:]):\n",
    "    df[c] = output[:,i]\n",
    "\n",
    "df.to_csv('pred.csv', index=None)"
   ]
  }
 ],
 "metadata": {
  "kernelspec": {
   "display_name": "Python 3",
   "language": "python",
   "name": "python3"
  },
  "language_info": {
   "codemirror_mode": {
    "name": "ipython",
    "version": 3
   },
   "file_extension": ".py",
   "mimetype": "text/x-python",
   "name": "python",
   "nbconvert_exporter": "python",
   "pygments_lexer": "ipython3",
   "version": "3.6.4"
  }
 },
 "nbformat": 4,
 "nbformat_minor": 2
}
