{
 "cells": [
  {
   "cell_type": "code",
   "execution_count": 1,
   "metadata": {
    "ExecuteTime": {
     "end_time": "2018-01-26T08:59:03.501837Z",
     "start_time": "2018-01-26T08:59:02.170600Z"
    }
   },
   "outputs": [],
   "source": [
    "%matplotlib inline\n",
    "import os\n",
    "import shutil\n",
    "import sys\n",
    "import numpy as np\n",
    "import pandas as pd\n",
    "import mxnet as mx\n",
    "from mxnet import gluon\n",
    "from mxnet import image\n",
    "from mxnet import nd\n",
    "from mxnet import init\n",
    "from mxnet import autograd\n",
    "from mxnet.gluon.data import vision\n",
    "from mxnet.gluon import nn\n",
    "from mxnet.gluon.model_zoo import vision as models\n",
    "from PIL import Image\n",
    "from time import time\n",
    "from tqdm import tqdm\n",
    "import h5py\n",
    "from sklearn.model_selection import train_test_split"
   ]
  },
  {
   "cell_type": "code",
   "execution_count": 2,
   "metadata": {
    "ExecuteTime": {
     "end_time": "2018-01-26T08:59:03.526633Z",
     "start_time": "2018-01-26T08:59:03.505119Z"
    }
   },
   "outputs": [],
   "source": [
    "def accuracy(output, labels):\n",
    "    return nd.mean(nd.argmax(output, axis=1) == labels).asscalar()\n",
    "\n",
    "def evaluate(net, data_iter):\n",
    "    loss, acc, n = 0., 0., 0.\n",
    "    steps = len(data_iter)\n",
    "    for data, label in data_iter:\n",
    "        data, label = data.as_in_context(ctx), label.as_in_context(ctx)\n",
    "        output = net(data)\n",
    "        acc += accuracy(output, label)\n",
    "        loss += nd.mean(softmax_cross_entropy(output, label)).asscalar()\n",
    "    return loss/steps, acc/steps"
   ]
  },
  {
   "cell_type": "code",
   "execution_count": 3,
   "metadata": {
    "ExecuteTime": {
     "end_time": "2018-01-26T08:59:04.752951Z",
     "start_time": "2018-01-26T08:59:03.528336Z"
    }
   },
   "outputs": [],
   "source": [
    "with h5py.File('features.h5', 'r') as f:\n",
    "    features_vgg_train = np.array(f['vgg'])\n",
    "    features_resnet_train = np.array(f['resnet'])\n",
    "    features_densenet_train = np.array(f['densenet'])\n",
    "    features_inception_train = np.array(f['inception'])\n",
    "    labels_train = np.array(f['labels'])"
   ]
  },
  {
   "cell_type": "code",
   "execution_count": 4,
   "metadata": {
    "ExecuteTime": {
     "end_time": "2018-01-26T08:59:05.104574Z",
     "start_time": "2018-01-26T08:59:04.754772Z"
    }
   },
   "outputs": [],
   "source": [
    "with h5py.File('features_test.h5', 'r') as f:\n",
    "    features_vgg_test = np.array(f['vgg'])\n",
    "    features_resnet_test = np.array(f['resnet'])\n",
    "    features_densenet_test = np.array(f['densenet'])\n",
    "    features_inception_test = np.array(f['inception'])"
   ]
  },
  {
   "cell_type": "code",
   "execution_count": 5,
   "metadata": {
    "ExecuteTime": {
     "end_time": "2018-01-26T08:59:05.433229Z",
     "start_time": "2018-01-26T08:59:05.106288Z"
    }
   },
   "outputs": [],
   "source": [
    "features_resnet_train = features_resnet_train.reshape(features_resnet_train.shape[:2])\n",
    "features_inception_train = features_inception_train.reshape(features_inception_train.shape[:2])\n",
    "\n",
    "features_train = np.concatenate([features_resnet_train, features_densenet_train, features_inception_train], axis=-1)"
   ]
  },
  {
   "cell_type": "code",
   "execution_count": 6,
   "metadata": {
    "ExecuteTime": {
     "end_time": "2018-01-26T08:59:06.043355Z",
     "start_time": "2018-01-26T08:59:05.435071Z"
    }
   },
   "outputs": [],
   "source": [
    "X_train, X_val, y_train, y_val = train_test_split(features_train, labels_train, test_size=0.1)\n",
    "\n",
    "# dataset_train = gluon.data.ArrayDataset(nd.array(X_train), nd.array(y_train))\n",
    "dataset_train = gluon.data.ArrayDataset(nd.array(features_train), nd.array(labels_train))\n",
    "dataset_val = gluon.data.ArrayDataset(nd.array(X_val), nd.array(y_val))\n",
    "\n",
    "batch_size = 256\n",
    "data_iter_train = gluon.data.DataLoader(dataset_train, batch_size, shuffle=True)\n",
    "data_iter_val = gluon.data.DataLoader(dataset_val, batch_size)"
   ]
  },
  {
   "cell_type": "code",
   "execution_count": 7,
   "metadata": {
    "ExecuteTime": {
     "end_time": "2018-01-26T08:59:06.053834Z",
     "start_time": "2018-01-26T08:59:06.046302Z"
    }
   },
   "outputs": [
    {
     "data": {
      "text/plain": [
       "(27721, 6016)"
      ]
     },
     "execution_count": 7,
     "metadata": {},
     "output_type": "execute_result"
    }
   ],
   "source": [
    "X_train.shape"
   ]
  },
  {
   "cell_type": "code",
   "execution_count": 8,
   "metadata": {
    "ExecuteTime": {
     "end_time": "2018-01-26T08:59:09.106797Z",
     "start_time": "2018-01-26T08:59:06.056393Z"
    }
   },
   "outputs": [
    {
     "data": {
      "text/plain": [
       "Sequential(\n",
       "  (0): BatchNorm(axis=1, eps=1e-05, momentum=0.9, fix_gamma=False, in_channels=None)\n",
       "  (1): Dense(None -> 1024, linear)\n",
       "  (2): BatchNorm(axis=1, eps=1e-05, momentum=0.9, fix_gamma=False, in_channels=None)\n",
       "  (3): Activation(relu)\n",
       "  (4): Dropout(p = 0.5)\n",
       "  (5): Dense(None -> 120, linear)\n",
       ")"
      ]
     },
     "execution_count": 8,
     "metadata": {},
     "output_type": "execute_result"
    }
   ],
   "source": [
    "ctx = mx.gpu(0)\n",
    "net = nn.Sequential()\n",
    "with net.name_scope():\n",
    "    net.add(nn.BatchNorm())\n",
    "    net.add(nn.Dense(1024))\n",
    "    net.add(nn.BatchNorm())\n",
    "    net.add(nn.Activation('relu'))\n",
    "    net.add(nn.Dropout(0.5))\n",
    "    net.add(nn.Dense(120))\n",
    "\n",
    "net.initialize(ctx=ctx)\n",
    "softmax_cross_entropy = gluon.loss.SoftmaxCrossEntropyLoss()\n",
    "lr_sch = mx.lr_scheduler.FactorScheduler(step=1500, factor=0.5, stop_factor_lr=1e-11)\n",
    "trainer = gluon.Trainer(net.collect_params(), 'adam', \n",
    "                        {'learning_rate': 1e-3, 'lr_scheduler': lr_sch})\n",
    "net"
   ]
  },
  {
   "cell_type": "code",
   "execution_count": 9,
   "metadata": {
    "ExecuteTime": {
     "end_time": "2018-01-26T09:01:57.177673Z",
     "start_time": "2018-01-26T08:59:09.109613Z"
    },
    "scrolled": true
   },
   "outputs": [
    {
     "name": "stdout",
     "output_type": "stream",
     "text": [
      "Epoch 1. loss: 0.5446, acc: 85.47%, val_loss 0.1422, val_acc 95.31%, times 1.89s, lr 0.001\n",
      "Epoch 2. loss: 0.1710, acc: 94.67%, val_loss 0.0769, val_acc 97.93%, times 1.56s, lr 0.001\n",
      "Epoch 3. loss: 0.1104, acc: 96.50%, val_loss 0.0539, val_acc 98.53%, times 1.65s, lr 0.001\n",
      "Epoch 4. loss: 0.0783, acc: 97.49%, val_loss 0.0346, val_acc 99.10%, times 1.75s, lr 0.001\n",
      "Epoch 5. loss: 0.0575, acc: 98.26%, val_loss 0.0212, val_acc 99.49%, times 1.73s, lr 0.001\n",
      "Epoch 6. loss: 0.0458, acc: 98.65%, val_loss 0.0196, val_acc 99.40%, times 1.67s, lr 0.001\n",
      "Epoch 7. loss: 0.0385, acc: 98.87%, val_loss 0.0283, val_acc 99.22%, times 1.65s, lr 0.001\n",
      "Epoch 8. loss: 0.0376, acc: 98.90%, val_loss 0.0205, val_acc 99.37%, times 1.67s, lr 0.001\n",
      "Epoch 9. loss: 0.0336, acc: 99.00%, val_loss 0.0257, val_acc 99.22%, times 1.66s, lr 0.001\n",
      "Epoch 10. loss: 0.0312, acc: 99.16%, val_loss 0.0132, val_acc 99.70%, times 1.68s, lr 0.001\n",
      "Epoch 11. loss: 0.0278, acc: 99.24%, val_loss 0.0090, val_acc 99.79%, times 1.63s, lr 0.001\n",
      "Epoch 12. loss: 0.0278, acc: 99.24%, val_loss 0.0093, val_acc 99.70%, times 1.72s, lr 0.001\n",
      "Epoch 13. loss: 0.0219, acc: 99.45%, val_loss 0.0056, val_acc 99.91%, times 1.75s, lr 0.0005\n",
      "Epoch 14. loss: 0.0143, acc: 99.68%, val_loss 0.0045, val_acc 99.82%, times 1.69s, lr 0.0005\n",
      "Epoch 15. loss: 0.0138, acc: 99.65%, val_loss 0.0038, val_acc 99.91%, times 1.67s, lr 0.0005\n",
      "Epoch 16. loss: 0.0131, acc: 99.71%, val_loss 0.0055, val_acc 99.88%, times 1.68s, lr 0.0005\n",
      "Epoch 17. loss: 0.0132, acc: 99.70%, val_loss 0.0038, val_acc 99.85%, times 1.62s, lr 0.0005\n",
      "Epoch 18. loss: 0.0117, acc: 99.71%, val_loss 0.0026, val_acc 99.94%, times 1.73s, lr 0.0005\n",
      "Epoch 19. loss: 0.0108, acc: 99.72%, val_loss 0.0048, val_acc 99.85%, times 1.74s, lr 0.0005\n",
      "Epoch 20. loss: 0.0117, acc: 99.72%, val_loss 0.0045, val_acc 99.85%, times 1.67s, lr 0.0005\n",
      "Epoch 21. loss: 0.0119, acc: 99.69%, val_loss 0.0026, val_acc 99.91%, times 1.71s, lr 0.0005\n",
      "Epoch 22. loss: 0.0119, acc: 99.71%, val_loss 0.0057, val_acc 99.85%, times 1.76s, lr 0.0005\n",
      "Epoch 23. loss: 0.0118, acc: 99.70%, val_loss 0.0059, val_acc 99.85%, times 1.73s, lr 0.0005\n",
      "Epoch 24. loss: 0.0126, acc: 99.71%, val_loss 0.0044, val_acc 99.88%, times 1.67s, lr 0.0005\n",
      "Epoch 25. loss: 0.0130, acc: 99.70%, val_loss 0.0026, val_acc 99.88%, times 1.65s, lr 0.00025\n",
      "Epoch 26. loss: 0.0107, acc: 99.75%, val_loss 0.0016, val_acc 99.94%, times 1.67s, lr 0.00025\n",
      "Epoch 27. loss: 0.0090, acc: 99.76%, val_loss 0.0013, val_acc 99.97%, times 1.70s, lr 0.00025\n",
      "Epoch 28. loss: 0.0085, acc: 99.75%, val_loss 0.0029, val_acc 99.91%, times 1.74s, lr 0.00025\n",
      "Epoch 29. loss: 0.0089, acc: 99.79%, val_loss 0.0021, val_acc 99.88%, times 1.80s, lr 0.00025\n",
      "Epoch 30. loss: 0.0074, acc: 99.84%, val_loss 0.0032, val_acc 99.91%, times 1.75s, lr 0.00025\n",
      "Epoch 31. loss: 0.0081, acc: 99.77%, val_loss 0.0019, val_acc 99.94%, times 1.80s, lr 0.00025\n",
      "Epoch 32. loss: 0.0074, acc: 99.77%, val_loss 0.0022, val_acc 99.91%, times 1.63s, lr 0.00025\n",
      "Epoch 33. loss: 0.0071, acc: 99.79%, val_loss 0.0017, val_acc 99.97%, times 1.62s, lr 0.00025\n",
      "Epoch 34. loss: 0.0069, acc: 99.81%, val_loss 0.0030, val_acc 99.94%, times 1.73s, lr 0.00025\n",
      "Epoch 35. loss: 0.0076, acc: 99.77%, val_loss 0.0033, val_acc 99.88%, times 1.82s, lr 0.00025\n",
      "Epoch 36. loss: 0.0080, acc: 99.77%, val_loss 0.0037, val_acc 99.82%, times 1.71s, lr 0.00025\n",
      "Epoch 37. loss: 0.0074, acc: 99.81%, val_loss 0.0026, val_acc 99.94%, times 1.71s, lr 0.00025\n",
      "Epoch 38. loss: 0.0070, acc: 99.81%, val_loss 0.0018, val_acc 99.91%, times 1.62s, lr 0.000125\n",
      "Epoch 39. loss: 0.0056, acc: 99.81%, val_loss 0.0020, val_acc 99.85%, times 1.66s, lr 0.000125\n",
      "Epoch 40. loss: 0.0071, acc: 99.78%, val_loss 0.0024, val_acc 99.88%, times 1.61s, lr 0.000125\n",
      "Epoch 41. loss: 0.0063, acc: 99.81%, val_loss 0.0026, val_acc 99.88%, times 1.86s, lr 0.000125\n",
      "Epoch 42. loss: 0.0058, acc: 99.80%, val_loss 0.0021, val_acc 99.88%, times 1.65s, lr 0.000125\n",
      "Epoch 43. loss: 0.0052, acc: 99.81%, val_loss 0.0017, val_acc 99.91%, times 1.79s, lr 0.000125\n",
      "Epoch 44. loss: 0.0059, acc: 99.83%, val_loss 0.0014, val_acc 99.97%, times 1.67s, lr 0.000125\n",
      "Epoch 45. loss: 0.0051, acc: 99.85%, val_loss 0.0025, val_acc 99.88%, times 1.63s, lr 0.000125\n",
      "Epoch 46. loss: 0.0060, acc: 99.82%, val_loss 0.0021, val_acc 99.85%, times 1.56s, lr 0.000125\n",
      "Epoch 47. loss: 0.0060, acc: 99.80%, val_loss 0.0026, val_acc 99.88%, times 1.77s, lr 0.000125\n",
      "Epoch 48. loss: 0.0054, acc: 99.81%, val_loss 0.0019, val_acc 99.88%, times 1.77s, lr 0.000125\n",
      "Epoch 49. loss: 0.0067, acc: 99.78%, val_loss 0.0017, val_acc 99.94%, times 1.69s, lr 0.000125\n",
      "Epoch 50. loss: 0.0066, acc: 99.80%, val_loss 0.0011, val_acc 99.94%, times 1.60s, lr 6.25e-05\n",
      "Epoch 51. loss: 0.0051, acc: 99.83%, val_loss 0.0012, val_acc 99.94%, times 1.78s, lr 6.25e-05\n",
      "Epoch 52. loss: 0.0050, acc: 99.83%, val_loss 0.0013, val_acc 99.94%, times 1.73s, lr 6.25e-05\n",
      "Epoch 53. loss: 0.0055, acc: 99.79%, val_loss 0.0015, val_acc 99.88%, times 1.68s, lr 6.25e-05\n",
      "Epoch 54. loss: 0.0052, acc: 99.82%, val_loss 0.0014, val_acc 99.91%, times 1.62s, lr 6.25e-05\n",
      "Epoch 55. loss: 0.0048, acc: 99.84%, val_loss 0.0022, val_acc 99.88%, times 1.63s, lr 6.25e-05\n",
      "Epoch 56. loss: 0.0047, acc: 99.83%, val_loss 0.0017, val_acc 99.91%, times 1.51s, lr 6.25e-05\n",
      "Epoch 57. loss: 0.0054, acc: 99.80%, val_loss 0.0019, val_acc 99.88%, times 1.72s, lr 6.25e-05\n",
      "Epoch 58. loss: 0.0048, acc: 99.80%, val_loss 0.0018, val_acc 99.91%, times 1.69s, lr 6.25e-05\n",
      "Epoch 59. loss: 0.0046, acc: 99.85%, val_loss 0.0015, val_acc 99.91%, times 1.80s, lr 6.25e-05\n",
      "Epoch 60. loss: 0.0054, acc: 99.80%, val_loss 0.0011, val_acc 99.97%, times 1.71s, lr 6.25e-05\n",
      "Epoch 61. loss: 0.0043, acc: 99.83%, val_loss 0.0015, val_acc 99.91%, times 1.78s, lr 6.25e-05\n",
      "Epoch 62. loss: 0.0052, acc: 99.80%, val_loss 0.0018, val_acc 99.94%, times 1.66s, lr 3.125e-05\n",
      "Epoch 63. loss: 0.0042, acc: 99.84%, val_loss 0.0019, val_acc 99.94%, times 1.71s, lr 3.125e-05\n",
      "Epoch 64. loss: 0.0043, acc: 99.85%, val_loss 0.0017, val_acc 99.94%, times 1.70s, lr 3.125e-05\n",
      "Epoch 65. loss: 0.0050, acc: 99.81%, val_loss 0.0015, val_acc 99.94%, times 1.61s, lr 3.125e-05\n",
      "Epoch 66. loss: 0.0045, acc: 99.83%, val_loss 0.0014, val_acc 99.91%, times 1.77s, lr 3.125e-05\n",
      "Epoch 67. loss: 0.0049, acc: 99.83%, val_loss 0.0016, val_acc 99.91%, times 1.66s, lr 3.125e-05\n",
      "Epoch 68. loss: 0.0045, acc: 99.83%, val_loss 0.0014, val_acc 99.91%, times 1.58s, lr 3.125e-05\n",
      "Epoch 69. loss: 0.0040, acc: 99.84%, val_loss 0.0014, val_acc 99.91%, times 1.53s, lr 3.125e-05\n",
      "Epoch 70. loss: 0.0044, acc: 99.83%, val_loss 0.0016, val_acc 99.91%, times 1.70s, lr 3.125e-05\n",
      "Epoch 71. loss: 0.0041, acc: 99.82%, val_loss 0.0016, val_acc 99.91%, times 1.71s, lr 3.125e-05\n",
      "Epoch 72. loss: 0.0047, acc: 99.83%, val_loss 0.0016, val_acc 99.88%, times 1.78s, lr 3.125e-05\n",
      "Epoch 73. loss: 0.0053, acc: 99.80%, val_loss 0.0017, val_acc 99.88%, times 1.58s, lr 3.125e-05\n",
      "Epoch 74. loss: 0.0041, acc: 99.82%, val_loss 0.0015, val_acc 99.91%, times 1.65s, lr 3.125e-05\n",
      "Epoch 75. loss: 0.0036, acc: 99.85%, val_loss 0.0016, val_acc 99.88%, times 1.66s, lr 1.5625e-05\n",
      "Epoch 76. loss: 0.0036, acc: 99.87%, val_loss 0.0018, val_acc 99.88%, times 1.49s, lr 1.5625e-05\n",
      "Epoch 77. loss: 0.0044, acc: 99.81%, val_loss 0.0016, val_acc 99.94%, times 1.55s, lr 1.5625e-05\n",
      "Epoch 78. loss: 0.0041, acc: 99.84%, val_loss 0.0016, val_acc 99.91%, times 1.79s, lr 1.5625e-05\n",
      "Epoch 79. loss: 0.0043, acc: 99.81%, val_loss 0.0016, val_acc 99.91%, times 1.68s, lr 1.5625e-05\n",
      "Epoch 80. loss: 0.0042, acc: 99.84%, val_loss 0.0015, val_acc 99.91%, times 1.58s, lr 1.5625e-05\n",
      "Epoch 81. loss: 0.0035, acc: 99.83%, val_loss 0.0016, val_acc 99.91%, times 1.66s, lr 1.5625e-05\n",
      "Epoch 82. loss: 0.0040, acc: 99.84%, val_loss 0.0015, val_acc 99.91%, times 1.49s, lr 1.5625e-05\n",
      "Epoch 83. loss: 0.0047, acc: 99.82%, val_loss 0.0013, val_acc 99.94%, times 1.76s, lr 1.5625e-05\n",
      "Epoch 84. loss: 0.0040, acc: 99.84%, val_loss 0.0013, val_acc 99.91%, times 1.80s, lr 1.5625e-05\n",
      "Epoch 85. loss: 0.0043, acc: 99.86%, val_loss 0.0014, val_acc 99.91%, times 1.78s, lr 1.5625e-05\n",
      "Epoch 86. loss: 0.0035, acc: 99.84%, val_loss 0.0013, val_acc 99.91%, times 1.65s, lr 1.5625e-05\n",
      "Epoch 87. loss: 0.0041, acc: 99.83%, val_loss 0.0013, val_acc 99.94%, times 1.54s, lr 7.8125e-06\n"
     ]
    },
    {
     "name": "stdout",
     "output_type": "stream",
     "text": [
      "Epoch 88. loss: 0.0040, acc: 99.81%, val_loss 0.0013, val_acc 99.91%, times 1.64s, lr 7.8125e-06\n",
      "Epoch 89. loss: 0.0035, acc: 99.85%, val_loss 0.0014, val_acc 99.91%, times 1.70s, lr 7.8125e-06\n",
      "Epoch 90. loss: 0.0036, acc: 99.84%, val_loss 0.0013, val_acc 99.91%, times 1.77s, lr 7.8125e-06\n",
      "Epoch 91. loss: 0.0030, acc: 99.88%, val_loss 0.0013, val_acc 99.91%, times 1.58s, lr 7.8125e-06\n",
      "Epoch 92. loss: 0.0042, acc: 99.84%, val_loss 0.0014, val_acc 99.91%, times 1.45s, lr 7.8125e-06\n",
      "Epoch 93. loss: 0.0043, acc: 99.81%, val_loss 0.0014, val_acc 99.91%, times 1.67s, lr 7.8125e-06\n",
      "Epoch 94. loss: 0.0042, acc: 99.82%, val_loss 0.0014, val_acc 99.91%, times 1.65s, lr 7.8125e-06\n",
      "Epoch 95. loss: 0.0033, acc: 99.87%, val_loss 0.0014, val_acc 99.91%, times 1.68s, lr 7.8125e-06\n",
      "Epoch 96. loss: 0.0036, acc: 99.83%, val_loss 0.0015, val_acc 99.88%, times 1.70s, lr 7.8125e-06\n",
      "Epoch 97. loss: 0.0038, acc: 99.84%, val_loss 0.0015, val_acc 99.88%, times 1.71s, lr 7.8125e-06\n",
      "Epoch 98. loss: 0.0037, acc: 99.84%, val_loss 0.0015, val_acc 99.88%, times 1.63s, lr 7.8125e-06\n",
      "Epoch 99. loss: 0.0040, acc: 99.83%, val_loss 0.0015, val_acc 99.88%, times 1.53s, lr 7.8125e-06\n",
      "Epoch 100. loss: 0.0034, acc: 99.85%, val_loss 0.0014, val_acc 99.91%, times 1.65s, lr 3.90625e-06\n"
     ]
    }
   ],
   "source": [
    "from time import time\n",
    "for epoch in range(100):\n",
    "    start = time()\n",
    "    train_loss = 0.\n",
    "    train_acc = 0.\n",
    "    steps = len(data_iter_train)\n",
    "    for data, label in data_iter_train:\n",
    "        data, label = data.as_in_context(ctx), label.as_in_context(ctx)\n",
    "        \n",
    "        with autograd.record():\n",
    "            output = net(data)\n",
    "            loss = softmax_cross_entropy(output, label)\n",
    "        \n",
    "        loss.backward()\n",
    "        trainer.step(batch_size)\n",
    "        \n",
    "        train_loss += nd.mean(loss).asscalar()\n",
    "        train_acc += accuracy(output, label)\n",
    "    \n",
    "    val_loss, val_acc = evaluate(net, data_iter_val)\n",
    "    end = time() - start\n",
    "    print(\"Epoch %d. loss: %.4f, acc: %.2f%%, val_loss %.4f, val_acc %.2f%%, times %.2fs, lr %s\" % (\n",
    "        epoch+1, train_loss/steps, train_acc/steps*100, val_loss, val_acc*100, end, str(trainer.learning_rate)))"
   ]
  },
  {
   "cell_type": "code",
   "execution_count": 10,
   "metadata": {
    "ExecuteTime": {
     "end_time": "2018-01-26T09:01:57.362660Z",
     "start_time": "2018-01-26T09:01:57.180162Z"
    }
   },
   "outputs": [],
   "source": [
    "features_resnet_test = features_resnet_test.reshape(features_resnet_test.shape[:2])\n",
    "features_inception_test = features_inception_test.reshape(features_inception_test.shape[:2])\n",
    "\n",
    "features_test = np.concatenate([features_resnet_test, features_densenet_test, features_inception_test], axis=-1)"
   ]
  },
  {
   "cell_type": "code",
   "execution_count": 11,
   "metadata": {
    "ExecuteTime": {
     "end_time": "2018-01-26T09:01:57.693834Z",
     "start_time": "2018-01-26T09:01:57.365553Z"
    }
   },
   "outputs": [],
   "source": [
    "output = nd.softmax(net(nd.array(features_test).as_in_context(ctx))).asnumpy()"
   ]
  },
  {
   "cell_type": "code",
   "execution_count": 12,
   "metadata": {
    "ExecuteTime": {
     "end_time": "2018-01-26T09:02:00.280147Z",
     "start_time": "2018-01-26T09:01:57.696781Z"
    }
   },
   "outputs": [],
   "source": [
    "df = pd.read_csv('sample_submission.csv')\n",
    "\n",
    "for i, c in enumerate(df.columns[1:]):\n",
    "    df[c] = output[:,i]\n",
    "\n",
    "df.to_csv('pred.csv', index=None)"
   ]
  },
  {
   "cell_type": "code",
   "execution_count": 13,
   "metadata": {
    "ExecuteTime": {
     "end_time": "2018-01-26T09:49:29.107259Z",
     "start_time": "2018-01-26T09:49:29.092994Z"
    }
   },
   "outputs": [],
   "source": [
    "df2 = df.copy()"
   ]
  },
  {
   "cell_type": "code",
   "execution_count": 15,
   "metadata": {
    "ExecuteTime": {
     "end_time": "2018-01-26T10:00:21.688669Z",
     "start_time": "2018-01-26T10:00:21.679506Z"
    }
   },
   "outputs": [
    {
     "data": {
      "text/plain": [
       "array([61, 94, 40, ..., 36, 70, 59])"
      ]
     },
     "execution_count": 15,
     "metadata": {},
     "output_type": "execute_result"
    }
   ],
   "source": [
    "output.argmax(axis=1)"
   ]
  },
  {
   "cell_type": "code",
   "execution_count": 24,
   "metadata": {
    "ExecuteTime": {
     "end_time": "2018-01-26T10:17:25.123971Z",
     "start_time": "2018-01-26T10:17:25.119822Z"
    }
   },
   "outputs": [],
   "source": [
    "labels = df.columns[1:]"
   ]
  },
  {
   "cell_type": "code",
   "execution_count": 25,
   "metadata": {
    "ExecuteTime": {
     "end_time": "2018-01-26T10:17:25.333001Z",
     "start_time": "2018-01-26T10:17:25.327415Z"
    }
   },
   "outputs": [],
   "source": [
    "def mkdir_if_not_exist(path):\n",
    "    if not os.path.exists(os.path.join(*path)):\n",
    "        os.makedirs(os.path.join(*path))"
   ]
  },
  {
   "cell_type": "code",
   "execution_count": 34,
   "metadata": {
    "ExecuteTime": {
     "end_time": "2018-01-26T10:19:27.162393Z",
     "start_time": "2018-01-26T10:19:25.651052Z"
    },
    "scrolled": true
   },
   "outputs": [],
   "source": [
    "for i, l in zip(df['id'], output.argmax(axis=1)):\n",
    "    if not os.path.exists(os.path.join('/home/samael/kaggle/dogs/data2/train2', labels[l])):\n",
    "        os.makedirs(os.path.join('/home/samael/kaggle/dogs/data2/train2', labels[l]))\n",
    "    shutil.copy('/home/samael/kaggle/dogs/data2/test/unknown/' + i + '.jpg', os.path.join('/home/samael/kaggle/dogs/data2/train2', labels[l]))"
   ]
  }
 ],
 "metadata": {
  "kernelspec": {
   "display_name": "Python 3",
   "language": "python",
   "name": "python3"
  },
  "language_info": {
   "codemirror_mode": {
    "name": "ipython",
    "version": 3
   },
   "file_extension": ".py",
   "mimetype": "text/x-python",
   "name": "python",
   "nbconvert_exporter": "python",
   "pygments_lexer": "ipython3",
   "version": "3.6.4"
  }
 },
 "nbformat": 4,
 "nbformat_minor": 2
}
